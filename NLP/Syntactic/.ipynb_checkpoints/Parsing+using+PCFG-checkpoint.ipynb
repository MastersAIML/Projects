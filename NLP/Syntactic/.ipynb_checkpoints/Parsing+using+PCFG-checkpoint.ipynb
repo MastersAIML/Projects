{
 "cells": [
  {
   "cell_type": "code",
   "execution_count": null,
   "metadata": {},
   "outputs": [],
   "source": [
    "import nltk"
   ]
  },
  {
   "cell_type": "code",
   "execution_count": null,
   "metadata": {},
   "outputs": [],
   "source": [
    "#define the grammar for pcfg\n",
    "pcfg_grammar = nltk.PCFG.fromstring(\"\"\"\n",
    "    S -> NP VP [1.0] \n",
    "    PP -> P NP [1.0]\n",
    "    VP -> V NP [0.7] | VP PP [0.3] \n",
    "    NP -> NP PP [0.4] \n",
    "    P -> 'with' [1.0]\n",
    "    V -> 'saw' [1.0]\n",
    "    NP -> 'astronomers' [0.1] | 'ears' [0.18] | 'saw' [0.04] | 'stars' [0.18] | 'telescopes' [0.1]\n",
    "    \"\"\")"
   ]
  },
  {
   "cell_type": "code",
   "execution_count": null,
   "metadata": {},
   "outputs": [],
   "source": [
    "str = \"astronomers saw stars with ears\""
   ]
  },
  {
   "cell_type": "code",
   "execution_count": null,
   "metadata": {},
   "outputs": [],
   "source": [
    "from nltk.parse import pchart\n",
    "\n",
    "parser = pchart.InsideChartParser(pcfg_grammar)\n",
    "\n",
    "#print all possible trees, showing probability of each parse\n",
    "for t in parser.parse(str.split()):\n",
    "     print(t)"
   ]
  },
  {
   "cell_type": "code",
   "execution_count": null,
   "metadata": {},
   "outputs": [],
   "source": [
    "str1 = \"the man saw a dog in the park with a telescope\""
   ]
  },
  {
   "cell_type": "code",
   "execution_count": null,
   "metadata": {},
   "outputs": [],
   "source": [
    "pcfg_grammar = nltk.PCFG.fromstring(\"\"\"\n",
    "    S -> NP VP [1.0]\n",
    "NP -> Det N [0.7] | Det N PP [0.3]\n",
    "\n",
    "VP -> V [0.4] | V NP [0.4] |V NP PP [0.2]\n",
    "\n",
    "PP -> P NP [1.0]\n",
    "\n",
    "Det -> ‘a’ [0.4]| ‘the’ [0.6]\n",
    "\n",
    "N -> ‘man’ [0.5] | ‘dog’  [0.3]| ‘park’ [0.1]| ‘telescope’ [0.1]\n",
    "\n",
    "V -> ‘saw’ [1.0]\n",
    "\n",
    "P -> ‘with’ [0.6]| ‘in’ [0.4]\n",
    "    S -> NP VP [1.0] \n",
    "    PP -> P NP [1.0]\n",
    "    VP -> V NP [0.7] | VP PP [0.3] \n",
    "    NP -> NP PP [0.4] \n",
    "    P -> 'with' [1.0]\n",
    "    V -> 'saw' [1.0]\n",
    "    NP -> 'astronomers' [0.1] | 'ears' [0.18] | 'saw' [0.04] | 'stars' [0.18] | 'telescopes' [0.1]\n",
    "    \"\"\")"
   ]
  }
 ],
 "metadata": {
  "kernelspec": {
   "display_name": "Python 3",
   "language": "python",
   "name": "python3"
  },
  "language_info": {
   "codemirror_mode": {
    "name": "ipython",
    "version": 3
   },
   "file_extension": ".py",
   "mimetype": "text/x-python",
   "name": "python",
   "nbconvert_exporter": "python",
   "pygments_lexer": "ipython3",
   "version": "3.6.3"
  }
 },
 "nbformat": 4,
 "nbformat_minor": 2
}
