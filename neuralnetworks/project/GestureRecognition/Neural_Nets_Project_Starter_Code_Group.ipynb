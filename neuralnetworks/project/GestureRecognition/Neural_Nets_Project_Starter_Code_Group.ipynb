{
 "cells": [
  {
   "cell_type": "markdown",
   "metadata": {},
   "source": [
    "# Gesture Recognition\n",
    "In this group project, you are going to build a 3D Conv model that will be able to predict the 5 gestures correctly. Please import the following libraries to get started."
   ]
  },
  {
   "cell_type": "code",
   "execution_count": 1,
   "metadata": {},
   "outputs": [],
   "source": [
    "# Final Model Download URL - https://drive.google.com/file/d/1ARIfphgOL68I-P4eHvT0pWtsbQUEsV1N/view?usp=sharing\n",
    "# File Name - model-00050-1.52472-0.33032-1.52612-0.34000.h5"
   ]
  },
  {
   "cell_type": "code",
   "execution_count": 2,
   "metadata": {},
   "outputs": [],
   "source": [
    "import numpy as np\n",
    "import os\n",
    "from scipy.misc import imread, imresize\n",
    "import datetime\n",
    "import os\n",
    "import warnings\n",
    "warnings.filterwarnings('ignore')"
   ]
  },
  {
   "cell_type": "markdown",
   "metadata": {},
   "source": [
    "We set the random seed so that the results don't vary drastically."
   ]
  },
  {
   "cell_type": "code",
   "execution_count": 3,
   "metadata": {},
   "outputs": [
    {
     "name": "stderr",
     "output_type": "stream",
     "text": [
      "Using TensorFlow backend.\n"
     ]
    }
   ],
   "source": [
    "np.random.seed(30)\n",
    "import random as rn\n",
    "rn.seed(30)\n",
    "from keras import backend as K\n",
    "import tensorflow as tf\n",
    "tf.set_random_seed(30)"
   ]
  },
  {
   "cell_type": "markdown",
   "metadata": {},
   "source": [
    "In this block, you read the folder names for training and validation. You also set the `batch_size` here. Note that you set the batch size in such a way that you are able to use the GPU in full capacity. You keep increasing the batch size until the machine throws an error."
   ]
  },
  {
   "cell_type": "code",
   "execution_count": 4,
   "metadata": {},
   "outputs": [],
   "source": [
    "train_doc = np.random.permutation(open('Project_data/train.csv').readlines())\n",
    "val_doc = np.random.permutation(open('Project_data/val.csv').readlines())\n",
    "batch_size = 30 #experiment with the batch size"
   ]
  },
  {
   "cell_type": "markdown",
   "metadata": {},
   "source": [
    "## Generator\n",
    "This is one of the most important part of the code. The overall structure of the generator has been given. In the generator, you are going to preprocess the images as you have images of 2 different dimensions as well as create a batch of video frames. You have to experiment with `img_idx`, `y`,`z` and normalization such that you get high accuracy."
   ]
  },
  {
   "cell_type": "code",
   "execution_count": 5,
   "metadata": {},
   "outputs": [],
   "source": [
    "def generator(source_path, folder_list, batch_size):\n",
    "    print( 'Source path = ', source_path, '; batch size =', batch_size)\n",
    "    img_idx = [6,8,10,11,12,13,14,16,18,20,22,24] #create a list of image numbers you want to use for a particular video\n",
    "    while True:\n",
    "        t = np.random.permutation(folder_list)\n",
    "        num_batches = len(folder_list)//batch_size  # calculate the number of batches\n",
    "        for batch in range(num_batches): # we iterate over the number of batches\n",
    "            batch_data = np.zeros((batch_size,12,120,120,3)) # x is the number of images you use for each video, (y,z) is the final size of the input images and 3 is the number of channels RGB\n",
    "            batch_labels = np.zeros((batch_size, 5)) # batch_labels is the one hot representation of the output\n",
    "            for folder in range(batch_size): # iterate over the batch_size\n",
    "                imgs = os.listdir(source_path+'/'+ t[folder + (batch*batch_size)].split(';')[0]) # read all the images in the folder\n",
    "                for idx,item in enumerate(img_idx): #  Iterate iver the frames/images of a folder to read them in\n",
    "                    image = imread(source_path+'/'+ t[folder + (batch*batch_size)].strip().split(';')[0]+'/'+imgs[item]).astype(np.float32)\n",
    "                    lx, ly, lz = image.shape\n",
    "                    # Cropping\n",
    "                    image = image[lx//4:-lx//4,ly//4:-ly//4]\n",
    "                    image  = imresize(image, [120, 120]) #resize image\n",
    "                    #crop the images and resize them. Note that the images are of 2 different shape \n",
    "                    #and the conv3D will throw error if the inputs in a batch have different shapes\n",
    "                    batch_data[folder,idx,:,:,0] = image[:, : , 0] - np.min(image[:, : , 0])/np.max(image[:, : , 0]) - np.min(image[:, : , 0]) #normalise and feed in the image\n",
    "                    batch_data[folder,idx,:,:,1] = image[:, : , 1] - np.min(image[:, : , 1])/np.max(image[:, : , 1]) - np.min(image[:, : , 1]) #normalise and feed in the image\n",
    "                    batch_data[folder,idx,:,:,2] = image[:, : , 2] - np.min(image[:, : , 2])/np.max(image[:, : , 2]) - np.min(image[:, : , 2]) #normalise and feed in the image\n",
    "                        \n",
    "                batch_labels[folder, int(t[folder + (batch*batch_size)].strip().split(';')[2])] = 1\n",
    "            yield batch_data, batch_labels #you yield the batch_data and the batch_labels, remember what does yield do\n",
    "\n",
    "        # write the code for the remaining data points which are left after full batches\n",
    "        remaining_sequences = int(len(folder_list)%batch_size)\n",
    "        batch_data = np.zeros((remaining_sequences,12,120,120,3)) # x is the number of images you use for each video, (y,z) is the final size of the input images and 3 is the number of channels RGB\n",
    "        batch_labels = np.zeros((remaining_sequences,5)) # batch_labels is the one hot representation of the output\n",
    "        for folder in range(remaining_sequences): # iterate over the batch_size\n",
    "            imgs = os.listdir(source_path+'/'+ t[folder + num_batches*batch_size].split(';')[0]) # read all the images in the folder\n",
    "            for idx,item in enumerate(img_idx): #  Iterate iver the frames/images of a folder to read them in\n",
    "                image = imread(source_path+'/'+ t[folder + num_batches*batch_size].strip().split(';')[0]+'/'+imgs[item]).astype(np.float32)\n",
    "                lx, ly, lz = image.shape\n",
    "                # Cropping\n",
    "                image = image[lx//4:-lx//4,ly//4:-ly//4]               \n",
    "                image  = imresize(image, [120, 120])\n",
    "                batch_data[folder,idx,:,:,0] = image[:, : , 0] - np.min(image[:, : , 0])/np.max(image[:, : , 0]) - np.min(image[:, : , 0]) #normalise and feed in the image\n",
    "                batch_data[folder,idx,:,:,1] = image[:, : , 1] - np.min(image[:, : , 1])/np.max(image[:, : , 1]) - np.min(image[:, : , 1]) #normalise and feed in the image\n",
    "                batch_data[folder,idx,:,:,2] = image[:, : , 2] - np.min(image[:, : , 2])/np.max(image[:, : , 2]) - np.min(image[:, : , 2]) #normalise and feed in the image\n",
    "\n",
    "            batch_labels[folder, int(t[folder + num_batches*batch_size].strip().split(';')[2])] = 1\n",
    "        yield batch_data, batch_labels "
   ]
  },
  {
   "cell_type": "markdown",
   "metadata": {},
   "source": [
    "Note here that a video is represented above in the generator as (number of images, height, width, number of channels). Take this into consideration while creating the model architecture."
   ]
  },
  {
   "cell_type": "code",
   "execution_count": 6,
   "metadata": {},
   "outputs": [
    {
     "name": "stdout",
     "output_type": "stream",
     "text": [
      "# training sequences = 663\n",
      "# validation sequences = 100\n",
      "# epochs = 50\n"
     ]
    }
   ],
   "source": [
    "curr_dt_time = datetime.datetime.now()\n",
    "train_path = 'Project_data/train'\n",
    "val_path = 'Project_data/val'\n",
    "num_train_sequences = len(train_doc)\n",
    "print('# training sequences =', num_train_sequences)\n",
    "num_val_sequences = len(val_doc)\n",
    "print('# validation sequences =', num_val_sequences)\n",
    "num_epochs = 50 # choose the number of epochs\n",
    "print ('# epochs =', num_epochs)"
   ]
  },
  {
   "cell_type": "markdown",
   "metadata": {},
   "source": [
    "## Model\n",
    "Here you make the model using different functionalities that Keras provides. Remember to use `Conv3D` and `MaxPooling3D` and not `Conv2D` and `Maxpooling2D` for a 3D convolution model. You would want to use `TimeDistributed` while building a Conv2D + RNN model. Also remember that the last layer is the softmax. Design the network in such a way that the model is able to give good accuracy on the least number of parameters so that it can fit in the memory of the webcam."
   ]
  },
  {
   "cell_type": "code",
   "execution_count": 7,
   "metadata": {},
   "outputs": [],
   "source": [
    "from keras.models import Sequential, Model\n",
    "from keras.layers import Input, Dense, GRU, Flatten, TimeDistributed, Flatten, BatchNormalization, Activation\n",
    "from keras.layers.convolutional import Conv2D, Conv3D, MaxPooling3D, ZeroPadding3D\n",
    "from keras.callbacks import ModelCheckpoint, ReduceLROnPlateau\n",
    "from keras import optimizers\n",
    "from keras.applications import ResNet50, VGG16\n",
    "from keras.layers import AveragePooling2D, MaxPooling2D, GlobalAveragePooling2D, Dropout\n",
    "from keras.regularizers import l2\n",
    "\n",
    "#write your model here\n",
    "num_classes = 5\n",
    "\n",
    "# Conv2D + RNN Transfer Learning\n",
    "# VGG16\n",
    "input_layer = Input(shape=(12, 120, 120, 3))\n",
    "base_model = VGG16(include_top=False, weights='imagenet')\n",
    "x = TimeDistributed(base_model)(input_layer); \n",
    "# x = TimeDistributed(GlobalAveragePooling2D())(x)\n",
    "x = TimeDistributed(Flatten())(x)\n",
    "x = GRU(64, return_sequences=False)(x)\n",
    "x = Dense(num_classes, activation='softmax')(x)\n",
    "#x = Dense(num_classes, activation='softmax', kernel_regularizer=l2(0.01))(x)\n",
    "#x = Dropout(0.50)(x)\n",
    "model = Model(inputs=input_layer, outputs=x)\n",
    "\n",
    "# Conv2D + RNN\n",
    "# model = Sequential()\n",
    "# model.add(TimeDistributed(Conv2D(64,(3,3), activation='relu'), input_shape=(12, 120, 120, 3)))\n",
    "# model.add(TimeDistributed(MaxPooling2D((2, 2), strides=(1, 1))))\n",
    "# model.add(TimeDistributed(Conv2D(128, (4,4), activation='relu')))\n",
    "# model.add(TimeDistributed(MaxPooling2D((2, 2), strides=(2, 2))))\n",
    "# model.add(TimeDistributed(Conv2D(256, (4,4), activation='relu')))\n",
    "# model.add(TimeDistributed(MaxPooling2D((2, 2), strides=(2, 2))))\n",
    "\n",
    "# model.add(TimeDistributed(Flatten()))\n",
    "# model.add(GRU(16, return_sequences=False))\n",
    "# model.add(Dense(num_classes, activation='softmax'))\n",
    "          \n",
    "\n",
    "# Conv3D Model\n",
    "## input layer\n",
    "# model = Sequential()\n",
    "# model.add(ZeroPadding3D(1, input_shape=(12, 120, 120, 3)))\n",
    "# model.add(Conv3D(64,(3,3,3), activation='relu'))\n",
    "# model.add(BatchNormalization())\n",
    "# model.add(MaxPooling3D(pool_size=(2, 2, 2)))\n",
    "# # model.add(Dropout(0.25))\n",
    "# model.add(Conv3D(128,(3,3,3), activation='relu'))\n",
    "# model.add(BatchNormalization())\n",
    "# model.add(MaxPooling3D(pool_size=(2, 2, 2)))\n",
    "# # model.add(Dropout(0.25))\n",
    "# model.add(Flatten())\n",
    "# model.add(Dense(512,kernel_regularizer=l2(0.01)))\n",
    "# model.add(Dropout(0.50))\n",
    "# model.add(Dense(num_classes, activation='softmax'))\n",
    "\n",
    "\n"
   ]
  },
  {
   "cell_type": "markdown",
   "metadata": {},
   "source": [
    "Now that you have written the model, the next step is to `compile` the model. When you print the `summary` of the model, you'll see the total number of parameters you have to train."
   ]
  },
  {
   "cell_type": "code",
   "execution_count": 8,
   "metadata": {
    "scrolled": true
   },
   "outputs": [
    {
     "name": "stdout",
     "output_type": "stream",
     "text": [
      "_________________________________________________________________\n",
      "Layer (type)                 Output Shape              Param #   \n",
      "=================================================================\n",
      "input_1 (InputLayer)         (None, 12, 120, 120, 3)   0         \n",
      "_________________________________________________________________\n",
      "time_distributed_1 (TimeDist (None, 12, 3, 3, 512)     14714688  \n",
      "_________________________________________________________________\n",
      "time_distributed_2 (TimeDist (None, 12, 4608)          0         \n",
      "_________________________________________________________________\n",
      "gru_1 (GRU)                  (None, 64)                897216    \n",
      "_________________________________________________________________\n",
      "dense_1 (Dense)              (None, 5)                 325       \n",
      "=================================================================\n",
      "Total params: 15,612,229\n",
      "Trainable params: 15,612,229\n",
      "Non-trainable params: 0\n",
      "_________________________________________________________________\n",
      "None\n"
     ]
    }
   ],
   "source": [
    "optimiser = optimizers.SGD(lr=0.1, momentum=0.0, decay=0.0, nesterov=False) #write your optimizer\n",
    "model.compile(optimizer=optimiser, loss='categorical_crossentropy', metrics=['categorical_accuracy'])\n",
    "print (model.summary())"
   ]
  },
  {
   "cell_type": "markdown",
   "metadata": {},
   "source": [
    "Let us create the `train_generator` and the `val_generator` which will be used in `.fit_generator`."
   ]
  },
  {
   "cell_type": "code",
   "execution_count": 9,
   "metadata": {},
   "outputs": [],
   "source": [
    "train_generator = generator(train_path, train_doc, batch_size)\n",
    "val_generator = generator(val_path, val_doc, batch_size)"
   ]
  },
  {
   "cell_type": "code",
   "execution_count": 10,
   "metadata": {},
   "outputs": [],
   "source": [
    "model_name = 'model_init' + '_' + str(curr_dt_time).replace(' ','').replace(':','_') + '/'\n",
    "    \n",
    "if not os.path.exists(model_name):\n",
    "    os.mkdir(model_name)\n",
    "        \n",
    "filepath = model_name + 'model-{epoch:05d}-{loss:.5f}-{categorical_accuracy:.5f}-{val_loss:.5f}-{val_categorical_accuracy:.5f}.h5'\n",
    "\n",
    "checkpoint = ModelCheckpoint(filepath, monitor='val_loss', verbose=1, save_best_only=False, save_weights_only=False, mode='auto', period=1)\n",
    "\n",
    "LR = ReduceLROnPlateau(monitor='val_loss', factor=0.2,\n",
    "                              patience=5, min_lr=0.001) # write the REducelronplateau code here\n",
    "callbacks_list = [checkpoint, LR]"
   ]
  },
  {
   "cell_type": "markdown",
   "metadata": {},
   "source": [
    "The `steps_per_epoch` and `validation_steps` are used by `fit_generator` to decide the number of next() calls it need to make."
   ]
  },
  {
   "cell_type": "code",
   "execution_count": 11,
   "metadata": {},
   "outputs": [],
   "source": [
    "if (num_train_sequences%batch_size) == 0:\n",
    "   steps_per_epoch = int(num_train_sequences/batch_size)\n",
    "else:\n",
    "   steps_per_epoch = (num_train_sequences//batch_size) + 1\n",
    "\n",
    "if (num_val_sequences%batch_size) == 0:\n",
    "   validation_steps = int(num_val_sequences/batch_size)\n",
    "else:\n",
    "   validation_steps = (num_val_sequences//batch_size) + 1"
   ]
  },
  {
   "cell_type": "markdown",
   "metadata": {},
   "source": [
    "Let us now fit the model. This will start training the model and with the help of the checkpoints, you'll be able to save the model at the end of each epoch."
   ]
  },
  {
   "cell_type": "code",
   "execution_count": 12,
   "metadata": {},
   "outputs": [
    {
     "name": "stdout",
     "output_type": "stream",
     "text": [
      "Epoch 1/50\n",
      "Source path =  Project_data/train ; batch size = 30\n",
      "Source path =  Project_data/val ; batch size = 30\n",
      "23/23 [==============================] - 43s 2s/step - loss: 1.7586 - categorical_accuracy: 0.2181 - val_loss: 2.1430 - val_categorical_accuracy: 0.2100\n",
      "\n",
      "Epoch 00001: saving model to model_init_2018-12-3010_20_34.541693/model-00001-1.77385-0.20060-2.14302-0.21000.h5\n",
      "Epoch 2/50\n",
      "23/23 [==============================] - 32s 1s/step - loss: 1.7184 - categorical_accuracy: 0.2192 - val_loss: 2.8520 - val_categorical_accuracy: 0.2200\n",
      "\n",
      "Epoch 00002: saving model to model_init_2018-12-3010_20_34.541693/model-00002-1.69121-0.22775-2.85205-0.22000.h5\n",
      "Epoch 3/50\n",
      "23/23 [==============================] - 32s 1s/step - loss: 1.6937 - categorical_accuracy: 0.2250 - val_loss: 1.6010 - val_categorical_accuracy: 0.2800\n",
      "\n",
      "Epoch 00003: saving model to model_init_2018-12-3010_20_34.541693/model-00003-1.68786-0.23379-1.60101-0.28000.h5\n",
      "Epoch 4/50\n",
      "23/23 [==============================] - 32s 1s/step - loss: 1.6058 - categorical_accuracy: 0.2506 - val_loss: 2.1870 - val_categorical_accuracy: 0.1600\n",
      "\n",
      "Epoch 00004: saving model to model_init_2018-12-3010_20_34.541693/model-00004-1.60687-0.24736-2.18698-0.16000.h5\n",
      "Epoch 5/50\n",
      "23/23 [==============================] - 33s 1s/step - loss: 1.6120 - categorical_accuracy: 0.2878 - val_loss: 2.1360 - val_categorical_accuracy: 0.2000\n",
      "\n",
      "Epoch 00005: saving model to model_init_2018-12-3010_20_34.541693/model-00005-1.61330-0.27300-2.13603-0.20000.h5\n",
      "Epoch 6/50\n",
      "23/23 [==============================] - 33s 1s/step - loss: 1.6299 - categorical_accuracy: 0.2526 - val_loss: 1.7534 - val_categorical_accuracy: 0.3000\n",
      "\n",
      "Epoch 00006: saving model to model_init_2018-12-3010_20_34.541693/model-00006-1.63018-0.26244-1.75341-0.30000.h5\n",
      "Epoch 7/50\n",
      "23/23 [==============================] - 33s 1s/step - loss: 1.5893 - categorical_accuracy: 0.2724 - val_loss: 1.7016 - val_categorical_accuracy: 0.2500\n",
      "\n",
      "Epoch 00007: saving model to model_init_2018-12-3010_20_34.541693/model-00007-1.58964-0.26998-1.70159-0.25000.h5\n",
      "Epoch 8/50\n",
      "23/23 [==============================] - 33s 1s/step - loss: 1.5868 - categorical_accuracy: 0.2834 - val_loss: 2.0289 - val_categorical_accuracy: 0.2300\n",
      "\n",
      "Epoch 00008: saving model to model_init_2018-12-3010_20_34.541693/model-00008-1.59940-0.26848-2.02894-0.23000.h5\n",
      "Epoch 9/50\n",
      "23/23 [==============================] - 33s 1s/step - loss: 1.6218 - categorical_accuracy: 0.2657 - val_loss: 1.5473 - val_categorical_accuracy: 0.3300\n",
      "\n",
      "Epoch 00009: saving model to model_init_2018-12-3010_20_34.541693/model-00009-1.61983-0.27602-1.54726-0.33000.h5\n",
      "Epoch 10/50\n",
      "23/23 [==============================] - 33s 1s/step - loss: 1.5471 - categorical_accuracy: 0.3043 - val_loss: 1.5503 - val_categorical_accuracy: 0.3300\n",
      "\n",
      "Epoch 00010: saving model to model_init_2018-12-3010_20_34.541693/model-00010-1.53747-0.30317-1.55025-0.33000.h5\n",
      "Epoch 11/50\n",
      "23/23 [==============================] - 33s 1s/step - loss: 1.5451 - categorical_accuracy: 0.3043 - val_loss: 1.5284 - val_categorical_accuracy: 0.3200\n",
      "\n",
      "Epoch 00011: saving model to model_init_2018-12-3010_20_34.541693/model-00011-1.53980-0.30317-1.52841-0.32000.h5\n",
      "Epoch 12/50\n",
      "23/23 [==============================] - 33s 1s/step - loss: 1.5368 - categorical_accuracy: 0.3130 - val_loss: 1.5300 - val_categorical_accuracy: 0.3300\n",
      "\n",
      "Epoch 00012: saving model to model_init_2018-12-3010_20_34.541693/model-00012-1.53880-0.31222-1.52997-0.33000.h5\n",
      "Epoch 13/50\n",
      "23/23 [==============================] - 33s 1s/step - loss: 1.5320 - categorical_accuracy: 0.2918 - val_loss: 1.5292 - val_categorical_accuracy: 0.3600\n",
      "\n",
      "Epoch 00013: saving model to model_init_2018-12-3010_20_34.541693/model-00013-1.53800-0.30317-1.52923-0.36000.h5\n",
      "Epoch 14/50\n",
      "23/23 [==============================] - 33s 1s/step - loss: 1.5323 - categorical_accuracy: 0.3058 - val_loss: 1.5555 - val_categorical_accuracy: 0.2800\n",
      "\n",
      "Epoch 00014: saving model to model_init_2018-12-3010_20_34.541693/model-00014-1.53604-0.30468-1.55548-0.28000.h5\n",
      "Epoch 15/50\n",
      "23/23 [==============================] - 33s 1s/step - loss: 1.5415 - categorical_accuracy: 0.3087 - val_loss: 1.5496 - val_categorical_accuracy: 0.3200\n",
      "\n",
      "Epoch 00015: saving model to model_init_2018-12-3010_20_34.541693/model-00015-1.53431-0.30769-1.54964-0.32000.h5\n",
      "Epoch 16/50\n",
      "23/23 [==============================] - 33s 1s/step - loss: 1.5297 - categorical_accuracy: 0.2825 - val_loss: 1.5376 - val_categorical_accuracy: 0.3200\n",
      "\n",
      "Epoch 00016: saving model to model_init_2018-12-3010_20_34.541693/model-00016-1.53621-0.28054-1.53758-0.32000.h5\n",
      "Epoch 17/50\n",
      "23/23 [==============================] - 33s 1s/step - loss: 1.5305 - categorical_accuracy: 0.2985 - val_loss: 1.5323 - val_categorical_accuracy: 0.3100\n",
      "\n",
      "Epoch 00017: saving model to model_init_2018-12-3010_20_34.541693/model-00017-1.53042-0.29713-1.53230-0.31000.h5\n",
      "Epoch 18/50\n",
      "23/23 [==============================] - 33s 1s/step - loss: 1.5184 - categorical_accuracy: 0.2825 - val_loss: 1.5273 - val_categorical_accuracy: 0.3300\n",
      "\n",
      "Epoch 00018: saving model to model_init_2018-12-3010_20_34.541693/model-00018-1.52858-0.28054-1.52733-0.33000.h5\n",
      "Epoch 19/50\n",
      "23/23 [==============================] - 33s 1s/step - loss: 1.5281 - categorical_accuracy: 0.2970 - val_loss: 1.5240 - val_categorical_accuracy: 0.3700\n",
      "\n",
      "Epoch 00019: saving model to model_init_2018-12-3010_20_34.541693/model-00019-1.52837-0.29563-1.52402-0.37000.h5\n",
      "Epoch 20/50\n",
      "23/23 [==============================] - 33s 1s/step - loss: 1.5257 - categorical_accuracy: 0.3290 - val_loss: 1.5250 - val_categorical_accuracy: 0.3400\n",
      "\n",
      "Epoch 00020: saving model to model_init_2018-12-3010_20_34.541693/model-00020-1.52713-0.32881-1.52495-0.34000.h5\n",
      "Epoch 21/50\n",
      "23/23 [==============================] - 33s 1s/step - loss: 1.5352 - categorical_accuracy: 0.3333 - val_loss: 1.5251 - val_categorical_accuracy: 0.3600\n",
      "\n",
      "Epoch 00021: saving model to model_init_2018-12-3010_20_34.541693/model-00021-1.52711-0.33333-1.52508-0.36000.h5\n",
      "Epoch 22/50\n",
      "23/23 [==============================] - 33s 1s/step - loss: 1.5255 - categorical_accuracy: 0.3371 - val_loss: 1.5247 - val_categorical_accuracy: 0.3700\n",
      "\n",
      "Epoch 00022: saving model to model_init_2018-12-3010_20_34.541693/model-00022-1.52755-0.32428-1.52474-0.37000.h5\n",
      "Epoch 23/50\n",
      "23/23 [==============================] - 33s 1s/step - loss: 1.5324 - categorical_accuracy: 0.3049 - val_loss: 1.5242 - val_categorical_accuracy: 0.3400\n",
      "\n",
      "Epoch 00023: saving model to model_init_2018-12-3010_20_34.541693/model-00023-1.52668-0.31674-1.52424-0.34000.h5\n",
      "Epoch 24/50\n",
      "23/23 [==============================] - 33s 1s/step - loss: 1.5207 - categorical_accuracy: 0.3348 - val_loss: 1.5246 - val_categorical_accuracy: 0.3700\n",
      "\n",
      "Epoch 00024: saving model to model_init_2018-12-3010_20_34.541693/model-00024-1.52682-0.33484-1.52459-0.37000.h5\n",
      "Epoch 25/50\n",
      "23/23 [==============================] - 33s 1s/step - loss: 1.5311 - categorical_accuracy: 0.3275 - val_loss: 1.5246 - val_categorical_accuracy: 0.3400\n",
      "\n",
      "Epoch 00025: saving model to model_init_2018-12-3010_20_34.541693/model-00025-1.52588-0.32730-1.52457-0.34000.h5\n",
      "Epoch 26/50\n",
      "23/23 [==============================] - 33s 1s/step - loss: 1.5338 - categorical_accuracy: 0.3194 - val_loss: 1.5249 - val_categorical_accuracy: 0.3400\n",
      "\n",
      "Epoch 00026: saving model to model_init_2018-12-3010_20_34.541693/model-00026-1.52600-0.33183-1.52493-0.34000.h5\n",
      "Epoch 27/50\n",
      "23/23 [==============================] - 33s 1s/step - loss: 1.5233 - categorical_accuracy: 0.3362 - val_loss: 1.5255 - val_categorical_accuracy: 0.3300\n",
      "\n",
      "Epoch 00027: saving model to model_init_2018-12-3010_20_34.541693/model-00027-1.52584-0.33635-1.52546-0.33000.h5\n",
      "Epoch 28/50\n",
      "23/23 [==============================] - 33s 1s/step - loss: 1.5176 - categorical_accuracy: 0.3333 - val_loss: 1.5252 - val_categorical_accuracy: 0.3300\n",
      "\n",
      "Epoch 00028: saving model to model_init_2018-12-3010_20_34.541693/model-00028-1.52579-0.33333-1.52521-0.33000.h5\n",
      "Epoch 29/50\n",
      "23/23 [==============================] - 33s 1s/step - loss: 1.5219 - categorical_accuracy: 0.3304 - val_loss: 1.5255 - val_categorical_accuracy: 0.3400\n",
      "\n",
      "Epoch 00029: saving model to model_init_2018-12-3010_20_34.541693/model-00029-1.52568-0.33032-1.52546-0.34000.h5\n",
      "Epoch 30/50\n"
     ]
    },
    {
     "name": "stdout",
     "output_type": "stream",
     "text": [
      "23/23 [==============================] - 33s 1s/step - loss: 1.5176 - categorical_accuracy: 0.3319 - val_loss: 1.5258 - val_categorical_accuracy: 0.3300\n",
      "\n",
      "Epoch 00030: saving model to model_init_2018-12-3010_20_34.541693/model-00030-1.52548-0.33183-1.52577-0.33000.h5\n",
      "Epoch 31/50\n",
      "23/23 [==============================] - 33s 1s/step - loss: 1.5084 - categorical_accuracy: 0.3429 - val_loss: 1.5255 - val_categorical_accuracy: 0.3400\n",
      "\n",
      "Epoch 00031: saving model to model_init_2018-12-3010_20_34.541693/model-00031-1.52557-0.33032-1.52547-0.34000.h5\n",
      "Epoch 32/50\n",
      "23/23 [==============================] - 33s 1s/step - loss: 1.5065 - categorical_accuracy: 0.3569 - val_loss: 1.5248 - val_categorical_accuracy: 0.3400\n",
      "\n",
      "Epoch 00032: saving model to model_init_2018-12-3010_20_34.541693/model-00032-1.52554-0.33183-1.52475-0.34000.h5\n",
      "Epoch 33/50\n",
      "23/23 [==============================] - 33s 1s/step - loss: 1.5200 - categorical_accuracy: 0.3458 - val_loss: 1.5241 - val_categorical_accuracy: 0.3400\n",
      "\n",
      "Epoch 00033: saving model to model_init_2018-12-3010_20_34.541693/model-00033-1.52531-0.33333-1.52410-0.34000.h5\n",
      "Epoch 34/50\n",
      "23/23 [==============================] - 33s 1s/step - loss: 1.5428 - categorical_accuracy: 0.3194 - val_loss: 1.5239 - val_categorical_accuracy: 0.3400\n",
      "\n",
      "Epoch 00034: saving model to model_init_2018-12-3010_20_34.541693/model-00034-1.52530-0.33183-1.52391-0.34000.h5\n",
      "Epoch 35/50\n",
      "23/23 [==============================] - 33s 1s/step - loss: 1.5269 - categorical_accuracy: 0.3304 - val_loss: 1.5240 - val_categorical_accuracy: 0.3400\n",
      "\n",
      "Epoch 00035: saving model to model_init_2018-12-3010_20_34.541693/model-00035-1.52526-0.33032-1.52401-0.34000.h5\n",
      "Epoch 36/50\n",
      "23/23 [==============================] - 33s 1s/step - loss: 1.5302 - categorical_accuracy: 0.3179 - val_loss: 1.5246 - val_categorical_accuracy: 0.3400\n",
      "\n",
      "Epoch 00036: saving model to model_init_2018-12-3010_20_34.541693/model-00036-1.52526-0.33032-1.52459-0.34000.h5\n",
      "Epoch 37/50\n",
      "23/23 [==============================] - 33s 1s/step - loss: 1.5235 - categorical_accuracy: 0.3208 - val_loss: 1.5251 - val_categorical_accuracy: 0.3400\n",
      "\n",
      "Epoch 00037: saving model to model_init_2018-12-3010_20_34.541693/model-00037-1.52536-0.33333-1.52514-0.34000.h5\n",
      "Epoch 38/50\n",
      "23/23 [==============================] - 33s 1s/step - loss: 1.5298 - categorical_accuracy: 0.3179 - val_loss: 1.5251 - val_categorical_accuracy: 0.3700\n",
      "\n",
      "Epoch 00038: saving model to model_init_2018-12-3010_20_34.541693/model-00038-1.52512-0.33032-1.52512-0.37000.h5\n",
      "Epoch 39/50\n",
      "23/23 [==============================] - 33s 1s/step - loss: 1.5233 - categorical_accuracy: 0.3194 - val_loss: 1.5256 - val_categorical_accuracy: 0.3600\n",
      "\n",
      "Epoch 00039: saving model to model_init_2018-12-3010_20_34.541693/model-00039-1.52524-0.33183-1.52558-0.36000.h5\n",
      "Epoch 40/50\n",
      "23/23 [==============================] - 33s 1s/step - loss: 1.5361 - categorical_accuracy: 0.3391 - val_loss: 1.5258 - val_categorical_accuracy: 0.3600\n",
      "\n",
      "Epoch 00040: saving model to model_init_2018-12-3010_20_34.541693/model-00040-1.52518-0.33937-1.52583-0.36000.h5\n",
      "Epoch 41/50\n",
      "23/23 [==============================] - 33s 1s/step - loss: 1.5251 - categorical_accuracy: 0.3444 - val_loss: 1.5253 - val_categorical_accuracy: 0.3700\n",
      "\n",
      "Epoch 00041: saving model to model_init_2018-12-3010_20_34.541693/model-00041-1.52533-0.33183-1.52535-0.37000.h5\n",
      "Epoch 42/50\n",
      "23/23 [==============================] - 33s 1s/step - loss: 1.5244 - categorical_accuracy: 0.3319 - val_loss: 1.5248 - val_categorical_accuracy: 0.3700\n",
      "\n",
      "Epoch 00042: saving model to model_init_2018-12-3010_20_34.541693/model-00042-1.52516-0.33183-1.52485-0.37000.h5\n",
      "Epoch 43/50\n",
      "23/23 [==============================] - 33s 1s/step - loss: 1.5214 - categorical_accuracy: 0.3208 - val_loss: 1.5258 - val_categorical_accuracy: 0.3600\n",
      "\n",
      "Epoch 00043: saving model to model_init_2018-12-3010_20_34.541693/model-00043-1.52502-0.33333-1.52578-0.36000.h5\n",
      "Epoch 44/50\n",
      "23/23 [==============================] - 33s 1s/step - loss: 1.5083 - categorical_accuracy: 0.3444 - val_loss: 1.5259 - val_categorical_accuracy: 0.3300\n",
      "\n",
      "Epoch 00044: saving model to model_init_2018-12-3010_20_34.541693/model-00044-1.52492-0.33183-1.52592-0.33000.h5\n",
      "Epoch 45/50\n",
      "23/23 [==============================] - 33s 1s/step - loss: 1.5228 - categorical_accuracy: 0.3319 - val_loss: 1.5263 - val_categorical_accuracy: 0.3300\n",
      "\n",
      "Epoch 00045: saving model to model_init_2018-12-3010_20_34.541693/model-00045-1.52517-0.33183-1.52628-0.33000.h5\n",
      "Epoch 46/50\n",
      "23/23 [==============================] - 33s 1s/step - loss: 1.5327 - categorical_accuracy: 0.3319 - val_loss: 1.5260 - val_categorical_accuracy: 0.3300\n",
      "\n",
      "Epoch 00046: saving model to model_init_2018-12-3010_20_34.541693/model-00046-1.52503-0.33183-1.52604-0.33000.h5\n",
      "Epoch 47/50\n",
      "23/23 [==============================] - 33s 1s/step - loss: 1.5233 - categorical_accuracy: 0.3194 - val_loss: 1.5255 - val_categorical_accuracy: 0.3700\n",
      "\n",
      "Epoch 00047: saving model to model_init_2018-12-3010_20_34.541693/model-00047-1.52487-0.33183-1.52548-0.37000.h5\n",
      "Epoch 48/50\n",
      "23/23 [==============================] - 33s 1s/step - loss: 1.5247 - categorical_accuracy: 0.3194 - val_loss: 1.5265 - val_categorical_accuracy: 0.3600\n",
      "\n",
      "Epoch 00048: saving model to model_init_2018-12-3010_20_34.541693/model-00048-1.52488-0.33183-1.52648-0.36000.h5\n",
      "Epoch 49/50\n",
      "23/23 [==============================] - 33s 1s/step - loss: 1.5305 - categorical_accuracy: 0.3275 - val_loss: 1.5265 - val_categorical_accuracy: 0.3400\n",
      "\n",
      "Epoch 00049: saving model to model_init_2018-12-3010_20_34.541693/model-00049-1.52490-0.32730-1.52648-0.34000.h5\n",
      "Epoch 50/50\n",
      "23/23 [==============================] - 33s 1s/step - loss: 1.5171 - categorical_accuracy: 0.3304 - val_loss: 1.5261 - val_categorical_accuracy: 0.3400\n",
      "\n",
      "Epoch 00050: saving model to model_init_2018-12-3010_20_34.541693/model-00050-1.52472-0.33032-1.52612-0.34000.h5\n"
     ]
    },
    {
     "data": {
      "text/plain": [
       "<keras.callbacks.History at 0x7f06e7c67080>"
      ]
     },
     "execution_count": 12,
     "metadata": {},
     "output_type": "execute_result"
    }
   ],
   "source": [
    "model.fit_generator(train_generator, steps_per_epoch=steps_per_epoch, epochs=num_epochs, verbose=1, \n",
    "                    callbacks=callbacks_list, validation_data=val_generator, \n",
    "                    validation_steps=validation_steps, class_weight=None, workers=1, initial_epoch=0)"
   ]
  },
  {
   "cell_type": "code",
   "execution_count": null,
   "metadata": {},
   "outputs": [],
   "source": []
  }
 ],
 "metadata": {
  "kernelspec": {
   "display_name": "Python 3",
   "language": "python",
   "name": "python3"
  },
  "language_info": {
   "codemirror_mode": {
    "name": "ipython",
    "version": 3
   },
   "file_extension": ".py",
   "mimetype": "text/x-python",
   "name": "python",
   "nbconvert_exporter": "python",
   "pygments_lexer": "ipython3",
   "version": "3.5.2"
  }
 },
 "nbformat": 4,
 "nbformat_minor": 2
}
