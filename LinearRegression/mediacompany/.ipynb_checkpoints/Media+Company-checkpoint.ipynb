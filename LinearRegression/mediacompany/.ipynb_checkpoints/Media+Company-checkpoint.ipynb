{
 "cells": [
  {
   "cell_type": "markdown",
   "metadata": {},
   "source": [
    "## Media Company Case Study"
   ]
  },
  {
   "cell_type": "markdown",
   "metadata": {},
   "source": [
    "Problem Statement: A digital media company (similar to Voot, Hotstar, Netflix, etc.) had launched a show. Initially, the show got a good response, but then witnessed a decline in viewership. The company wants to figure out what went wrong."
   ]
  },
  {
   "cell_type": "code",
   "execution_count": 1,
   "metadata": {},
   "outputs": [],
   "source": [
    "# Importing all required packages\n",
    "import numpy as np\n",
    "import pandas as pd\n",
    "import matplotlib.pyplot as plt\n",
    "import seaborn as sns\n",
    "%matplotlib inline"
   ]
  },
  {
   "cell_type": "code",
   "execution_count": 2,
   "metadata": {},
   "outputs": [],
   "source": [
    "#Importing dataset\n",
    "media = pd.read_csv('mediacompany.csv')\n",
    "media = media.drop('Unnamed: 7',axis = 1)"
   ]
  },
  {
   "cell_type": "code",
   "execution_count": 3,
   "metadata": {},
   "outputs": [
    {
     "data": {
      "text/html": [
       "<div>\n",
       "<style scoped>\n",
       "    .dataframe tbody tr th:only-of-type {\n",
       "        vertical-align: middle;\n",
       "    }\n",
       "\n",
       "    .dataframe tbody tr th {\n",
       "        vertical-align: top;\n",
       "    }\n",
       "\n",
       "    .dataframe thead th {\n",
       "        text-align: right;\n",
       "    }\n",
       "</style>\n",
       "<table border=\"1\" class=\"dataframe\">\n",
       "  <thead>\n",
       "    <tr style=\"text-align: right;\">\n",
       "      <th></th>\n",
       "      <th>Date</th>\n",
       "      <th>Views_show</th>\n",
       "      <th>Visitors</th>\n",
       "      <th>Views_platform</th>\n",
       "      <th>Ad_impression</th>\n",
       "      <th>Cricket_match_india</th>\n",
       "      <th>Character_A</th>\n",
       "    </tr>\n",
       "  </thead>\n",
       "  <tbody>\n",
       "    <tr>\n",
       "      <th>0</th>\n",
       "      <td>3/1/2017</td>\n",
       "      <td>183738</td>\n",
       "      <td>1260228</td>\n",
       "      <td>1706478</td>\n",
       "      <td>1060860448</td>\n",
       "      <td>0</td>\n",
       "      <td>0</td>\n",
       "    </tr>\n",
       "    <tr>\n",
       "      <th>1</th>\n",
       "      <td>3/2/2017</td>\n",
       "      <td>193763</td>\n",
       "      <td>1270561</td>\n",
       "      <td>1690727</td>\n",
       "      <td>1031846645</td>\n",
       "      <td>0</td>\n",
       "      <td>0</td>\n",
       "    </tr>\n",
       "    <tr>\n",
       "      <th>2</th>\n",
       "      <td>3/3/2017</td>\n",
       "      <td>210479</td>\n",
       "      <td>1248183</td>\n",
       "      <td>1726157</td>\n",
       "      <td>1010867575</td>\n",
       "      <td>0</td>\n",
       "      <td>0</td>\n",
       "    </tr>\n",
       "    <tr>\n",
       "      <th>3</th>\n",
       "      <td>3/4/2017</td>\n",
       "      <td>240061</td>\n",
       "      <td>1492913</td>\n",
       "      <td>1855353</td>\n",
       "      <td>1079194579</td>\n",
       "      <td>1</td>\n",
       "      <td>0</td>\n",
       "    </tr>\n",
       "    <tr>\n",
       "      <th>4</th>\n",
       "      <td>3/5/2017</td>\n",
       "      <td>446314</td>\n",
       "      <td>1594712</td>\n",
       "      <td>2041418</td>\n",
       "      <td>1357736987</td>\n",
       "      <td>0</td>\n",
       "      <td>0</td>\n",
       "    </tr>\n",
       "  </tbody>\n",
       "</table>\n",
       "</div>"
      ],
      "text/plain": [
       "       Date  Views_show  Visitors  Views_platform  Ad_impression  \\\n",
       "0  3/1/2017      183738   1260228         1706478     1060860448   \n",
       "1  3/2/2017      193763   1270561         1690727     1031846645   \n",
       "2  3/3/2017      210479   1248183         1726157     1010867575   \n",
       "3  3/4/2017      240061   1492913         1855353     1079194579   \n",
       "4  3/5/2017      446314   1594712         2041418     1357736987   \n",
       "\n",
       "   Cricket_match_india  Character_A  \n",
       "0                    0            0  \n",
       "1                    0            0  \n",
       "2                    0            0  \n",
       "3                    1            0  \n",
       "4                    0            0  "
      ]
     },
     "execution_count": 3,
     "metadata": {},
     "output_type": "execute_result"
    }
   ],
   "source": [
    "#Let's explore the top 5 rows\n",
    "media.head()"
   ]
  },
  {
   "cell_type": "code",
   "execution_count": 4,
   "metadata": {},
   "outputs": [],
   "source": [
    "# Converting date to Pandas datetime format\n",
    "media['Date'] = pd.to_datetime(media['Date'])"
   ]
  },
  {
   "cell_type": "code",
   "execution_count": 5,
   "metadata": {},
   "outputs": [
    {
     "data": {
      "text/html": [
       "<div>\n",
       "<style scoped>\n",
       "    .dataframe tbody tr th:only-of-type {\n",
       "        vertical-align: middle;\n",
       "    }\n",
       "\n",
       "    .dataframe tbody tr th {\n",
       "        vertical-align: top;\n",
       "    }\n",
       "\n",
       "    .dataframe thead th {\n",
       "        text-align: right;\n",
       "    }\n",
       "</style>\n",
       "<table border=\"1\" class=\"dataframe\">\n",
       "  <thead>\n",
       "    <tr style=\"text-align: right;\">\n",
       "      <th></th>\n",
       "      <th>Date</th>\n",
       "      <th>Views_show</th>\n",
       "      <th>Visitors</th>\n",
       "      <th>Views_platform</th>\n",
       "      <th>Ad_impression</th>\n",
       "      <th>Cricket_match_india</th>\n",
       "      <th>Character_A</th>\n",
       "    </tr>\n",
       "  </thead>\n",
       "  <tbody>\n",
       "    <tr>\n",
       "      <th>0</th>\n",
       "      <td>2017-03-01</td>\n",
       "      <td>183738</td>\n",
       "      <td>1260228</td>\n",
       "      <td>1706478</td>\n",
       "      <td>1060860448</td>\n",
       "      <td>0</td>\n",
       "      <td>0</td>\n",
       "    </tr>\n",
       "    <tr>\n",
       "      <th>1</th>\n",
       "      <td>2017-03-02</td>\n",
       "      <td>193763</td>\n",
       "      <td>1270561</td>\n",
       "      <td>1690727</td>\n",
       "      <td>1031846645</td>\n",
       "      <td>0</td>\n",
       "      <td>0</td>\n",
       "    </tr>\n",
       "    <tr>\n",
       "      <th>2</th>\n",
       "      <td>2017-03-03</td>\n",
       "      <td>210479</td>\n",
       "      <td>1248183</td>\n",
       "      <td>1726157</td>\n",
       "      <td>1010867575</td>\n",
       "      <td>0</td>\n",
       "      <td>0</td>\n",
       "    </tr>\n",
       "    <tr>\n",
       "      <th>3</th>\n",
       "      <td>2017-03-04</td>\n",
       "      <td>240061</td>\n",
       "      <td>1492913</td>\n",
       "      <td>1855353</td>\n",
       "      <td>1079194579</td>\n",
       "      <td>1</td>\n",
       "      <td>0</td>\n",
       "    </tr>\n",
       "    <tr>\n",
       "      <th>4</th>\n",
       "      <td>2017-03-05</td>\n",
       "      <td>446314</td>\n",
       "      <td>1594712</td>\n",
       "      <td>2041418</td>\n",
       "      <td>1357736987</td>\n",
       "      <td>0</td>\n",
       "      <td>0</td>\n",
       "    </tr>\n",
       "  </tbody>\n",
       "</table>\n",
       "</div>"
      ],
      "text/plain": [
       "        Date  Views_show  Visitors  Views_platform  Ad_impression  \\\n",
       "0 2017-03-01      183738   1260228         1706478     1060860448   \n",
       "1 2017-03-02      193763   1270561         1690727     1031846645   \n",
       "2 2017-03-03      210479   1248183         1726157     1010867575   \n",
       "3 2017-03-04      240061   1492913         1855353     1079194579   \n",
       "4 2017-03-05      446314   1594712         2041418     1357736987   \n",
       "\n",
       "   Cricket_match_india  Character_A  \n",
       "0                    0            0  \n",
       "1                    0            0  \n",
       "2                    0            0  \n",
       "3                    1            0  \n",
       "4                    0            0  "
      ]
     },
     "execution_count": 5,
     "metadata": {},
     "output_type": "execute_result"
    }
   ],
   "source": [
    "media.head()"
   ]
  },
  {
   "cell_type": "code",
   "execution_count": 6,
   "metadata": {},
   "outputs": [],
   "source": [
    "# Deriving \"days since the show started\"\n",
    "from datetime import date\n",
    "\n",
    "d0 = date(2017, 2, 28)\n",
    "d1 = media.Date\n",
    "delta = d1 - d0\n",
    "media['day']= delta"
   ]
  },
  {
   "cell_type": "code",
   "execution_count": 7,
   "metadata": {},
   "outputs": [
    {
     "data": {
      "text/html": [
       "<div>\n",
       "<style scoped>\n",
       "    .dataframe tbody tr th:only-of-type {\n",
       "        vertical-align: middle;\n",
       "    }\n",
       "\n",
       "    .dataframe tbody tr th {\n",
       "        vertical-align: top;\n",
       "    }\n",
       "\n",
       "    .dataframe thead th {\n",
       "        text-align: right;\n",
       "    }\n",
       "</style>\n",
       "<table border=\"1\" class=\"dataframe\">\n",
       "  <thead>\n",
       "    <tr style=\"text-align: right;\">\n",
       "      <th></th>\n",
       "      <th>Date</th>\n",
       "      <th>Views_show</th>\n",
       "      <th>Visitors</th>\n",
       "      <th>Views_platform</th>\n",
       "      <th>Ad_impression</th>\n",
       "      <th>Cricket_match_india</th>\n",
       "      <th>Character_A</th>\n",
       "      <th>day</th>\n",
       "    </tr>\n",
       "  </thead>\n",
       "  <tbody>\n",
       "    <tr>\n",
       "      <th>0</th>\n",
       "      <td>2017-03-01</td>\n",
       "      <td>183738</td>\n",
       "      <td>1260228</td>\n",
       "      <td>1706478</td>\n",
       "      <td>1060860448</td>\n",
       "      <td>0</td>\n",
       "      <td>0</td>\n",
       "      <td>1 days</td>\n",
       "    </tr>\n",
       "    <tr>\n",
       "      <th>1</th>\n",
       "      <td>2017-03-02</td>\n",
       "      <td>193763</td>\n",
       "      <td>1270561</td>\n",
       "      <td>1690727</td>\n",
       "      <td>1031846645</td>\n",
       "      <td>0</td>\n",
       "      <td>0</td>\n",
       "      <td>2 days</td>\n",
       "    </tr>\n",
       "    <tr>\n",
       "      <th>2</th>\n",
       "      <td>2017-03-03</td>\n",
       "      <td>210479</td>\n",
       "      <td>1248183</td>\n",
       "      <td>1726157</td>\n",
       "      <td>1010867575</td>\n",
       "      <td>0</td>\n",
       "      <td>0</td>\n",
       "      <td>3 days</td>\n",
       "    </tr>\n",
       "    <tr>\n",
       "      <th>3</th>\n",
       "      <td>2017-03-04</td>\n",
       "      <td>240061</td>\n",
       "      <td>1492913</td>\n",
       "      <td>1855353</td>\n",
       "      <td>1079194579</td>\n",
       "      <td>1</td>\n",
       "      <td>0</td>\n",
       "      <td>4 days</td>\n",
       "    </tr>\n",
       "    <tr>\n",
       "      <th>4</th>\n",
       "      <td>2017-03-05</td>\n",
       "      <td>446314</td>\n",
       "      <td>1594712</td>\n",
       "      <td>2041418</td>\n",
       "      <td>1357736987</td>\n",
       "      <td>0</td>\n",
       "      <td>0</td>\n",
       "      <td>5 days</td>\n",
       "    </tr>\n",
       "  </tbody>\n",
       "</table>\n",
       "</div>"
      ],
      "text/plain": [
       "        Date  Views_show  Visitors  Views_platform  Ad_impression  \\\n",
       "0 2017-03-01      183738   1260228         1706478     1060860448   \n",
       "1 2017-03-02      193763   1270561         1690727     1031846645   \n",
       "2 2017-03-03      210479   1248183         1726157     1010867575   \n",
       "3 2017-03-04      240061   1492913         1855353     1079194579   \n",
       "4 2017-03-05      446314   1594712         2041418     1357736987   \n",
       "\n",
       "   Cricket_match_india  Character_A    day  \n",
       "0                    0            0 1 days  \n",
       "1                    0            0 2 days  \n",
       "2                    0            0 3 days  \n",
       "3                    1            0 4 days  \n",
       "4                    0            0 5 days  "
      ]
     },
     "execution_count": 7,
     "metadata": {},
     "output_type": "execute_result"
    }
   ],
   "source": [
    "media.head()"
   ]
  },
  {
   "cell_type": "code",
   "execution_count": 8,
   "metadata": {},
   "outputs": [],
   "source": [
    "# Cleaning days\n",
    "media['day'] = media['day'].astype(str)\n",
    "media['day'] = media['day'].map(lambda x: x[0:2])\n",
    "media['day'] = media['day'].astype(int)"
   ]
  },
  {
   "cell_type": "code",
   "execution_count": 325,
   "metadata": {},
   "outputs": [
    {
     "data": {
      "text/html": [
       "<div>\n",
       "<style>\n",
       "    .dataframe thead tr:only-child th {\n",
       "        text-align: right;\n",
       "    }\n",
       "\n",
       "    .dataframe thead th {\n",
       "        text-align: left;\n",
       "    }\n",
       "\n",
       "    .dataframe tbody tr th {\n",
       "        vertical-align: top;\n",
       "    }\n",
       "</style>\n",
       "<table border=\"1\" class=\"dataframe\">\n",
       "  <thead>\n",
       "    <tr style=\"text-align: right;\">\n",
       "      <th></th>\n",
       "      <th>Date</th>\n",
       "      <th>Views_show</th>\n",
       "      <th>Visitors</th>\n",
       "      <th>Views_platform</th>\n",
       "      <th>Ad_impression</th>\n",
       "      <th>Cricket_match_india</th>\n",
       "      <th>Character_A</th>\n",
       "      <th>day</th>\n",
       "    </tr>\n",
       "  </thead>\n",
       "  <tbody>\n",
       "    <tr>\n",
       "      <th>0</th>\n",
       "      <td>2017-03-01</td>\n",
       "      <td>183738</td>\n",
       "      <td>1260228</td>\n",
       "      <td>1706478</td>\n",
       "      <td>1060860448</td>\n",
       "      <td>0</td>\n",
       "      <td>0</td>\n",
       "      <td>1</td>\n",
       "    </tr>\n",
       "    <tr>\n",
       "      <th>1</th>\n",
       "      <td>2017-03-02</td>\n",
       "      <td>193763</td>\n",
       "      <td>1270561</td>\n",
       "      <td>1690727</td>\n",
       "      <td>1031846645</td>\n",
       "      <td>0</td>\n",
       "      <td>0</td>\n",
       "      <td>2</td>\n",
       "    </tr>\n",
       "    <tr>\n",
       "      <th>2</th>\n",
       "      <td>2017-03-03</td>\n",
       "      <td>210479</td>\n",
       "      <td>1248183</td>\n",
       "      <td>1726157</td>\n",
       "      <td>1010867575</td>\n",
       "      <td>0</td>\n",
       "      <td>0</td>\n",
       "      <td>3</td>\n",
       "    </tr>\n",
       "    <tr>\n",
       "      <th>3</th>\n",
       "      <td>2017-03-04</td>\n",
       "      <td>240061</td>\n",
       "      <td>1492913</td>\n",
       "      <td>1855353</td>\n",
       "      <td>1079194579</td>\n",
       "      <td>1</td>\n",
       "      <td>0</td>\n",
       "      <td>4</td>\n",
       "    </tr>\n",
       "    <tr>\n",
       "      <th>4</th>\n",
       "      <td>2017-03-05</td>\n",
       "      <td>446314</td>\n",
       "      <td>1594712</td>\n",
       "      <td>2041418</td>\n",
       "      <td>1357736987</td>\n",
       "      <td>0</td>\n",
       "      <td>0</td>\n",
       "      <td>5</td>\n",
       "    </tr>\n",
       "  </tbody>\n",
       "</table>\n",
       "</div>"
      ],
      "text/plain": [
       "        Date  Views_show  Visitors  Views_platform  Ad_impression  \\\n",
       "0 2017-03-01      183738   1260228         1706478     1060860448   \n",
       "1 2017-03-02      193763   1270561         1690727     1031846645   \n",
       "2 2017-03-03      210479   1248183         1726157     1010867575   \n",
       "3 2017-03-04      240061   1492913         1855353     1079194579   \n",
       "4 2017-03-05      446314   1594712         2041418     1357736987   \n",
       "\n",
       "   Cricket_match_india  Character_A  day  \n",
       "0                    0            0    1  \n",
       "1                    0            0    2  \n",
       "2                    0            0    3  \n",
       "3                    1            0    4  \n",
       "4                    0            0    5  "
      ]
     },
     "execution_count": 325,
     "metadata": {},
     "output_type": "execute_result"
    }
   ],
   "source": [
    "media.head()"
   ]
  },
  {
   "cell_type": "code",
   "execution_count": 9,
   "metadata": {},
   "outputs": [
    {
     "data": {
      "text/plain": [
       "<matplotlib.axes._subplots.AxesSubplot at 0x1168a9f28>"
      ]
     },
     "execution_count": 9,
     "metadata": {},
     "output_type": "execute_result"
    },
    {
     "data": {
      "image/png": "[encoded data removed]",
      "text/plain": [
       "<Figure size 432x288 with 1 Axes>"
      ]
     },
     "metadata": {},
     "output_type": "display_data"
    }
   ],
   "source": [
    "# days vs Views_show\n",
    "media.plot.line(x='day', y='Views_show')"
   ]
  },
  {
   "cell_type": "code",
   "execution_count": 10,
   "metadata": {},
   "outputs": [
    {
     "data": {
      "image/png": "[encoded data removed]",
      "text/plain": [
       "<Figure size 432x288 with 1 Axes>"
      ]
     },
     "metadata": {},
     "output_type": "display_data"
    }
   ],
   "source": [
    "# Scatter Plot (days vs Views_show)\n",
    "colors = (0,0,0)\n",
    "area = np.pi*3\n",
    "plt.scatter(media.day, media.Views_show, s=area, c=colors, alpha=0.5)\n",
    "plt.title('Scatter plot pythonspot.com')\n",
    "plt.xlabel('x')\n",
    "plt.ylabel('y')\n",
    "plt.show()"
   ]
  },
  {
   "cell_type": "code",
   "execution_count": 12,
   "metadata": {},
   "outputs": [
    {
     "data": {
      "image/png": "[encoded data removed]",
      "text/plain": [
       "<Figure size 432x288 with 3 Axes>"
      ]
     },
     "metadata": {},
     "output_type": "display_data"
    }
   ],
   "source": [
    "# plot for days vs Views_show and days vs Ad_impressions\n",
    "\n",
    "fig = plt.figure()\n",
    "host = fig.add_subplot(111)\n",
    "\n",
    "par1 = host.twinx()\n",
    "par2 = host.twinx()\n",
    "\n",
    "host.set_xlabel(\"Day\")\n",
    "host.set_ylabel(\"View_Show\")\n",
    "par1.set_ylabel(\"Ad_impression\")\n",
    "\n",
    "color1 = plt.cm.viridis(0)\n",
    "color2 = plt.cm.viridis(0.5)\n",
    "color3 = plt.cm.viridis(.9)\n",
    "\n",
    "p1, = host.plot(media.day,media.Views_show, color=color1,label=\"View_Show\")\n",
    "p2, = par1.plot(media.day,media.Ad_impression,color=color2, label=\"Ad_impression\")\n",
    "\n",
    "lns = [p1, p2]\n",
    "host.legend(handles=lns, loc='best')\n",
    "\n",
    "# right, left, top, bottom\n",
    "par2.spines['right'].set_position(('outward', 60))      \n",
    "# no x-ticks                 \n",
    "par2.xaxis.set_ticks([])\n",
    "# Sometimes handy, same for xaxis\n",
    "#par2.yaxis.set_ticks_position('right')\n",
    "\n",
    "host.yaxis.label.set_color(p1.get_color())\n",
    "par1.yaxis.label.set_color(p2.get_color())\n",
    "\n",
    "plt.savefig(\"pyplot_multiple_y-axis.png\", bbox_inches='tight')"
   ]
  },
  {
   "cell_type": "code",
   "execution_count": 13,
   "metadata": {},
   "outputs": [
    {
     "data": {
      "text/html": [
       "<div>\n",
       "<style scoped>\n",
       "    .dataframe tbody tr th:only-of-type {\n",
       "        vertical-align: middle;\n",
       "    }\n",
       "\n",
       "    .dataframe tbody tr th {\n",
       "        vertical-align: top;\n",
       "    }\n",
       "\n",
       "    .dataframe thead th {\n",
       "        text-align: right;\n",
       "    }\n",
       "</style>\n",
       "<table border=\"1\" class=\"dataframe\">\n",
       "  <thead>\n",
       "    <tr style=\"text-align: right;\">\n",
       "      <th></th>\n",
       "      <th>Date</th>\n",
       "      <th>Views_show</th>\n",
       "      <th>Visitors</th>\n",
       "      <th>Views_platform</th>\n",
       "      <th>Ad_impression</th>\n",
       "      <th>Cricket_match_india</th>\n",
       "      <th>Character_A</th>\n",
       "      <th>day</th>\n",
       "      <th>weekday</th>\n",
       "    </tr>\n",
       "  </thead>\n",
       "  <tbody>\n",
       "    <tr>\n",
       "      <th>0</th>\n",
       "      <td>2017-03-01</td>\n",
       "      <td>183738</td>\n",
       "      <td>1260228</td>\n",
       "      <td>1706478</td>\n",
       "      <td>1060860448</td>\n",
       "      <td>0</td>\n",
       "      <td>0</td>\n",
       "      <td>1</td>\n",
       "      <td>4</td>\n",
       "    </tr>\n",
       "    <tr>\n",
       "      <th>1</th>\n",
       "      <td>2017-03-02</td>\n",
       "      <td>193763</td>\n",
       "      <td>1270561</td>\n",
       "      <td>1690727</td>\n",
       "      <td>1031846645</td>\n",
       "      <td>0</td>\n",
       "      <td>0</td>\n",
       "      <td>2</td>\n",
       "      <td>5</td>\n",
       "    </tr>\n",
       "    <tr>\n",
       "      <th>2</th>\n",
       "      <td>2017-03-03</td>\n",
       "      <td>210479</td>\n",
       "      <td>1248183</td>\n",
       "      <td>1726157</td>\n",
       "      <td>1010867575</td>\n",
       "      <td>0</td>\n",
       "      <td>0</td>\n",
       "      <td>3</td>\n",
       "      <td>6</td>\n",
       "    </tr>\n",
       "    <tr>\n",
       "      <th>3</th>\n",
       "      <td>2017-03-04</td>\n",
       "      <td>240061</td>\n",
       "      <td>1492913</td>\n",
       "      <td>1855353</td>\n",
       "      <td>1079194579</td>\n",
       "      <td>1</td>\n",
       "      <td>0</td>\n",
       "      <td>4</td>\n",
       "      <td>7</td>\n",
       "    </tr>\n",
       "    <tr>\n",
       "      <th>4</th>\n",
       "      <td>2017-03-05</td>\n",
       "      <td>446314</td>\n",
       "      <td>1594712</td>\n",
       "      <td>2041418</td>\n",
       "      <td>1357736987</td>\n",
       "      <td>0</td>\n",
       "      <td>0</td>\n",
       "      <td>5</td>\n",
       "      <td>1</td>\n",
       "    </tr>\n",
       "  </tbody>\n",
       "</table>\n",
       "</div>"
      ],
      "text/plain": [
       "        Date  Views_show  Visitors  Views_platform  Ad_impression  \\\n",
       "0 2017-03-01      183738   1260228         1706478     1060860448   \n",
       "1 2017-03-02      193763   1270561         1690727     1031846645   \n",
       "2 2017-03-03      210479   1248183         1726157     1010867575   \n",
       "3 2017-03-04      240061   1492913         1855353     1079194579   \n",
       "4 2017-03-05      446314   1594712         2041418     1357736987   \n",
       "\n",
       "   Cricket_match_india  Character_A  day  weekday  \n",
       "0                    0            0    1        4  \n",
       "1                    0            0    2        5  \n",
       "2                    0            0    3        6  \n",
       "3                    1            0    4        7  \n",
       "4                    0            0    5        1  "
      ]
     },
     "execution_count": 13,
     "metadata": {},
     "output_type": "execute_result"
    }
   ],
   "source": [
    "# Derived Metrics\n",
    "# Weekdays are taken such that 1 corresponds to Sunday and 7 to Saturday\n",
    "# Generate the weekday variable\n",
    "media['weekday'] = (media['day']+3)%7\n",
    "media.weekday.replace(0,7, inplace=True)\n",
    "media['weekday'] = media['weekday'].astype(int)\n",
    "media.head()"
   ]
  },
  {
   "cell_type": "markdown",
   "metadata": {},
   "source": [
    "#### Running first model (lm1) Weekday & visitors "
   ]
  },
  {
   "cell_type": "code",
   "execution_count": 14,
   "metadata": {},
   "outputs": [],
   "source": [
    "# Putting feature variable to X\n",
    "X = media[['Visitors','weekday']]\n",
    "\n",
    "# Putting response variable to y\n",
    "y = media['Views_show']"
   ]
  },
  {
   "cell_type": "code",
   "execution_count": 15,
   "metadata": {},
   "outputs": [],
   "source": [
    "from sklearn.linear_model import LinearRegression"
   ]
  },
  {
   "cell_type": "code",
   "execution_count": 16,
   "metadata": {},
   "outputs": [],
   "source": [
    "# Representing LinearRegression as lr(Creating LinearRegression Object)\n",
    "lm = LinearRegression()"
   ]
  },
  {
   "cell_type": "code",
   "execution_count": 17,
   "metadata": {},
   "outputs": [
    {
     "name": "stderr",
     "output_type": "stream",
     "text": [
      "/usr/local/Cellar/python3/3.6.4/Frameworks/Python.framework/Versions/3.6/lib/python3.6/site-packages/scipy/linalg/basic.py:1226: RuntimeWarning: internal gelsd driver lwork query error, required iwork dimension not returned. This is likely the result of LAPACK bug 0038, fixed in LAPACK 3.2.2 (released July 21, 2010). Falling back to 'gelss' driver.\n",
      "  warnings.warn(mesg, RuntimeWarning)\n"
     ]
    },
    {
     "data": {
      "text/plain": [
       "LinearRegression(copy_X=True, fit_intercept=True, n_jobs=1, normalize=False)"
      ]
     },
     "execution_count": 17,
     "metadata": {},
     "output_type": "execute_result"
    }
   ],
   "source": [
    "# fit the model to the training data\n",
    "lm.fit(X,y)"
   ]
  },
  {
   "cell_type": "code",
   "execution_count": 334,
   "metadata": {},
   "outputs": [
    {
     "name": "stdout",
     "output_type": "stream",
     "text": [
      "                            OLS Regression Results                            \n",
      "==============================================================================\n",
      "Dep. Variable:             Views_show   R-squared:                       0.485\n",
      "Model:                            OLS   Adj. R-squared:                  0.472\n",
      "Method:                 Least Squares   F-statistic:                     36.26\n",
      "Date:                Fri, 09 Mar 2018   Prob (F-statistic):           8.01e-12\n",
      "Time:                        10:27:35   Log-Likelihood:                -1042.5\n",
      "No. Observations:                  80   AIC:                             2091.\n",
      "Df Residuals:                      77   BIC:                             2098.\n",
      "Df Model:                           2                                         \n",
      "Covariance Type:            nonrobust                                         \n",
      "==============================================================================\n",
      "                 coef    std err          t      P>|t|      [0.025      0.975]\n",
      "------------------------------------------------------------------------------\n",
      "const      -3.862e+04   1.07e+05     -0.360      0.720   -2.52e+05    1.75e+05\n",
      "Visitors       0.2787      0.057      4.911      0.000       0.166       0.392\n",
      "weekday    -3.591e+04   6591.205     -5.448      0.000    -4.9e+04   -2.28e+04\n",
      "==============================================================================\n",
      "Omnibus:                        2.684   Durbin-Watson:                   0.650\n",
      "Prob(Omnibus):                  0.261   Jarque-Bera (JB):                2.653\n",
      "Skew:                           0.423   Prob(JB):                        0.265\n",
      "Kurtosis:                       2.718   Cond. No.                     1.46e+07\n",
      "==============================================================================\n",
      "\n",
      "Warnings:\n",
      "[1] Standard Errors assume that the covariance matrix of the errors is correctly specified.\n",
      "[2] The condition number is large, 1.46e+07. This might indicate that there are\n",
      "strong multicollinearity or other numerical problems.\n"
     ]
    }
   ],
   "source": [
    "import statsmodels.api as sm\n",
    "#Unlike SKLearn, statsmodels don't automatically fit a constant, \n",
    "#so you need to use the method sm.add_constant(X) in order to add a constant. \n",
    "X = sm.add_constant(X)\n",
    "# create a fitted model in one line\n",
    "lm_1 = sm.OLS(y,X).fit()\n",
    "print(lm_1.summary())"
   ]
  },
  {
   "cell_type": "code",
   "execution_count": 18,
   "metadata": {},
   "outputs": [],
   "source": [
    "# create Weekend variable, with value 1 at weekends and 0 at weekdays\n",
    "def cond(i):\n",
    "    if i % 7 == 5: return 1\n",
    "    elif i % 7 == 4: return 1\n",
    "    else :return 0\n",
    "    return i\n",
    "\n",
    "media['weekend']=[cond(i) for i in media['day']]"
   ]
  },
  {
   "cell_type": "code",
   "execution_count": 336,
   "metadata": {},
   "outputs": [
    {
     "data": {
      "text/html": [
       "<div>\n",
       "<style>\n",
       "    .dataframe thead tr:only-child th {\n",
       "        text-align: right;\n",
       "    }\n",
       "\n",
       "    .dataframe thead th {\n",
       "        text-align: left;\n",
       "    }\n",
       "\n",
       "    .dataframe tbody tr th {\n",
       "        vertical-align: top;\n",
       "    }\n",
       "</style>\n",
       "<table border=\"1\" class=\"dataframe\">\n",
       "  <thead>\n",
       "    <tr style=\"text-align: right;\">\n",
       "      <th></th>\n",
       "      <th>Date</th>\n",
       "      <th>Views_show</th>\n",
       "      <th>Visitors</th>\n",
       "      <th>Views_platform</th>\n",
       "      <th>Ad_impression</th>\n",
       "      <th>Cricket_match_india</th>\n",
       "      <th>Character_A</th>\n",
       "      <th>day</th>\n",
       "      <th>weekday</th>\n",
       "      <th>weekend</th>\n",
       "    </tr>\n",
       "  </thead>\n",
       "  <tbody>\n",
       "    <tr>\n",
       "      <th>0</th>\n",
       "      <td>2017-03-01</td>\n",
       "      <td>183738</td>\n",
       "      <td>1260228</td>\n",
       "      <td>1706478</td>\n",
       "      <td>1060860448</td>\n",
       "      <td>0</td>\n",
       "      <td>0</td>\n",
       "      <td>1</td>\n",
       "      <td>4</td>\n",
       "      <td>0</td>\n",
       "    </tr>\n",
       "    <tr>\n",
       "      <th>1</th>\n",
       "      <td>2017-03-02</td>\n",
       "      <td>193763</td>\n",
       "      <td>1270561</td>\n",
       "      <td>1690727</td>\n",
       "      <td>1031846645</td>\n",
       "      <td>0</td>\n",
       "      <td>0</td>\n",
       "      <td>2</td>\n",
       "      <td>5</td>\n",
       "      <td>0</td>\n",
       "    </tr>\n",
       "    <tr>\n",
       "      <th>2</th>\n",
       "      <td>2017-03-03</td>\n",
       "      <td>210479</td>\n",
       "      <td>1248183</td>\n",
       "      <td>1726157</td>\n",
       "      <td>1010867575</td>\n",
       "      <td>0</td>\n",
       "      <td>0</td>\n",
       "      <td>3</td>\n",
       "      <td>6</td>\n",
       "      <td>0</td>\n",
       "    </tr>\n",
       "    <tr>\n",
       "      <th>3</th>\n",
       "      <td>2017-03-04</td>\n",
       "      <td>240061</td>\n",
       "      <td>1492913</td>\n",
       "      <td>1855353</td>\n",
       "      <td>1079194579</td>\n",
       "      <td>1</td>\n",
       "      <td>0</td>\n",
       "      <td>4</td>\n",
       "      <td>7</td>\n",
       "      <td>1</td>\n",
       "    </tr>\n",
       "    <tr>\n",
       "      <th>4</th>\n",
       "      <td>2017-03-05</td>\n",
       "      <td>446314</td>\n",
       "      <td>1594712</td>\n",
       "      <td>2041418</td>\n",
       "      <td>1357736987</td>\n",
       "      <td>0</td>\n",
       "      <td>0</td>\n",
       "      <td>5</td>\n",
       "      <td>1</td>\n",
       "      <td>1</td>\n",
       "    </tr>\n",
       "  </tbody>\n",
       "</table>\n",
       "</div>"
      ],
      "text/plain": [
       "        Date  Views_show  Visitors  Views_platform  Ad_impression  \\\n",
       "0 2017-03-01      183738   1260228         1706478     1060860448   \n",
       "1 2017-03-02      193763   1270561         1690727     1031846645   \n",
       "2 2017-03-03      210479   1248183         1726157     1010867575   \n",
       "3 2017-03-04      240061   1492913         1855353     1079194579   \n",
       "4 2017-03-05      446314   1594712         2041418     1357736987   \n",
       "\n",
       "   Cricket_match_india  Character_A  day  weekday  weekend  \n",
       "0                    0            0    1        4        0  \n",
       "1                    0            0    2        5        0  \n",
       "2                    0            0    3        6        0  \n",
       "3                    1            0    4        7        1  \n",
       "4                    0            0    5        1        1  "
      ]
     },
     "execution_count": 336,
     "metadata": {},
     "output_type": "execute_result"
    }
   ],
   "source": [
    "media.head()\n"
   ]
  },
  {
   "cell_type": "markdown",
   "metadata": {},
   "source": [
    "#### Running second model (lm2) visitors & weekend"
   ]
  },
  {
   "cell_type": "code",
   "execution_count": 19,
   "metadata": {},
   "outputs": [],
   "source": [
    "# Putting feature variable to X\n",
    "X = media[['Visitors','weekend']]\n",
    "\n",
    "# Putting response variable to y\n",
    "y = media['Views_show']"
   ]
  },
  {
   "cell_type": "code",
   "execution_count": 338,
   "metadata": {},
   "outputs": [
    {
     "name": "stdout",
     "output_type": "stream",
     "text": [
      "                            OLS Regression Results                            \n",
      "==============================================================================\n",
      "Dep. Variable:             Views_show   R-squared:                       0.500\n",
      "Model:                            OLS   Adj. R-squared:                  0.487\n",
      "Method:                 Least Squares   F-statistic:                     38.55\n",
      "Date:                Fri, 09 Mar 2018   Prob (F-statistic):           2.51e-12\n",
      "Time:                        10:27:35   Log-Likelihood:                -1041.3\n",
      "No. Observations:                  80   AIC:                             2089.\n",
      "Df Residuals:                      77   BIC:                             2096.\n",
      "Df Model:                           2                                         \n",
      "Covariance Type:            nonrobust                                         \n",
      "==============================================================================\n",
      "                 coef    std err          t      P>|t|      [0.025      0.975]\n",
      "------------------------------------------------------------------------------\n",
      "const      -8.833e+04   1.01e+05     -0.875      0.384   -2.89e+05    1.13e+05\n",
      "Visitors       0.1934      0.061      3.160      0.002       0.071       0.315\n",
      "weekend     1.807e+05   3.15e+04      5.740      0.000    1.18e+05    2.43e+05\n",
      "==============================================================================\n",
      "Omnibus:                        1.302   Durbin-Watson:                   1.254\n",
      "Prob(Omnibus):                  0.521   Jarque-Bera (JB):                1.367\n",
      "Skew:                           0.270   Prob(JB):                        0.505\n",
      "Kurtosis:                       2.656   Cond. No.                     1.41e+07\n",
      "==============================================================================\n",
      "\n",
      "Warnings:\n",
      "[1] Standard Errors assume that the covariance matrix of the errors is correctly specified.\n",
      "[2] The condition number is large, 1.41e+07. This might indicate that there are\n",
      "strong multicollinearity or other numerical problems.\n"
     ]
    }
   ],
   "source": [
    "import statsmodels.api as sm\n",
    "#Unlike SKLearn, statsmodels don't automatically fit a constant, \n",
    "#so you need to use the method sm.add_constant(X) in order to add a constant. \n",
    "X = sm.add_constant(X)\n",
    "# create a fitted model in one line\n",
    "lm_2 = sm.OLS(y,X).fit()\n",
    "print(lm_2.summary())"
   ]
  },
  {
   "cell_type": "markdown",
   "metadata": {},
   "source": [
    "#### Running third model (lm3) visitors, weekend & Character_A"
   ]
  },
  {
   "cell_type": "code",
   "execution_count": 339,
   "metadata": {
    "collapsed": true
   },
   "outputs": [],
   "source": [
    "# Putting feature variable to X\n",
    "X = media[['Visitors','weekend','Character_A']]\n",
    "\n",
    "# Putting response variable to y\n",
    "y = media['Views_show']"
   ]
  },
  {
   "cell_type": "code",
   "execution_count": 340,
   "metadata": {},
   "outputs": [
    {
     "name": "stdout",
     "output_type": "stream",
     "text": [
      "                            OLS Regression Results                            \n",
      "==============================================================================\n",
      "Dep. Variable:             Views_show   R-squared:                       0.586\n",
      "Model:                            OLS   Adj. R-squared:                  0.570\n",
      "Method:                 Least Squares   F-statistic:                     35.84\n",
      "Date:                Fri, 09 Mar 2018   Prob (F-statistic):           1.53e-14\n",
      "Time:                        10:27:35   Log-Likelihood:                -1033.8\n",
      "No. Observations:                  80   AIC:                             2076.\n",
      "Df Residuals:                      76   BIC:                             2085.\n",
      "Df Model:                           3                                         \n",
      "Covariance Type:            nonrobust                                         \n",
      "===============================================================================\n",
      "                  coef    std err          t      P>|t|      [0.025      0.975]\n",
      "-------------------------------------------------------------------------------\n",
      "const       -4.722e+04   9.31e+04     -0.507      0.613   -2.33e+05    1.38e+05\n",
      "Visitors        0.1480      0.057      2.586      0.012       0.034       0.262\n",
      "weekend      1.812e+05   2.89e+04      6.281      0.000    1.24e+05    2.39e+05\n",
      "Character_A  9.542e+04   2.41e+04      3.963      0.000    4.75e+04    1.43e+05\n",
      "==============================================================================\n",
      "Omnibus:                        0.908   Durbin-Watson:                   1.600\n",
      "Prob(Omnibus):                  0.635   Jarque-Bera (JB):                0.876\n",
      "Skew:                          -0.009   Prob(JB):                        0.645\n",
      "Kurtosis:                       2.488   Cond. No.                     1.42e+07\n",
      "==============================================================================\n",
      "\n",
      "Warnings:\n",
      "[1] Standard Errors assume that the covariance matrix of the errors is correctly specified.\n",
      "[2] The condition number is large, 1.42e+07. This might indicate that there are\n",
      "strong multicollinearity or other numerical problems.\n"
     ]
    }
   ],
   "source": [
    "import statsmodels.api as sm\n",
    "#Unlike SKLearn, statsmodels don't automatically fit a constant, \n",
    "#so you need to use the method sm.add_constant(X) in order to add a constant. \n",
    "X = sm.add_constant(X)\n",
    "# create a fitted model in one line\n",
    "lm_3 = sm.OLS(y,X).fit()\n",
    "print(lm_3.summary())"
   ]
  },
  {
   "cell_type": "code",
   "execution_count": 341,
   "metadata": {},
   "outputs": [],
   "source": [
    "# Create lag variable\n",
    "media['Lag_Views'] = np.roll(media['Views_show'], 1)\n",
    "media.Lag_Views.replace(108961,0, inplace=True)"
   ]
  },
  {
   "cell_type": "code",
   "execution_count": 342,
   "metadata": {},
   "outputs": [
    {
     "data": {
      "text/html": [
       "<div>\n",
       "<style>\n",
       "    .dataframe thead tr:only-child th {\n",
       "        text-align: right;\n",
       "    }\n",
       "\n",
       "    .dataframe thead th {\n",
       "        text-align: left;\n",
       "    }\n",
       "\n",
       "    .dataframe tbody tr th {\n",
       "        vertical-align: top;\n",
       "    }\n",
       "</style>\n",
       "<table border=\"1\" class=\"dataframe\">\n",
       "  <thead>\n",
       "    <tr style=\"text-align: right;\">\n",
       "      <th></th>\n",
       "      <th>Date</th>\n",
       "      <th>Views_show</th>\n",
       "      <th>Visitors</th>\n",
       "      <th>Views_platform</th>\n",
       "      <th>Ad_impression</th>\n",
       "      <th>Cricket_match_india</th>\n",
       "      <th>Character_A</th>\n",
       "      <th>day</th>\n",
       "      <th>weekday</th>\n",
       "      <th>weekend</th>\n",
       "      <th>Lag_Views</th>\n",
       "    </tr>\n",
       "  </thead>\n",
       "  <tbody>\n",
       "    <tr>\n",
       "      <th>0</th>\n",
       "      <td>2017-03-01</td>\n",
       "      <td>183738</td>\n",
       "      <td>1260228</td>\n",
       "      <td>1706478</td>\n",
       "      <td>1060860448</td>\n",
       "      <td>0</td>\n",
       "      <td>0</td>\n",
       "      <td>1</td>\n",
       "      <td>4</td>\n",
       "      <td>0</td>\n",
       "      <td>0</td>\n",
       "    </tr>\n",
       "    <tr>\n",
       "      <th>1</th>\n",
       "      <td>2017-03-02</td>\n",
       "      <td>193763</td>\n",
       "      <td>1270561</td>\n",
       "      <td>1690727</td>\n",
       "      <td>1031846645</td>\n",
       "      <td>0</td>\n",
       "      <td>0</td>\n",
       "      <td>2</td>\n",
       "      <td>5</td>\n",
       "      <td>0</td>\n",
       "      <td>183738</td>\n",
       "    </tr>\n",
       "    <tr>\n",
       "      <th>2</th>\n",
       "      <td>2017-03-03</td>\n",
       "      <td>210479</td>\n",
       "      <td>1248183</td>\n",
       "      <td>1726157</td>\n",
       "      <td>1010867575</td>\n",
       "      <td>0</td>\n",
       "      <td>0</td>\n",
       "      <td>3</td>\n",
       "      <td>6</td>\n",
       "      <td>0</td>\n",
       "      <td>193763</td>\n",
       "    </tr>\n",
       "    <tr>\n",
       "      <th>3</th>\n",
       "      <td>2017-03-04</td>\n",
       "      <td>240061</td>\n",
       "      <td>1492913</td>\n",
       "      <td>1855353</td>\n",
       "      <td>1079194579</td>\n",
       "      <td>1</td>\n",
       "      <td>0</td>\n",
       "      <td>4</td>\n",
       "      <td>7</td>\n",
       "      <td>1</td>\n",
       "      <td>210479</td>\n",
       "    </tr>\n",
       "    <tr>\n",
       "      <th>4</th>\n",
       "      <td>2017-03-05</td>\n",
       "      <td>446314</td>\n",
       "      <td>1594712</td>\n",
       "      <td>2041418</td>\n",
       "      <td>1357736987</td>\n",
       "      <td>0</td>\n",
       "      <td>0</td>\n",
       "      <td>5</td>\n",
       "      <td>1</td>\n",
       "      <td>1</td>\n",
       "      <td>240061</td>\n",
       "    </tr>\n",
       "  </tbody>\n",
       "</table>\n",
       "</div>"
      ],
      "text/plain": [
       "        Date  Views_show  Visitors  Views_platform  Ad_impression  \\\n",
       "0 2017-03-01      183738   1260228         1706478     1060860448   \n",
       "1 2017-03-02      193763   1270561         1690727     1031846645   \n",
       "2 2017-03-03      210479   1248183         1726157     1010867575   \n",
       "3 2017-03-04      240061   1492913         1855353     1079194579   \n",
       "4 2017-03-05      446314   1594712         2041418     1357736987   \n",
       "\n",
       "   Cricket_match_india  Character_A  day  weekday  weekend  Lag_Views  \n",
       "0                    0            0    1        4        0          0  \n",
       "1                    0            0    2        5        0     183738  \n",
       "2                    0            0    3        6        0     193763  \n",
       "3                    1            0    4        7        1     210479  \n",
       "4                    0            0    5        1        1     240061  "
      ]
     },
     "execution_count": 342,
     "metadata": {},
     "output_type": "execute_result"
    }
   ],
   "source": [
    "media.head()"
   ]
  },
  {
   "cell_type": "markdown",
   "metadata": {},
   "source": [
    "#### Running fourth model (lm4) visitors, Character_A, Lag_views & weekend"
   ]
  },
  {
   "cell_type": "code",
   "execution_count": 343,
   "metadata": {
    "collapsed": true
   },
   "outputs": [],
   "source": [
    "# Putting feature variable to X\n",
    "X = media[['Visitors','Character_A','Lag_Views','weekend']]\n",
    "\n",
    "# Putting response variable to y\n",
    "y = media['Views_show']"
   ]
  },
  {
   "cell_type": "code",
   "execution_count": 344,
   "metadata": {},
   "outputs": [
    {
     "name": "stdout",
     "output_type": "stream",
     "text": [
      "                            OLS Regression Results                            \n",
      "==============================================================================\n",
      "Dep. Variable:             Views_show   R-squared:                       0.740\n",
      "Model:                            OLS   Adj. R-squared:                  0.726\n",
      "Method:                 Least Squares   F-statistic:                     53.46\n",
      "Date:                Fri, 09 Mar 2018   Prob (F-statistic):           3.16e-21\n",
      "Time:                        10:27:36   Log-Likelihood:                -1015.1\n",
      "No. Observations:                  80   AIC:                             2040.\n",
      "Df Residuals:                      75   BIC:                             2052.\n",
      "Df Model:                           4                                         \n",
      "Covariance Type:            nonrobust                                         \n",
      "===============================================================================\n",
      "                  coef    std err          t      P>|t|      [0.025      0.975]\n",
      "-------------------------------------------------------------------------------\n",
      "const        -2.98e+04   7.43e+04     -0.401      0.689   -1.78e+05    1.18e+05\n",
      "Visitors        0.0659      0.047      1.394      0.167      -0.028       0.160\n",
      "Character_A  5.527e+04   2.01e+04      2.748      0.008    1.52e+04    9.53e+04\n",
      "Lag_Views       0.4317      0.065      6.679      0.000       0.303       0.560\n",
      "weekend      2.273e+05    2.4e+04      9.467      0.000    1.79e+05    2.75e+05\n",
      "==============================================================================\n",
      "Omnibus:                        1.425   Durbin-Watson:                   2.626\n",
      "Prob(Omnibus):                  0.491   Jarque-Bera (JB):                0.821\n",
      "Skew:                          -0.130   Prob(JB):                        0.663\n",
      "Kurtosis:                       3.423   Cond. No.                     1.44e+07\n",
      "==============================================================================\n",
      "\n",
      "Warnings:\n",
      "[1] Standard Errors assume that the covariance matrix of the errors is correctly specified.\n",
      "[2] The condition number is large, 1.44e+07. This might indicate that there are\n",
      "strong multicollinearity or other numerical problems.\n"
     ]
    }
   ],
   "source": [
    "import statsmodels.api as sm\n",
    "#Unlike SKLearn, statsmodels don't automatically fit a constant, \n",
    "#so you need to use the method sm.add_constant(X) in order to add a constant. \n",
    "X = sm.add_constant(X)\n",
    "# create a fitted model in one line\n",
    "lm_4 = sm.OLS(y,X).fit()\n",
    "print(lm_4.summary())"
   ]
  },
  {
   "cell_type": "code",
   "execution_count": 345,
   "metadata": {},
   "outputs": [
    {
     "data": {
      "text/plain": [
       "<matplotlib.axes._subplots.AxesSubplot at 0x1d2cc0301d0>"
      ]
     },
     "execution_count": 345,
     "metadata": {},
     "output_type": "execute_result"
    },
    {
     "data": {
      "image/png": "[encoded data removed]",
      "text/plain": [
       "<matplotlib.figure.Figure at 0x1d2cb8d36a0>"
      ]
     },
     "metadata": {},
     "output_type": "display_data"
    }
   ],
   "source": [
    "plt.figure(figsize = (20,10))        # Size of the figure\n",
    "sns.heatmap(media.corr(),annot = True)"
   ]
  },
  {
   "cell_type": "markdown",
   "metadata": {},
   "source": [
    "#### Running fifth model (lm5) Character_A, weekend & Views_platform"
   ]
  },
  {
   "cell_type": "code",
   "execution_count": 346,
   "metadata": {
    "collapsed": true
   },
   "outputs": [],
   "source": [
    "# Putting feature variable to X\n",
    "X = media[['weekend','Character_A','Views_platform']]\n",
    "\n",
    "# Putting response variable to y\n",
    "y = media['Views_show']"
   ]
  },
  {
   "cell_type": "code",
   "execution_count": 347,
   "metadata": {},
   "outputs": [
    {
     "name": "stdout",
     "output_type": "stream",
     "text": [
      "                            OLS Regression Results                            \n",
      "==============================================================================\n",
      "Dep. Variable:             Views_show   R-squared:                       0.602\n",
      "Model:                            OLS   Adj. R-squared:                  0.586\n",
      "Method:                 Least Squares   F-statistic:                     38.24\n",
      "Date:                Fri, 09 Mar 2018   Prob (F-statistic):           3.59e-15\n",
      "Time:                        10:27:37   Log-Likelihood:                -1032.3\n",
      "No. Observations:                  80   AIC:                             2073.\n",
      "Df Residuals:                      76   BIC:                             2082.\n",
      "Df Model:                           3                                         \n",
      "Covariance Type:            nonrobust                                         \n",
      "==================================================================================\n",
      "                     coef    std err          t      P>|t|      [0.025      0.975]\n",
      "----------------------------------------------------------------------------------\n",
      "const          -1.205e+05   9.97e+04     -1.208      0.231   -3.19e+05    7.81e+04\n",
      "weekend         1.781e+05   2.78e+04      6.410      0.000    1.23e+05    2.33e+05\n",
      "Character_A     7.062e+04    2.6e+04      2.717      0.008    1.89e+04    1.22e+05\n",
      "Views_platform     0.1507      0.048      3.152      0.002       0.055       0.246\n",
      "==============================================================================\n",
      "Omnibus:                        4.279   Durbin-Watson:                   1.516\n",
      "Prob(Omnibus):                  0.118   Jarque-Bera (JB):                2.153\n",
      "Skew:                           0.061   Prob(JB):                        0.341\n",
      "Kurtosis:                       2.206   Cond. No.                     2.03e+07\n",
      "==============================================================================\n",
      "\n",
      "Warnings:\n",
      "[1] Standard Errors assume that the covariance matrix of the errors is correctly specified.\n",
      "[2] The condition number is large, 2.03e+07. This might indicate that there are\n",
      "strong multicollinearity or other numerical problems.\n"
     ]
    }
   ],
   "source": [
    "import statsmodels.api as sm\n",
    "#Unlike SKLearn, statsmodels don't automatically fit a constant, \n",
    "#so you need to use the method sm.add_constant(X) in order to add a constant. \n",
    "X = sm.add_constant(X)\n",
    "# create a fitted model in one line\n",
    "lm_5 = sm.OLS(y,X).fit()\n",
    "print(lm_5.summary())"
   ]
  },
  {
   "cell_type": "markdown",
   "metadata": {},
   "source": [
    "#### Running sixth model (lm6) Character_A, weekend & Visitors"
   ]
  },
  {
   "cell_type": "code",
   "execution_count": 348,
   "metadata": {
    "collapsed": true
   },
   "outputs": [],
   "source": [
    "# Putting feature variable to X\n",
    "X = media[['weekend','Character_A','Visitors']]\n",
    "\n",
    "# Putting response variable to y\n",
    "y = media['Views_show']"
   ]
  },
  {
   "cell_type": "code",
   "execution_count": 349,
   "metadata": {},
   "outputs": [
    {
     "name": "stdout",
     "output_type": "stream",
     "text": [
      "                            OLS Regression Results                            \n",
      "==============================================================================\n",
      "Dep. Variable:             Views_show   R-squared:                       0.586\n",
      "Model:                            OLS   Adj. R-squared:                  0.570\n",
      "Method:                 Least Squares   F-statistic:                     35.84\n",
      "Date:                Fri, 09 Mar 2018   Prob (F-statistic):           1.53e-14\n",
      "Time:                        10:27:37   Log-Likelihood:                -1033.8\n",
      "No. Observations:                  80   AIC:                             2076.\n",
      "Df Residuals:                      76   BIC:                             2085.\n",
      "Df Model:                           3                                         \n",
      "Covariance Type:            nonrobust                                         \n",
      "===============================================================================\n",
      "                  coef    std err          t      P>|t|      [0.025      0.975]\n",
      "-------------------------------------------------------------------------------\n",
      "const       -4.722e+04   9.31e+04     -0.507      0.613   -2.33e+05    1.38e+05\n",
      "weekend      1.812e+05   2.89e+04      6.281      0.000    1.24e+05    2.39e+05\n",
      "Character_A  9.542e+04   2.41e+04      3.963      0.000    4.75e+04    1.43e+05\n",
      "Visitors        0.1480      0.057      2.586      0.012       0.034       0.262\n",
      "==============================================================================\n",
      "Omnibus:                        0.908   Durbin-Watson:                   1.600\n",
      "Prob(Omnibus):                  0.635   Jarque-Bera (JB):                0.876\n",
      "Skew:                          -0.009   Prob(JB):                        0.645\n",
      "Kurtosis:                       2.488   Cond. No.                     1.42e+07\n",
      "==============================================================================\n",
      "\n",
      "Warnings:\n",
      "[1] Standard Errors assume that the covariance matrix of the errors is correctly specified.\n",
      "[2] The condition number is large, 1.42e+07. This might indicate that there are\n",
      "strong multicollinearity or other numerical problems.\n"
     ]
    }
   ],
   "source": [
    "import statsmodels.api as sm\n",
    "#Unlike SKLearn, statsmodels don't automatically fit a constant, \n",
    "#so you need to use the method sm.add_constant(X) in order to add a constant. \n",
    "X = sm.add_constant(X)\n",
    "# create a fitted model in one line\n",
    "lm_6 = sm.OLS(y,X).fit()\n",
    "print(lm_6.summary())"
   ]
  },
  {
   "cell_type": "markdown",
   "metadata": {},
   "source": [
    "#### Running seventh model (lm7) Character_A, weekend, Visitors & Ad_impressions"
   ]
  },
  {
   "cell_type": "code",
   "execution_count": 350,
   "metadata": {
    "collapsed": true
   },
   "outputs": [],
   "source": [
    "# Putting feature variable to X\n",
    "X = media[['weekend','Character_A','Visitors','Ad_impression']]\n",
    "\n",
    "# Putting response variable to y\n",
    "y = media['Views_show']"
   ]
  },
  {
   "cell_type": "code",
   "execution_count": 351,
   "metadata": {},
   "outputs": [
    {
     "name": "stdout",
     "output_type": "stream",
     "text": [
      "                            OLS Regression Results                            \n",
      "==============================================================================\n",
      "Dep. Variable:             Views_show   R-squared:                       0.803\n",
      "Model:                            OLS   Adj. R-squared:                  0.792\n",
      "Method:                 Least Squares   F-statistic:                     76.40\n",
      "Date:                Fri, 09 Mar 2018   Prob (F-statistic):           1.10e-25\n",
      "Time:                        10:27:38   Log-Likelihood:                -1004.1\n",
      "No. Observations:                  80   AIC:                             2018.\n",
      "Df Residuals:                      75   BIC:                             2030.\n",
      "Df Model:                           4                                         \n",
      "Covariance Type:            nonrobust                                         \n",
      "=================================================================================\n",
      "                    coef    std err          t      P>|t|      [0.025      0.975]\n",
      "---------------------------------------------------------------------------------\n",
      "const         -2.834e+05   6.97e+04     -4.067      0.000   -4.22e+05   -1.45e+05\n",
      "weekend        1.485e+05   2.04e+04      7.296      0.000    1.08e+05    1.89e+05\n",
      "Character_A   -2.934e+04   2.16e+04     -1.356      0.179   -7.24e+04    1.38e+04\n",
      "Visitors          0.0144      0.042      0.340      0.735      -0.070       0.099\n",
      "Ad_impression     0.0004   3.96e-05      9.090      0.000       0.000       0.000\n",
      "==============================================================================\n",
      "Omnibus:                        4.808   Durbin-Watson:                   1.166\n",
      "Prob(Omnibus):                  0.090   Jarque-Bera (JB):                4.007\n",
      "Skew:                           0.476   Prob(JB):                        0.135\n",
      "Kurtosis:                       3.545   Cond. No.                     1.32e+10\n",
      "==============================================================================\n",
      "\n",
      "Warnings:\n",
      "[1] Standard Errors assume that the covariance matrix of the errors is correctly specified.\n",
      "[2] The condition number is large, 1.32e+10. This might indicate that there are\n",
      "strong multicollinearity or other numerical problems.\n"
     ]
    }
   ],
   "source": [
    "import statsmodels.api as sm\n",
    "#Unlike SKLearn, statsmodels don't automatically fit a constant, \n",
    "#so you need to use the method sm.add_constant(X) in order to add a constant. \n",
    "X = sm.add_constant(X)\n",
    "# create a fitted model in one line\n",
    "lm_7 = sm.OLS(y,X).fit()\n",
    "print(lm_7.summary())"
   ]
  },
  {
   "cell_type": "markdown",
   "metadata": {},
   "source": [
    "#### Running eight model (lm8) Character_A, weekend & Ad_impressions"
   ]
  },
  {
   "cell_type": "code",
   "execution_count": 352,
   "metadata": {
    "collapsed": true
   },
   "outputs": [],
   "source": [
    "# Putting feature variable to X\n",
    "X = media[['weekend','Character_A','Ad_impression']]\n",
    "\n",
    "# Putting response variable to y\n",
    "y = media['Views_show']"
   ]
  },
  {
   "cell_type": "code",
   "execution_count": 353,
   "metadata": {},
   "outputs": [
    {
     "name": "stdout",
     "output_type": "stream",
     "text": [
      "                            OLS Regression Results                            \n",
      "==============================================================================\n",
      "Dep. Variable:             Views_show   R-squared:                       0.803\n",
      "Model:                            OLS   Adj. R-squared:                  0.795\n",
      "Method:                 Least Squares   F-statistic:                     103.0\n",
      "Date:                Fri, 09 Mar 2018   Prob (F-statistic):           1.05e-26\n",
      "Time:                        10:27:38   Log-Likelihood:                -1004.2\n",
      "No. Observations:                  80   AIC:                             2016.\n",
      "Df Residuals:                      76   BIC:                             2026.\n",
      "Df Model:                           3                                         \n",
      "Covariance Type:            nonrobust                                         \n",
      "=================================================================================\n",
      "                    coef    std err          t      P>|t|      [0.025      0.975]\n",
      "---------------------------------------------------------------------------------\n",
      "const         -2.661e+05   4.74e+04     -5.609      0.000   -3.61e+05   -1.72e+05\n",
      "weekend         1.51e+05   1.88e+04      8.019      0.000    1.14e+05    1.89e+05\n",
      "Character_A    -2.99e+04   2.14e+04     -1.394      0.167   -7.26e+04    1.28e+04\n",
      "Ad_impression     0.0004   3.69e-05      9.875      0.000       0.000       0.000\n",
      "==============================================================================\n",
      "Omnibus:                        4.723   Durbin-Watson:                   1.169\n",
      "Prob(Omnibus):                  0.094   Jarque-Bera (JB):                3.939\n",
      "Skew:                           0.453   Prob(JB):                        0.139\n",
      "Kurtosis:                       3.601   Cond. No.                     9.26e+09\n",
      "==============================================================================\n",
      "\n",
      "Warnings:\n",
      "[1] Standard Errors assume that the covariance matrix of the errors is correctly specified.\n",
      "[2] The condition number is large, 9.26e+09. This might indicate that there are\n",
      "strong multicollinearity or other numerical problems.\n"
     ]
    }
   ],
   "source": [
    "import statsmodels.api as sm\n",
    "#Unlike SKLearn, statsmodels don't automatically fit a constant, \n",
    "#so you need to use the method sm.add_constant(X) in order to add a constant. \n",
    "X = sm.add_constant(X)\n",
    "# create a fitted model in one line\n",
    "lm_8 = sm.OLS(y,X).fit()\n",
    "print(lm_8.summary())"
   ]
  },
  {
   "cell_type": "code",
   "execution_count": 354,
   "metadata": {
    "collapsed": true
   },
   "outputs": [],
   "source": [
    "#Ad impression in million\n",
    "media['ad_impression_million'] = media['Ad_impression']/1000000"
   ]
  },
  {
   "cell_type": "markdown",
   "metadata": {},
   "source": [
    "#### Running seventh model (lm7) Character_A, weekend, Visitors, ad_impressions_million & Cricket_match_india"
   ]
  },
  {
   "cell_type": "code",
   "execution_count": 355,
   "metadata": {
    "collapsed": true
   },
   "outputs": [],
   "source": [
    "# Putting feature variable to X\n",
    "X = media[['weekend','Character_A','ad_impression_million','Cricket_match_india']]\n",
    "\n",
    "# Putting response variable to y\n",
    "y = media['Views_show']"
   ]
  },
  {
   "cell_type": "code",
   "execution_count": 356,
   "metadata": {},
   "outputs": [
    {
     "name": "stdout",
     "output_type": "stream",
     "text": [
      "                            OLS Regression Results                            \n",
      "==============================================================================\n",
      "Dep. Variable:             Views_show   R-squared:                       0.803\n",
      "Model:                            OLS   Adj. R-squared:                  0.793\n",
      "Method:                 Least Squares   F-statistic:                     76.59\n",
      "Date:                Fri, 09 Mar 2018   Prob (F-statistic):           1.02e-25\n",
      "Time:                        10:27:39   Log-Likelihood:                -1004.0\n",
      "No. Observations:                  80   AIC:                             2018.\n",
      "Df Residuals:                      75   BIC:                             2030.\n",
      "Df Model:                           4                                         \n",
      "Covariance Type:            nonrobust                                         \n",
      "=========================================================================================\n",
      "                            coef    std err          t      P>|t|      [0.025      0.975]\n",
      "-----------------------------------------------------------------------------------------\n",
      "const                 -2.633e+05    4.8e+04     -5.484      0.000   -3.59e+05   -1.68e+05\n",
      "weekend                1.521e+05    1.9e+04      7.987      0.000    1.14e+05     1.9e+05\n",
      "Character_A           -3.196e+04   2.19e+04     -1.457      0.149   -7.57e+04    1.17e+04\n",
      "ad_impression_million   363.7938     37.113      9.802      0.000     289.861     437.727\n",
      "Cricket_match_india   -1.396e+04   2.74e+04     -0.510      0.612   -6.85e+04    4.06e+04\n",
      "==============================================================================\n",
      "Omnibus:                        5.270   Durbin-Watson:                   1.161\n",
      "Prob(Omnibus):                  0.072   Jarque-Bera (JB):                4.560\n",
      "Skew:                           0.468   Prob(JB):                        0.102\n",
      "Kurtosis:                       3.701   Cond. No.                     9.32e+03\n",
      "==============================================================================\n",
      "\n",
      "Warnings:\n",
      "[1] Standard Errors assume that the covariance matrix of the errors is correctly specified.\n",
      "[2] The condition number is large, 9.32e+03. This might indicate that there are\n",
      "strong multicollinearity or other numerical problems.\n"
     ]
    }
   ],
   "source": [
    "import statsmodels.api as sm\n",
    "#Unlike SKLearn, statsmodels don't automatically fit a constant, \n",
    "#so you need to use the method sm.add_constant(X) in order to add a constant. \n",
    "X = sm.add_constant(X)\n",
    "# create a fitted model in one line\n",
    "lm_9 = sm.OLS(y,X).fit()\n",
    "print(lm_9.summary())"
   ]
  },
  {
   "cell_type": "markdown",
   "metadata": {},
   "source": [
    "#### Running seventh model (lm7) Character_A, weekend & ad_impressions_million"
   ]
  },
  {
   "cell_type": "code",
   "execution_count": 357,
   "metadata": {
    "collapsed": true
   },
   "outputs": [],
   "source": [
    "# Putting feature variable to X\n",
    "X = media[['weekend','Character_A','ad_impression_million']]\n",
    "\n",
    "# Putting response variable to y\n",
    "y = media['Views_show']"
   ]
  },
  {
   "cell_type": "code",
   "execution_count": 358,
   "metadata": {},
   "outputs": [
    {
     "name": "stdout",
     "output_type": "stream",
     "text": [
      "                            OLS Regression Results                            \n",
      "==============================================================================\n",
      "Dep. Variable:             Views_show   R-squared:                       0.803\n",
      "Model:                            OLS   Adj. R-squared:                  0.795\n",
      "Method:                 Least Squares   F-statistic:                     103.0\n",
      "Date:                Fri, 09 Mar 2018   Prob (F-statistic):           1.05e-26\n",
      "Time:                        10:27:39   Log-Likelihood:                -1004.2\n",
      "No. Observations:                  80   AIC:                             2016.\n",
      "Df Residuals:                      76   BIC:                             2026.\n",
      "Df Model:                           3                                         \n",
      "Covariance Type:            nonrobust                                         \n",
      "=========================================================================================\n",
      "                            coef    std err          t      P>|t|      [0.025      0.975]\n",
      "-----------------------------------------------------------------------------------------\n",
      "const                 -2.661e+05   4.74e+04     -5.609      0.000   -3.61e+05   -1.72e+05\n",
      "weekend                 1.51e+05   1.88e+04      8.019      0.000    1.14e+05    1.89e+05\n",
      "Character_A            -2.99e+04   2.14e+04     -1.394      0.167   -7.26e+04    1.28e+04\n",
      "ad_impression_million   364.4670     36.909      9.875      0.000     290.957     437.977\n",
      "==============================================================================\n",
      "Omnibus:                        4.723   Durbin-Watson:                   1.169\n",
      "Prob(Omnibus):                  0.094   Jarque-Bera (JB):                3.939\n",
      "Skew:                           0.453   Prob(JB):                        0.139\n",
      "Kurtosis:                       3.601   Cond. No.                     9.26e+03\n",
      "==============================================================================\n",
      "\n",
      "Warnings:\n",
      "[1] Standard Errors assume that the covariance matrix of the errors is correctly specified.\n",
      "[2] The condition number is large, 9.26e+03. This might indicate that there are\n",
      "strong multicollinearity or other numerical problems.\n"
     ]
    }
   ],
   "source": [
    "import statsmodels.api as sm\n",
    "#Unlike SKLearn, statsmodels don't automatically fit a constant, \n",
    "#so you need to use the method sm.add_constant(X) in order to add a constant. \n",
    "X = sm.add_constant(X)\n",
    "# create a fitted model in one line\n",
    "lm_10 = sm.OLS(y,X).fit()\n",
    "print(lm_10.summary())"
   ]
  },
  {
   "cell_type": "markdown",
   "metadata": {},
   "source": [
    "#### Making predictions using lm10"
   ]
  },
  {
   "cell_type": "code",
   "execution_count": 359,
   "metadata": {},
   "outputs": [],
   "source": [
    "# Making predictions using the model\n",
    "X = media[['weekend','Character_A','ad_impression_million']]\n",
    "X = sm.add_constant(X)\n",
    "Predicted_views = lm_10.predict(X)"
   ]
  },
  {
   "cell_type": "code",
   "execution_count": 360,
   "metadata": {
    "collapsed": true
   },
   "outputs": [],
   "source": [
    "from sklearn.metrics import mean_squared_error, r2_score\n",
    "mse = mean_squared_error(media.Views_show, Predicted_views)\n",
    "r_squared = r2_score(media.Views_show, Predicted_views)"
   ]
  },
  {
   "cell_type": "code",
   "execution_count": 361,
   "metadata": {},
   "outputs": [
    {
     "name": "stdout",
     "output_type": "stream",
     "text": [
      "Mean_Squared_Error : 4677651616.25\n",
      "r_square_value : 0.802643446858\n"
     ]
    }
   ],
   "source": [
    "print('Mean_Squared_Error :' ,mse)\n",
    "print('r_square_value :',r_squared)"
   ]
  },
  {
   "cell_type": "code",
   "execution_count": 362,
   "metadata": {},
   "outputs": [
    {
     "data": {
      "text/plain": [
       "Text(0,0.5,'Views')"
      ]
     },
     "execution_count": 362,
     "metadata": {},
     "output_type": "execute_result"
    },
    {
     "data": {
      "image/png": "[encoded data removed]",
      "text/plain": [
       "<matplotlib.figure.Figure at 0x1d2cb8cb4a8>"
      ]
     },
     "metadata": {},
     "output_type": "display_data"
    }
   ],
   "source": [
    "#Actual vs Predicted\n",
    "c = [i for i in range(1,81,1)]\n",
    "fig = plt.figure()\n",
    "plt.plot(c,media.Views_show, color=\"blue\", linewidth=2.5, linestyle=\"-\")\n",
    "plt.plot(c,Predicted_views, color=\"red\",  linewidth=2.5, linestyle=\"-\")\n",
    "fig.suptitle('Actual and Predicted', fontsize=20)              # Plot heading \n",
    "plt.xlabel('Index', fontsize=18)                               # X-label\n",
    "plt.ylabel('Views', fontsize=16)                               # Y-label"
   ]
  },
  {
   "cell_type": "code",
   "execution_count": 363,
   "metadata": {},
   "outputs": [
    {
     "data": {
      "text/plain": [
       "Text(0,0.5,'Views_show-Predicted_views')"
      ]
     },
     "execution_count": 363,
     "metadata": {},
     "output_type": "execute_result"
    },
    {
     "data": {
      "image/png": "[encoded data removed]",
      "text/plain": [
       "<matplotlib.figure.Figure at 0x1d2cc62b320>"
      ]
     },
     "metadata": {},
     "output_type": "display_data"
    }
   ],
   "source": [
    "# Error terms\n",
    "c = [i for i in range(1,81,1)]\n",
    "fig = plt.figure()\n",
    "plt.plot(c,media.Views_show-Predicted_views, color=\"blue\", linewidth=2.5, linestyle=\"-\")\n",
    "fig.suptitle('Error Terms', fontsize=20)              # Plot heading \n",
    "plt.xlabel('Index', fontsize=18)                      # X-label\n",
    "plt.ylabel('Views_show-Predicted_views', fontsize=16)                # Y-label"
   ]
  },
  {
   "cell_type": "markdown",
   "metadata": {},
   "source": [
    "#### Making predictions using lm6"
   ]
  },
  {
   "cell_type": "code",
   "execution_count": 364,
   "metadata": {
    "collapsed": true
   },
   "outputs": [],
   "source": [
    "# Making predictions using the model\n",
    "X = media[['weekend','Character_A','Visitors']]\n",
    "X = sm.add_constant(X)\n",
    "Predicted_views = lm_6.predict(X)"
   ]
  },
  {
   "cell_type": "code",
   "execution_count": 365,
   "metadata": {
    "collapsed": true
   },
   "outputs": [],
   "source": [
    "from sklearn.metrics import mean_squared_error, r2_score\n",
    "mse = mean_squared_error(media.Views_show, Predicted_views)\n",
    "r_squared = r2_score(media.Views_show, Predicted_views)"
   ]
  },
  {
   "cell_type": "code",
   "execution_count": 366,
   "metadata": {},
   "outputs": [
    {
     "name": "stdout",
     "output_type": "stream",
     "text": [
      "Mean_Squared_Error : 9815432480.45\n",
      "r_square_value : 0.585873408098\n"
     ]
    }
   ],
   "source": [
    "print('Mean_Squared_Error :' ,mse)\n",
    "print('r_square_value :',r_squared)"
   ]
  },
  {
   "cell_type": "code",
   "execution_count": 367,
   "metadata": {},
   "outputs": [
    {
     "data": {
      "text/plain": [
       "Text(0,0.5,'Views')"
      ]
     },
     "execution_count": 367,
     "metadata": {},
     "output_type": "execute_result"
    },
    {
     "data": {
      "image/png": "[encoded data removed]",
      "text/plain": [
       "<matplotlib.figure.Figure at 0x1d2cc6ae438>"
      ]
     },
     "metadata": {},
     "output_type": "display_data"
    }
   ],
   "source": [
    "#Actual vs Predicted\n",
    "c = [i for i in range(1,81,1)]\n",
    "fig = plt.figure()\n",
    "plt.plot(c,media.Views_show, color=\"blue\", linewidth=2.5, linestyle=\"-\")\n",
    "plt.plot(c,Predicted_views, color=\"red\",  linewidth=2.5, linestyle=\"-\")\n",
    "fig.suptitle('Actual and Predicted', fontsize=20)              # Plot heading \n",
    "plt.xlabel('Index', fontsize=18)                               # X-label\n",
    "plt.ylabel('Views', fontsize=16)                               # Y-label"
   ]
  },
  {
   "cell_type": "code",
   "execution_count": 368,
   "metadata": {},
   "outputs": [
    {
     "data": {
      "text/plain": [
       "Text(0,0.5,'Views_show-Predicted_views')"
      ]
     },
     "execution_count": 368,
     "metadata": {},
     "output_type": "execute_result"
    },
    {
     "data": {
      "image/png": "[encoded data removed]",
      "text/plain": [
       "<matplotlib.figure.Figure at 0x1d2cd97d908>"
      ]
     },
     "metadata": {},
     "output_type": "display_data"
    }
   ],
   "source": [
    "# Error terms\n",
    "c = [i for i in range(1,81,1)]\n",
    "fig = plt.figure()\n",
    "plt.plot(c,media.Views_show-Predicted_views, color=\"blue\", linewidth=2.5, linestyle=\"-\")\n",
    "fig.suptitle('Error Terms', fontsize=20)              # Plot heading \n",
    "plt.xlabel('Index', fontsize=18)                      # X-label\n",
    "plt.ylabel('Views_show-Predicted_views', fontsize=16)                # Y-label"
   ]
  }
 ],
 "metadata": {
  "kernelspec": {
   "display_name": "Python 3",
   "language": "python",
   "name": "python3"
  },
  "language_info": {
   "codemirror_mode": {
    "name": "ipython",
    "version": 3
   },
   "file_extension": ".py",
   "mimetype": "text/x-python",
   "name": "python",
   "nbconvert_exporter": "python",
   "pygments_lexer": "ipython3",
   "version": "3.6.4"
  }
 },
 "nbformat": 4,
 "nbformat_minor": 2
}
