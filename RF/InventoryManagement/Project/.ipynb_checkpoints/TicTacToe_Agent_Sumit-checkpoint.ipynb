{
 "cells": [
  {
   "cell_type": "markdown",
   "metadata": {
    "colab_type": "text",
    "id": "rznSDgbvGggG"
   },
   "source": [
    "## Tic-Tac-Toe Agent\n",
    "​\n",
    "In this notebook, you will learn to build an RL agent (using Q-learning) that learns to play Numerical Tic-Tac-Toe with odd numbers. The environment is playing randomly with the agent, i.e. its strategy is to put an even number randomly in an empty cell. The following is the layout of the notebook:\n",
    "        - Defining epsilon-greedy strategy\n",
    "        - Tracking state-action pairs for convergence\n",
    "        - Define hyperparameters for the Q-learning algorithm\n",
    "        - Generating episode and applying Q-update equation\n",
    "        - Checking convergence in Q-values"
   ]
  },
  {
   "cell_type": "markdown",
   "metadata": {
    "colab_type": "text",
    "id": "8eDb8PxBGggH"
   },
   "source": [
    "#### Importing libraries\n",
    "Write the code to import Tic-Tac-Toe class from the environment file"
   ]
  },
  {
   "cell_type": "code",
   "execution_count": 1,
   "metadata": {
    "colab": {},
    "colab_type": "code",
    "id": "6SFNYceFGggJ"
   },
   "outputs": [],
   "source": [
    "# from <TC_Env> import <TicTacToe> - import your class from environment file\n",
    "from TCGame_Env1 import TicTacToe\n",
    "import collections\n",
    "import numpy as np\n",
    "import random\n",
    "import pickle\n",
    "import time\n",
    "from matplotlib import pyplot as plt"
   ]
  },
  {
   "cell_type": "code",
   "execution_count": 2,
   "metadata": {
    "colab": {},
    "colab_type": "code",
    "id": "wYLQyopEG8nz"
   },
   "outputs": [],
   "source": [
    "# Function to convert state array into a string to store it as keys in the dictionary\n",
    "# states in Q-dictionary will be of form: x-4-5-3-8-x-x-x-x\n",
    "#   x | 4 | 5\n",
    "#   ----------\n",
    "#   3 | 8 | x\n",
    "#   ----------\n",
    "#   x | x | x\n",
    "\n",
    "def Q_state(state):\n",
    "\n",
    "    return ('-'.join(str(e) for e in state)).replace('nan','x')"
   ]
  },
  {
   "cell_type": "code",
   "execution_count": 3,
   "metadata": {
    "colab": {},
    "colab_type": "code",
    "id": "ZebMOoiVHBBr"
   },
   "outputs": [],
   "source": [
    "# Defining a function which will return valid (all possible actions) actions corresponding to a state\n",
    "# Important to avoid errors during deployment.\n",
    "\n",
    "def valid_actions(state):\n",
    "\n",
    "    valid_Actions = []\n",
    "    \n",
    "    valid_Actions = [i for i in env.action_space(state)[0]] ###### -------please call your environment as env\n",
    "    return valid_Actions"
   ]
  },
  {
   "cell_type": "code",
   "execution_count": 4,
   "metadata": {
    "colab": {},
    "colab_type": "code",
    "id": "IRciPUkYHDWf"
   },
   "outputs": [],
   "source": [
    "# Defining a function which will add new Q-values to the Q-dictionary. \n",
    "def add_to_dict(state):\n",
    "    state1 = Q_state(state)\n",
    "    \n",
    "    valid_act = valid_actions(state)\n",
    "    if state1 not in Q_dict.keys():\n",
    "        for action in valid_act:\n",
    "            Q_dict[state1][action]=0"
   ]
  },
  {
   "cell_type": "markdown",
   "metadata": {
    "colab_type": "text",
    "id": "fNNi_EfHGggM"
   },
   "source": [
    "#### Epsilon-greedy strategy - Write your code here\n",
    "\n",
    "(you can build your epsilon-decay function similar to the one given at the end of the notebook)"
   ]
  },
  {
   "cell_type": "code",
   "execution_count": 5,
   "metadata": {
    "colab": {},
    "colab_type": "code",
    "id": "m0lMfqiJGggN"
   },
   "outputs": [],
   "source": [
    "# Defining epsilon-greedy policy. You can choose any function epsilon-decay strategy\n",
    "\n",
    "def epsilon_greedy(state, time):\n",
    "    max_epsilon = 1.0\n",
    "    min_epsilon = 0.001\n",
    "    epsilon = min_epsilon + (max_epsilon - min_epsilon) * np.exp(-0.000001*time)\n",
    "\n",
    "    z = np.random.random()\n",
    "    state1 = Q_state(state)\n",
    "    if z > epsilon:\n",
    "        action = max(Q_dict[state1],key=Q_dict[state1].get)   #Exploitation: this gets the action corresponding to max q-value of current state\n",
    "    else:\n",
    "        agent_actions, env_actions =  env.action_space(state) #randomly choosing an action\n",
    "        # Converting to a list to get a random action from the possible actions\n",
    "        list_agent_actions = list(agent_actions)\n",
    "        action = tuple(list_agent_actions[random.randint(0,len(list_agent_actions) - 1)])\n",
    "    return action\n",
    "\n"
   ]
  },
  {
   "cell_type": "markdown",
   "metadata": {
    "colab_type": "text",
    "id": "H2kyQHOMGggR"
   },
   "source": [
    "#### Tracking the state-action pairs for checking convergence - write your code here"
   ]
  },
  {
   "cell_type": "code",
   "execution_count": 6,
   "metadata": {
    "colab": {},
    "colab_type": "code",
    "id": "qcxZ29vdGggS"
   },
   "outputs": [],
   "source": [
    "# Initialise Q_dictionary as 'Q_dict' and States_tracked as 'States_track' (for convergence)\n",
    "\n",
    "Q_dict = collections.defaultdict(dict)\n",
    "\n",
    "States_track = collections.defaultdict(dict)\n"
   ]
  },
  {
   "cell_type": "code",
   "execution_count": 7,
   "metadata": {
    "colab": {},
    "colab_type": "code",
    "id": "vs73iv8fHOxV"
   },
   "outputs": [],
   "source": [
    "# Initialise states to be tracked\n",
    "def initialise_tracking_states():\n",
    "    # The states and actions should convege for the 2nd action from the agent\n",
    "    sample_q_values = [('1-x-x-2-x-x-x-x-x',(2,7)),('1-2-x-x-x-x-x-x-x',(4,9)),('x-4-5-x-x-x-x-x-x',(8,3)),('x-x-x-3-8-x-x-x-x',(7,5))]\n",
    "    for q_values in sample_q_values:\n",
    "        state = q_values[0]\n",
    "        action = q_values[1]\n",
    "        States_track[state][action] = \"0\"   #this is an array which will have appended values of that state-action pair for every 2000th episode           \n"
   ]
  },
  {
   "cell_type": "code",
   "execution_count": 8,
   "metadata": {
    "colab": {},
    "colab_type": "code",
    "id": "dAbwJDMVHpwl"
   },
   "outputs": [],
   "source": [
    "#Defining a function to save the Q-dictionary as a pickle file\n",
    "\n",
    "def save_obj(obj, name ):\n",
    "    with open(name + '.pkl', 'wb') as f:\n",
    "        pickle.dump(obj, f, pickle.HIGHEST_PROTOCOL)"
   ]
  },
  {
   "cell_type": "code",
   "execution_count": 14,
   "metadata": {
    "colab": {},
    "colab_type": "code",
    "id": "6Pyj7nMVHsBi"
   },
   "outputs": [],
   "source": [
    "def save_tracking_states():\n",
    "    for state in States_track.keys():\n",
    "        for action in States_track[state].keys():\n",
    "            if state in Q_dict and action in Q_dict[state]:\n",
    "                States_track[state][action].append(str(Q_dict[state][action]))"
   ]
  },
  {
   "cell_type": "code",
   "execution_count": 15,
   "metadata": {
    "colab": {},
    "colab_type": "code",
    "id": "B_8xSluUHvew"
   },
   "outputs": [],
   "source": [
    "initialise_tracking_states()"
   ]
  },
  {
   "cell_type": "markdown",
   "metadata": {
    "colab_type": "text",
    "id": "-iPt--E9GggV"
   },
   "source": [
    "#### Define hyperparameters  ---write your code here"
   ]
  },
  {
   "cell_type": "code",
   "execution_count": 16,
   "metadata": {
    "colab": {},
    "colab_type": "code",
    "id": "G0_f5czFGggW"
   },
   "outputs": [],
   "source": [
    "EPISODES = 15000\n",
    "#EPISODES = 15000000\n",
    "LR = 0.01                   #learning rate\n",
    "GAMMA = 0.91\n",
    "\n",
    "\n",
    "#threshold = 2000       #every these many episodes, the 4 Q-values will be stored/appended (convergence graphs)\n",
    "threshold = 200\n",
    "#policy_threshold = 30000    #every these many episodes, the Q-dict will be updated\n",
    "policy_threshold = 300"
   ]
  },
  {
   "cell_type": "markdown",
   "metadata": {
    "colab_type": "text",
    "id": "Md6twJ7wGggh"
   },
   "source": [
    "### Q-update loop ---write your code here"
   ]
  },
  {
   "cell_type": "code",
   "execution_count": 17,
   "metadata": {
    "colab": {},
    "colab_type": "code",
    "id": "ldCgQuDNGggj"
   },
   "outputs": [
    {
     "name": "stdout",
     "output_type": "stream",
     "text": [
      "States_track[state][action] 0\n",
      "States_track[state][action] 0\n",
      "States_track[state][action] 0\n",
      "States_track[state][action] 0\n",
      "States_track[state][action] 0\n",
      "States_track[state][action] 0\n",
      "States_track[state][action] 0\n",
      "States_track[state][action] 0\n",
      "States_track[state][action] 0\n",
      "States_track[state][action] 0\n",
      "States_track[state][action] 0\n",
      "States_track[state][action] 0\n",
      "States_track[state][action] 0\n",
      "States_track[state][action] 0\n",
      "States_track[state][action] 0\n",
      "States_track[state][action] -0.01\n",
      "States_track[state][action] 0\n",
      "States_track[state][action] 0\n",
      "States_track[state][action] 0\n",
      "States_track[state][action] -0.01\n",
      "States_track[state][action] 0\n",
      "States_track[state][action] 0\n",
      "States_track[state][action] 0\n",
      "States_track[state][action] -0.01\n",
      "States_track[state][action] 0\n",
      "States_track[state][action] 0\n",
      "States_track[state][action] 0\n",
      "States_track[state][action] -0.01\n",
      "States_track[state][action] 0\n",
      "States_track[state][action] 0\n",
      "States_track[state][action] 0\n",
      "States_track[state][action] -0.01\n",
      "States_track[state][action] 0\n",
      "States_track[state][action] 0\n",
      "States_track[state][action] 0\n",
      "States_track[state][action] -0.01\n",
      "States_track[state][action] 0\n",
      "States_track[state][action] 0\n",
      "States_track[state][action] 0\n",
      "States_track[state][action] -0.01\n",
      "States_track[state][action] 0\n",
      "States_track[state][action] 0\n",
      "States_track[state][action] 0\n",
      "States_track[state][action] -0.01\n",
      "States_track[state][action] 0\n",
      "States_track[state][action] 0\n",
      "States_track[state][action] 0\n",
      "States_track[state][action] -0.01\n",
      "States_track[state][action] 0\n",
      "States_track[state][action] 0\n",
      "States_track[state][action] 0\n",
      "States_track[state][action] -0.01\n",
      "States_track[state][action] 0\n",
      "States_track[state][action] 0\n",
      "States_track[state][action] 0\n",
      "States_track[state][action] -0.01\n",
      "States_track[state][action] 0\n",
      "States_track[state][action] 0\n",
      "States_track[state][action] 0\n",
      "States_track[state][action] -0.01\n",
      "States_track[state][action] 0\n",
      "States_track[state][action] 0\n",
      "States_track[state][action] 0\n",
      "States_track[state][action] -0.01\n",
      "States_track[state][action] 0\n",
      "States_track[state][action] 0\n",
      "States_track[state][action] 0\n",
      "States_track[state][action] -0.01\n",
      "States_track[state][action] 0\n",
      "States_track[state][action] 0\n",
      "States_track[state][action] 0\n",
      "States_track[state][action] -0.01\n",
      "States_track[state][action] 0\n",
      "States_track[state][action] 0\n",
      "States_track[state][action] 0\n",
      "States_track[state][action] -0.01\n",
      "States_track[state][action] 0\n",
      "States_track[state][action] 0\n",
      "States_track[state][action] 0\n",
      "States_track[state][action] -0.01\n",
      "States_track[state][action] 0\n",
      "States_track[state][action] 0\n",
      "States_track[state][action] 0\n",
      "States_track[state][action] -0.01\n",
      "States_track[state][action] 0\n",
      "States_track[state][action] 0\n",
      "States_track[state][action] 0\n",
      "States_track[state][action] -0.01\n",
      "States_track[state][action] 0\n",
      "States_track[state][action] 0\n",
      "States_track[state][action] 0\n",
      "States_track[state][action] -0.01\n",
      "States_track[state][action] 0\n",
      "States_track[state][action] 0\n",
      "States_track[state][action] 0\n",
      "States_track[state][action] -0.01\n",
      "States_track[state][action] 0\n",
      "States_track[state][action] 0\n",
      "States_track[state][action] 0\n",
      "States_track[state][action] -0.01\n",
      "States_track[state][action] 0\n",
      "States_track[state][action] 0\n",
      "States_track[state][action] 0\n",
      "States_track[state][action] -0.01\n",
      "States_track[state][action] 0\n",
      "States_track[state][action] 0\n",
      "States_track[state][action] 0\n",
      "States_track[state][action] -0.01\n",
      "States_track[state][action] 0\n",
      "States_track[state][action] 0\n",
      "States_track[state][action] 0\n",
      "States_track[state][action] -0.01\n",
      "States_track[state][action] 0\n",
      "States_track[state][action] 0\n",
      "States_track[state][action] 0\n",
      "States_track[state][action] -0.01\n",
      "States_track[state][action] 0\n",
      "States_track[state][action] 0\n",
      "States_track[state][action] 0\n",
      "States_track[state][action] -0.01\n",
      "States_track[state][action] 0\n",
      "States_track[state][action] 0\n",
      "States_track[state][action] 0\n",
      "States_track[state][action] -0.01\n",
      "States_track[state][action] 0\n",
      "States_track[state][action] 0\n",
      "States_track[state][action] 0\n",
      "States_track[state][action] -0.01\n",
      "States_track[state][action] 0\n",
      "States_track[state][action] 0\n",
      "States_track[state][action] 0\n",
      "States_track[state][action] -0.01\n",
      "States_track[state][action] 0\n",
      "States_track[state][action] 0\n",
      "States_track[state][action] 0\n",
      "States_track[state][action] -0.01\n",
      "States_track[state][action] 0\n",
      "States_track[state][action] 0\n",
      "States_track[state][action] 0\n",
      "States_track[state][action] -0.01\n",
      "States_track[state][action] 0\n",
      "States_track[state][action] 0\n",
      "States_track[state][action] 0\n",
      "States_track[state][action] -0.01\n",
      "States_track[state][action] 0\n",
      "States_track[state][action] 0\n",
      "States_track[state][action] 0\n",
      "States_track[state][action] -0.01\n",
      "States_track[state][action] 0\n",
      "States_track[state][action] 0\n",
      "States_track[state][action] 0\n",
      "States_track[state][action] -0.01\n",
      "States_track[state][action] 0\n",
      "States_track[state][action] 0\n",
      "States_track[state][action] 0\n",
      "States_track[state][action] -0.01\n",
      "States_track[state][action] 0\n",
      "States_track[state][action] 0\n",
      "States_track[state][action] 0\n",
      "States_track[state][action] -0.01\n",
      "States_track[state][action] 0\n",
      "States_track[state][action] 0\n",
      "States_track[state][action] 0\n",
      "States_track[state][action] -0.0199\n",
      "States_track[state][action] 0\n",
      "States_track[state][action] 0\n",
      "States_track[state][action] 0\n",
      "States_track[state][action] -0.0199\n",
      "States_track[state][action] 0\n",
      "States_track[state][action] 0\n",
      "States_track[state][action] 0\n",
      "States_track[state][action] -0.0199\n",
      "States_track[state][action] 0\n",
      "States_track[state][action] 0\n",
      "States_track[state][action] 0\n",
      "States_track[state][action] -0.0199\n",
      "States_track[state][action] 0\n",
      "States_track[state][action] 0\n",
      "States_track[state][action] 0\n",
      "States_track[state][action] -0.0199\n",
      "States_track[state][action] 0\n",
      "States_track[state][action] 0\n",
      "States_track[state][action] 0\n",
      "States_track[state][action] -0.0199\n",
      "States_track[state][action] 0\n",
      "States_track[state][action] 0\n",
      "States_track[state][action] 0\n",
      "States_track[state][action] -0.0199\n",
      "States_track[state][action] 0\n",
      "States_track[state][action] 0\n",
      "States_track[state][action] 0\n",
      "States_track[state][action] -0.0199\n",
      "States_track[state][action] 0\n",
      "States_track[state][action] 0\n",
      "States_track[state][action] 0\n",
      "States_track[state][action] -0.0199\n",
      "States_track[state][action] 0\n",
      "States_track[state][action] 0\n",
      "States_track[state][action] 0\n",
      "States_track[state][action] -0.0199\n",
      "States_track[state][action] 0\n",
      "States_track[state][action] 0\n",
      "States_track[state][action] 0\n",
      "States_track[state][action] -0.0199\n",
      "States_track[state][action] 0\n",
      "States_track[state][action] 0\n",
      "States_track[state][action] 0\n",
      "States_track[state][action] -0.0199\n",
      "States_track[state][action] 0\n",
      "States_track[state][action] 0\n",
      "States_track[state][action] 0\n",
      "States_track[state][action] -0.0199\n",
      "States_track[state][action] 0\n",
      "States_track[state][action] 0\n",
      "States_track[state][action] 0\n",
      "States_track[state][action] -0.0199\n",
      "States_track[state][action] 0\n",
      "States_track[state][action] 0\n",
      "States_track[state][action] 0\n",
      "States_track[state][action] -0.0199\n",
      "States_track[state][action] 0\n",
      "States_track[state][action] 0\n",
      "States_track[state][action] 0\n",
      "States_track[state][action] -0.0199\n",
      "States_track[state][action] 0\n",
      "States_track[state][action] 0\n",
      "States_track[state][action] 0\n",
      "States_track[state][action] -0.0199\n",
      "States_track[state][action] 0\n",
      "States_track[state][action] 0\n",
      "States_track[state][action] 0\n",
      "States_track[state][action] -0.0199\n",
      "States_track[state][action] 0\n",
      "States_track[state][action] 0\n",
      "States_track[state][action] 0\n",
      "States_track[state][action] -0.0199\n",
      "States_track[state][action] 0\n",
      "States_track[state][action] 0\n",
      "States_track[state][action] 0\n",
      "States_track[state][action] -0.0199\n",
      "States_track[state][action] 0\n",
      "States_track[state][action] 0\n",
      "States_track[state][action] 0\n",
      "States_track[state][action] -0.0199\n",
      "States_track[state][action] 0\n",
      "States_track[state][action] 0\n",
      "States_track[state][action] 0\n",
      "States_track[state][action] -0.0199\n",
      "States_track[state][action] 0\n",
      "States_track[state][action] 0\n",
      "States_track[state][action] 0\n",
      "States_track[state][action] -0.0199\n",
      "States_track[state][action] 0\n",
      "States_track[state][action] 0\n",
      "States_track[state][action] 0\n",
      "States_track[state][action] -0.029701\n",
      "States_track[state][action] 0\n",
      "States_track[state][action] 0\n",
      "States_track[state][action] 0\n",
      "States_track[state][action] -0.029701\n",
      "States_track[state][action] 0\n",
      "States_track[state][action] 0\n",
      "States_track[state][action] 0\n",
      "States_track[state][action] -0.029701\n"
     ]
    },
    {
     "name": "stdout",
     "output_type": "stream",
     "text": [
      "States_track[state][action] 0\n",
      "States_track[state][action] 0\n",
      "States_track[state][action] 0\n",
      "States_track[state][action] -0.029701\n",
      "States_track[state][action] 0\n",
      "States_track[state][action] 0\n",
      "States_track[state][action] 0\n",
      "States_track[state][action] -0.029701\n",
      "States_track[state][action] 0\n",
      "States_track[state][action] 0\n",
      "States_track[state][action] 0\n",
      "States_track[state][action] -0.029701\n",
      "States_track[state][action] 0\n",
      "States_track[state][action] 0\n",
      "States_track[state][action] 0\n",
      "States_track[state][action] -0.029701\n",
      "States_track[state][action] 0\n",
      "States_track[state][action] 0\n",
      "States_track[state][action] 0\n",
      "States_track[state][action] -0.029701\n",
      "States_track[state][action] 0\n",
      "States_track[state][action] 0\n",
      "States_track[state][action] 0\n",
      "States_track[state][action] -0.029701\n",
      "States_track[state][action] 0\n",
      "States_track[state][action] 0\n",
      "States_track[state][action] 0\n",
      "States_track[state][action] -0.029701\n",
      "States_track[state][action] 0\n",
      "States_track[state][action] 0\n",
      "States_track[state][action] 0\n",
      "States_track[state][action] -0.029701\n",
      "States_track[state][action] 0\n",
      "States_track[state][action] 0\n",
      "States_track[state][action] 0\n",
      "States_track[state][action] -0.029701\n"
     ]
    }
   ],
   "source": [
    "start_time = time.time()\n",
    "\n",
    "for episode in range(EPISODES):\n",
    "    ##### Start writing your code from the next line\n",
    "    \n",
    "    env = TicTacToe()      #creating an instance of TicTacToe\n",
    "    \n",
    "    initial_state = env.state    #for the purpose of tracking reward\n",
    "    curr_state = env.state     \n",
    "    \n",
    "    add_to_dict(curr_state)\n",
    "    \n",
    "    time_step = 0\n",
    "    status = False\n",
    "    reward = None\n",
    "    total_reward = 0  \n",
    "    \n",
    "    while status == False:    #the episode will run only till the TicTacToe game is not over\n",
    "           \n",
    "        curr_action = epsilon_greedy(curr_state, time_step)\n",
    "        next_state, reward, status = env.step(curr_state, curr_action)\n",
    "        \n",
    "        add_to_dict(next_state)\n",
    "        \n",
    "        next_dict_state = Q_state(next_state)\n",
    " \n",
    "        if (Q_dict[next_dict_state]):                \n",
    "            # UPDATE RULE\n",
    "            max_next = max(Q_dict[next_dict_state],key=Q_dict[next_dict_state].get) #this gets the action corresponding to max q-value of next state\n",
    "            Q_dict[Q_state(curr_state)][curr_action] += LR * ((reward + (GAMMA*(Q_dict[Q_state(next_state)][max_next]))) - Q_dict[Q_state(curr_state)][curr_action])\n",
    "            curr_state = next_state       #state(t) became state(t-1)\n",
    "\n",
    "            total_reward += reward\n",
    "        \n",
    "        time_step += 1\n",
    " \n",
    "    \n",
    "    #TRACKING Q-VALUES\n",
    "    if (episode == threshold-1):       \n",
    "        initialise_tracking_states()\n",
    "      \n",
    "    if ((episode+1) % threshold) == 0:   \n",
    "        save_tracking_states()\n",
    "        save_obj(States_track,'States_tracked')   \n",
    "    \n",
    "    #SAVING POLICY\n",
    "    if ((episode+1)% policy_threshold ) == 0:  \n",
    "        save_obj(Q_dict,'Policy')    \n",
    " \n",
    "    \n",
    "elapsed_time = time.time() - start_time\n",
    "save_obj(States_track,'States_tracked')   \n",
    "save_obj(Q_dict,'Policy')"
   ]
  },
  {
   "cell_type": "code",
   "execution_count": null,
   "metadata": {
    "colab": {},
    "colab_type": "code",
    "id": "hhdWewc4Gggo"
   },
   "outputs": [],
   "source": []
  },
  {
   "cell_type": "code",
   "execution_count": null,
   "metadata": {
    "colab": {},
    "colab_type": "code",
    "id": "8LfSgVuHGggu"
   },
   "outputs": [],
   "source": []
  },
  {
   "cell_type": "markdown",
   "metadata": {
    "colab_type": "text",
    "id": "t6eMFbb8Ggg2"
   },
   "source": [
    "#### Check the Q-dictionary"
   ]
  },
  {
   "cell_type": "code",
   "execution_count": 18,
   "metadata": {
    "colab": {},
    "colab_type": "code",
    "id": "fr9d2fcVGgg4"
   },
   "outputs": [],
   "source": [
    "# Q_dict"
   ]
  },
  {
   "cell_type": "code",
   "execution_count": 19,
   "metadata": {
    "colab": {},
    "colab_type": "code",
    "id": "F1tnDJWkGgg9"
   },
   "outputs": [
    {
     "data": {
      "text/plain": [
       "99016"
      ]
     },
     "execution_count": 19,
     "metadata": {},
     "output_type": "execute_result"
    }
   ],
   "source": [
    "len(Q_dict)"
   ]
  },
  {
   "cell_type": "code",
   "execution_count": 20,
   "metadata": {
    "colab": {},
    "colab_type": "code",
    "id": "cFgUqfcQGghB"
   },
   "outputs": [
    {
     "data": {
      "text/plain": [
       "{(0, 1): -0.01,\n",
       " (0, 5): -0.10900000000000001,\n",
       " (0, 7): 0,\n",
       " (0, 9): -0.01,\n",
       " (1, 1): -0.01,\n",
       " (1, 5): -0.01,\n",
       " (1, 7): 0,\n",
       " (1, 9): -0.01,\n",
       " (2, 1): -0.01,\n",
       " (2, 5): -0.1,\n",
       " (2, 7): 0,\n",
       " (2, 9): 0,\n",
       " (5, 1): -0.01,\n",
       " (5, 5): 0,\n",
       " (5, 7): -0.0199,\n",
       " (5, 9): -0.01,\n",
       " (6, 1): 0,\n",
       " (6, 5): -0.1,\n",
       " (6, 7): -0.01,\n",
       " (6, 9): 0,\n",
       " (7, 1): 0,\n",
       " (7, 5): -0.029701,\n",
       " (7, 7): -0.01,\n",
       " (7, 9): 0,\n",
       " (8, 1): -0.1,\n",
       " (8, 5): -0.01,\n",
       " (8, 7): 0,\n",
       " (8, 9): 0}"
      ]
     },
     "execution_count": 20,
     "metadata": {},
     "output_type": "execute_result"
    }
   ],
   "source": [
    "# try checking for one of the states - that which action your agent thinks is the best  -----This will not be evaluated\n",
    "#print ('State: 1-2-4-5-x-x-x-x-x')\n",
    "#print (Q_dict['1-2-4-5-x-x-x-x-x'])\n",
    "#print ('State: x-4-5-3-8-x-x-x-x')\n",
    "#print (Q_dict['x-4-5-3-8-x-x-x-x'])\n",
    "#print ('State: 1-2-3-4-x-x-x-x-x')\n",
    "#print (Q_dict['1-2-3-4-x-x-x-x-x'])\n",
    "#print ('State: 1-x-x-2-5-4-x-x-x')\n",
    "#print (Q_dict['1-x-x-2-5-4-x-x-x'])\n",
    "Q_dict['1-x-x-2-x-x-x-x-x']\n",
    "Q_dict['1-2-x-x-x-x-x-x-x']\n",
    "Q_dict['x-4-5-x-x-x-x-x-x']\n",
    "Q_dict['x-x-x-3-8-x-x-x-x']"
   ]
  },
  {
   "cell_type": "markdown",
   "metadata": {
    "colab_type": "text",
    "id": "KGPZEQDFGghG"
   },
   "source": [
    "#### Check the states tracked for Q-values convergence\n",
    "(non-evaluative)"
   ]
  },
  {
   "cell_type": "code",
   "execution_count": 21,
   "metadata": {
    "colab": {},
    "colab_type": "code",
    "id": "9s1Tvz8HGghH"
   },
   "outputs": [],
   "source": [
    "# Write the code for plotting the graphs for state-action pairs tracked"
   ]
  },
  {
   "cell_type": "code",
   "execution_count": 22,
   "metadata": {
    "colab": {},
    "colab_type": "code",
    "id": "pVQInsg7GghL"
   },
   "outputs": [
    {
     "name": "stdout",
     "output_type": "stream",
     "text": [
      "4\n"
     ]
    },
    {
     "data": {
      "text/plain": [
       "[<matplotlib.lines.Line2D at 0x10cce6048>]"
      ]
     },
     "execution_count": 22,
     "metadata": {},
     "output_type": "execute_result"
    },
    {
     "data": {
      "image/png": "[encoded data removed]",
      "text/plain": [
       "<matplotlib.figure.Figure at 0x108a3eac8>"
      ]
     },
     "metadata": {
      "needs_background": "light"
     },
     "output_type": "display_data"
    }
   ],
   "source": [
    "with open('States_tracked.pkl', 'rb') as handle:\n",
    "    States_track = pickle.load(handle)  \n",
    "print(len(States_track))\n",
    "plt.figure(0, figsize=(16,7))\n",
    "plt.title('state=(x-x-x-3-8-x-x-x-x) action=(7,5)')\n",
    "xaxis = np.asarray(range(0, 1))\n",
    "plt.plot(xaxis,np.asarray(States_track[('x-x-x-3-8-x-x-x-x')][(7,5)]))"
   ]
  },
  {
   "cell_type": "markdown",
   "metadata": {
    "colab_type": "text",
    "id": "b2Opp8_NITkC"
   },
   "source": [
    "### Epsilon - decay check"
   ]
  },
  {
   "cell_type": "code",
   "execution_count": null,
   "metadata": {
    "colab": {},
    "colab_type": "code",
    "id": "gQ_D_JsuGghR"
   },
   "outputs": [],
   "source": [
    "max_epsilon = 1.0\n",
    "min_epsilon = 0.001\n",
    "time = np.arange(0,5000000)\n",
    "epsilon = []\n",
    "for i in range(0,5000000):\n",
    "    epsilon.append(min_epsilon + (max_epsilon - min_epsilon) * np.exp(-0.000001*i))"
   ]
  },
  {
   "cell_type": "code",
   "execution_count": null,
   "metadata": {
    "colab": {
     "base_uri": "https://localhost:8080/",
     "height": 347
    },
    "colab_type": "code",
    "id": "J7c2xADQGghV",
    "outputId": "cb60fce3-570b-45fb-bd83-abde3d13b273"
   },
   "outputs": [],
   "source": [
    "plt.plot(time, epsilon)\n",
    "plt.show()"
   ]
  },
  {
   "cell_type": "code",
   "execution_count": null,
   "metadata": {
    "colab": {},
    "colab_type": "code",
    "id": "59BRf43IJiQ1"
   },
   "outputs": [],
   "source": []
  }
 ],
 "metadata": {
  "colab": {
   "collapsed_sections": [],
   "name": "TicTacToe_Agent.ipynb",
   "provenance": [],
   "version": "0.3.2"
  },
  "kernelspec": {
   "display_name": "Python 3",
   "language": "python",
   "name": "python3"
  },
  "language_info": {
   "codemirror_mode": {
    "name": "ipython",
    "version": 3
   },
   "file_extension": ".py",
   "mimetype": "text/x-python",
   "name": "python",
   "nbconvert_exporter": "python",
   "pygments_lexer": "ipython3",
   "version": "3.6.5"
  }
 },
 "nbformat": 4,
 "nbformat_minor": 1
}
