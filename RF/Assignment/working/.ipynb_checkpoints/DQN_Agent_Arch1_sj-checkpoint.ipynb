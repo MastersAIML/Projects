{
 "cells": [
  {
   "cell_type": "markdown",
   "metadata": {
    "colab_type": "text",
    "id": "SwLA5vxioYJ9"
   },
   "source": [
    "### Cab-Driver Agent"
   ]
  },
  {
   "cell_type": "code",
   "execution_count": 213,
   "metadata": {
    "colab": {},
    "colab_type": "code",
    "id": "UOxSc45yoYJ-"
   },
   "outputs": [],
   "source": [
    "# Importing libraries\n",
    "import numpy as np\n",
    "import random\n",
    "import math\n",
    "from collections import deque\n",
    "import collections\n",
    "import pickle\n",
    "import numpy as np\n",
    "# for building DQN model\n",
    "from keras import layers\n",
    "from keras import Sequential\n",
    "from keras.layers import Dense, Activation, Flatten\n",
    "from keras.optimizers import Adam\n",
    "\n",
    "# for plotting graphs\n",
    "import matplotlib.pyplot as plt\n",
    "\n",
    "# Import the environment\n",
    "from Env import CabDriver"
   ]
  },
  {
   "cell_type": "markdown",
   "metadata": {
    "colab_type": "text",
    "id": "MBuHcVj6oYKE"
   },
   "source": [
    "#### Defining Time Matrix"
   ]
  },
  {
   "cell_type": "code",
   "execution_count": 214,
   "metadata": {
    "colab": {},
    "colab_type": "code",
    "id": "05hySmTaoYKF"
   },
   "outputs": [],
   "source": [
    "# Loading the time matrix provided\n",
    "Time_matrix = np.load(\"TM.npy\")"
   ]
  },
  {
   "cell_type": "markdown",
   "metadata": {
    "colab_type": "text",
    "id": "KIB9u08AoYKN"
   },
   "source": [
    "#### Tracking the state-action pairs for checking convergence\n"
   ]
  },
  {
   "cell_type": "code",
   "execution_count": 215,
   "metadata": {
    "colab": {},
    "colab_type": "code",
    "id": "QNzxeyFJoYKN"
   },
   "outputs": [],
   "source": [
    "States_track = collections.defaultdict(dict)"
   ]
  },
  {
   "cell_type": "code",
   "execution_count": 216,
   "metadata": {
    "colab": {},
    "colab_type": "code",
    "id": "t2TLYRO9oYKR"
   },
   "outputs": [],
   "source": [
    "# Initialise states to be tracked\n",
    "def initialise_tracking_states():\n",
    "    sample_q_values = [\n",
    "                   ((0,1,0,0,0,0,0,0,0,0,0,0,0,0,1,0,0,0,0,0,0,0,0,0,0,0,0,0,0,1,0,0,0,0,0,0),(1,3)),\n",
    "                   ((0,0,0,1,0,0,0,0,0,0,0,0,0,0,0,1,0,0,0,0,0,0,0,0,0,0,0,0,0,0,1,0,0,0,0,0),(4,1)),\n",
    "                   ((0,0,1,0,0,0,0,0,0,0,0,0,0,0,0,0,1,0,0,0,0,0,0,0,0,0,0,0,0,0,0,0,1,0,0,0),(2,3)),\n",
    "                   ((1,0,0,0,0,0,0,0,0,0,0,0,0,0,0,0,0,1,0,0,0,0,0,0,0,0,0,0,0,0,0,0,0,0,0,1),(1,4))]    \n",
    "    for q_values in sample_q_values:\n",
    "        state = q_values[0] \n",
    "        action = q_values[1]      \n",
    "        States_track[state][action] = []  "
   ]
  },
  {
   "cell_type": "code",
   "execution_count": 217,
   "metadata": {
    "colab": {},
    "colab_type": "code",
    "id": "BZrW_ilpoYKU"
   },
   "outputs": [],
   "source": [
    "initialise_tracking_states()"
   ]
  },
  {
   "cell_type": "code",
   "execution_count": 218,
   "metadata": {},
   "outputs": [],
   "source": [
    "def save_tracking_states(state,action,rewards):\n",
    "    if state in States_track.keys():\n",
    "        if action in States_track[state].keys():\n",
    "            print (state)\n",
    "            print (States_track[state][action])\n",
    "            print (rewards)\n",
    "            States_track[state][action].append(rewards)"
   ]
  },
  {
   "cell_type": "code",
   "execution_count": 219,
   "metadata": {
    "colab": {},
    "colab_type": "code",
    "id": "AGiwBxAvoYKW"
   },
   "outputs": [],
   "source": [
    "#Defining a function to save the Q-dictionary as a pickle file\n",
    "def save_obj(obj, name ):\n",
    "    with open(name + '.pkl', 'wb') as f:\n",
    "        pickle.dump(obj, f, pickle.HIGHEST_PROTOCOL)"
   ]
  },
  {
   "cell_type": "markdown",
   "metadata": {
    "colab_type": "text",
    "id": "22n5X2oNoYKY"
   },
   "source": [
    "### Agent Class\n",
    "\n",
    "If you are using this framework, you need to fill the following to complete the following code block:\n",
    "1. State and Action Size\n",
    "2. Hyperparameters\n",
    "3. Create a neural-network model in function 'build_model()'\n",
    "4. Define epsilon-greedy strategy in function 'get_action()'\n",
    "5. Complete the function 'append_sample()'. This function appends the recent experience tuple <state, action, reward, new-state> to the memory\n",
    "6. Complete the 'train_model()' function with following logic:\n",
    "   - If the memory size is greater than mini-batch size, you randomly sample experiences from memory as per the mini-batch size and do the following:\n",
    "      - Initialise your input and output batch for training the model\n",
    "      - Calculate the target Q value for each sample: reward + gamma*max(Q(s'a,))\n",
    "      - Get Q(s', a) values from the last trained model\n",
    "      - Update the input batch as your encoded state and output batch as your Q-values\n",
    "      - Then fit your DQN model using the updated input and output batch."
   ]
  },
  {
   "cell_type": "code",
   "execution_count": 220,
   "metadata": {
    "colab": {},
    "colab_type": "code",
    "id": "JsDXdezeoYKc"
   },
   "outputs": [],
   "source": [
    "class DQNAgent:\n",
    "    def __init__(self, state_size, action_size):\n",
    "        # Define size of state and action\n",
    "        self.state_size = state_size\n",
    "        self.action_size = action_size\n",
    "        \n",
    "        # Tracking the loss\n",
    "        self.track_loss=[]\n",
    "\n",
    "        # Write here: Specify you hyper parameters for the DQN\n",
    "        self.discount_factor = 0.95\n",
    "        self.learning_rate = 0.001 \n",
    "        self.epsilon_max = 1.0\n",
    "        self.epsilon_decay = 0.0003\n",
    "        self.epsilon_min = 0.00000001\n",
    "\n",
    "        self.batch_size = 32 \n",
    "\n",
    "        # create replay memory using deque\n",
    "        self.memory = deque(maxlen=2000)\n",
    "\n",
    "        # create main model and target model\n",
    "        self.model = self.build_model()\n",
    "        \n",
    "        \n",
    "    # approximate Q function using Neural Network\n",
    "    def build_model(self):\n",
    "        model = Sequential()\n",
    "        # Write your code here: Add layers to your neural nets       \n",
    "        # hidden layers\n",
    "        model.add(Dense(256, input_dim=self.state_size, activation='relu', kernel_initializer='he_uniform'))\n",
    "        model.add(Dense(150, activation='relu', kernel_initializer='he_uniform'))\n",
    "        model.add(Dense(100, activation='relu', kernel_initializer='he_uniform'))\n",
    "        # the output layer: output is of size num_actions\n",
    "        model.add(Dense(self.action_size, activation='relu', kernel_initializer='he_uniform'))\n",
    "        model.compile(loss='mse',optimizer=Adam(lr=self.learning_rate))\n",
    "        model.summary\n",
    "        return model\n",
    "\n",
    "\n",
    "\n",
    "    def get_action(self, state,request_actions):\n",
    "    # Write your code here:\n",
    "    # get action from model using epsilon-greedy policy\n",
    "    # Decay in ε after we generate each sample from the environment       \n",
    "        if np.random.rand() <= self.epsilon_max:\n",
    "            # explore: choose a random action from all possible actions\n",
    "            # in case of cartpole this will randomly choose an action between 0 and 1\n",
    "            return request_actions[random.randrange(len(request_actions))]\n",
    "        else:\n",
    "            # choose the action with the highest q(s, a)\n",
    "            # the first index corresponds to the batch size, so\n",
    "            # reshape state to (1, state_size) so that the first index corresponds to the batch size\n",
    "            state = state.reshape(1, self.state_size)\n",
    "            q_value = self.model.predict(state)\n",
    "            print ('getAction')\n",
    "            print (q_value)\n",
    "            act = np.argmax(q_value[0])\n",
    "            print (act)\n",
    "            print (type(act))\n",
    "            return act   \n",
    "\n",
    "    def append_sample(self, state, action, reward, next_state,done):\n",
    "    # Write your code here:\n",
    "    # save sample <s,a,r,s',done> to the replay memory\n",
    "        self.memory.append((state, action, reward, next_state,done))\n",
    "    \n",
    "    \n",
    "    # pick samples randomly from replay memory (with batch_size) and train the network\n",
    "    def train_model(self):\n",
    "        \n",
    "        if len(self.memory) > self.batch_size:\n",
    "            # Sample batch from the memory\n",
    "            mini_batch = random.sample(self.memory, self.batch_size)\n",
    "            update_output = np.zeros((self.batch_size, self.state_size))# write here\n",
    "            update_input = np.zeros((self.batch_size, self.state_size))# write here\n",
    "            \n",
    "            actions, rewards, done = [], [],[]\n",
    "            \n",
    "            for i in range(self.batch_size):\n",
    "                state, action, reward, next_state,done_boolean = mini_batch[i]\n",
    "                update_input[i] = state\n",
    "                actions.append(action)\n",
    "                rewards.append(reward)\n",
    "                update_output[i] = next_state\n",
    "                done.append(done_boolean)\n",
    "                \n",
    "            # Write your code from here\n",
    "            # 1. Predict the target from earlier model\n",
    "            target = self.model.predict(update_input)\n",
    "            \n",
    "            # 2. Get the target for the Q-network\n",
    "            target_qval = self.model.predict(update_output)\n",
    "            #3. Update your 'update_output' and 'update_input' batch\n",
    "            for i in range(self.batch_size):\n",
    "                if done[i]:\n",
    "                    target[i][actions[i]] = rewards[i]\n",
    "                else: # non-terminal state\n",
    "                    target[i][actions[i]] = rewards[i] + self.discount_factor * np.max(target_qval[i])\n",
    "\n",
    "            # 4. Fit your model and track the loss values\n",
    "            history=self.model.fit(update_input, target, batch_size=self.batch_size, epochs=1, verbose=0)\n",
    "            self.track_loss.append(history.history['loss'])\n",
    "\n",
    "\n",
    "    def get_model_weights(self):\n",
    "        return self.model.get_weights()\n"
   ]
  },
  {
   "cell_type": "code",
   "execution_count": 221,
   "metadata": {
    "colab": {},
    "colab_type": "code",
    "id": "7fjr8TRgoYKf"
   },
   "outputs": [],
   "source": [
    "Episodes=1000\n",
    "env=CabDriver()\n",
    "action_size=env.action_size\n",
    "state_size=env.state_size\n",
    "#Call the DQN agent\n",
    "agent=DQNAgent(state_size=state_size,action_size=action_size)\n",
    "rewards_per_episode, episodes = [], []"
   ]
  },
  {
   "cell_type": "markdown",
   "metadata": {
    "colab_type": "text",
    "id": "NxxXu2rXoYKh"
   },
   "source": [
    "### DQN block"
   ]
  },
  {
   "cell_type": "code",
   "execution_count": 222,
   "metadata": {
    "colab": {
     "base_uri": "https://localhost:8080/",
     "height": 85017
    },
    "colab_type": "code",
    "executionInfo": {
     "elapsed": 33670,
     "status": "ok",
     "timestamp": 1550468626608,
     "user": {
      "displayName": "Saurabh Jain",
      "photoUrl": "",
      "userId": "11697964432067469210"
     },
     "user_tz": -330
    },
    "id": "BhTw47ZKoYKj",
    "outputId": "fff3f6f9-be63-4459-f9ea-a56a051d03e5",
    "scrolled": false
   },
   "outputs": [
    {
     "name": "stdout",
     "output_type": "stream",
     "text": [
      "(0, 1, 0, 0, 0, 0, 0, 0, 0, 0, 0, 0, 0, 0, 1, 0, 0, 0, 0, 0, 0, 0, 0, 0, 0, 0, 0, 0, 0, 1, 0, 0, 0, 0, 0, 0)\n",
      "[]\n",
      "4.0\n",
      "(0, 0, 1, 0, 0, 0, 0, 0, 0, 0, 0, 0, 0, 0, 0, 0, 1, 0, 0, 0, 0, 0, 0, 0, 0, 0, 0, 0, 0, 0, 0, 0, 1, 0, 0, 0)\n",
      "[]\n",
      "20.0\n",
      "getAction\n",
      "[[  0.        0.        0.        0.        0.      430.53638 410.61896\n",
      "    0.      395.5036  389.8984  402.87457 393.54425   0.      417.3242\n",
      "    0.      434.9453  388.2796  404.4174  403.4489  404.37698]]\n",
      "15\n",
      "<class 'numpy.int64'>\n",
      "getAction\n",
      "[[  0.        0.        0.        0.        0.      358.62027 331.4245\n",
      "    0.      379.07922 386.77258 395.24588 391.6099    0.      346.77524\n",
      "    0.      371.92743 372.06857 378.33603 396.27924 385.5619 ]]\n",
      "18\n",
      "<class 'numpy.int64'>\n",
      "getAction\n",
      "[[  0.        0.        0.        0.        0.      450.72253 414.09277\n",
      "    0.      405.48163 408.06482 401.1427  411.8794    0.      409.82123\n",
      "    0.      416.59616 414.88467 393.22345 416.92273 437.84113]]\n",
      "5\n",
      "<class 'numpy.int64'>\n",
      "getAction\n",
      "[[0.0000000e+00 0.0000000e+00 5.3430200e-02 0.0000000e+00 0.0000000e+00\n",
      "  3.9379346e+02 3.7414331e+02 3.7060730e+02 3.6808054e+02 3.9197058e+02\n",
      "  3.8134900e+02 3.6771341e+02 0.0000000e+00 3.8123782e+02 0.0000000e+00\n",
      "  3.7703918e+02 3.7151022e+02 3.7727252e+02 3.7355545e+02 3.9505908e+02]]\n",
      "19\n",
      "<class 'numpy.int64'>\n",
      "getAction\n",
      "[[0.0000000e+00 0.0000000e+00 1.6549873e-01 0.0000000e+00 0.0000000e+00\n",
      "  4.5880490e+02 4.4326913e+02 4.4251450e+02 4.4313428e+02 4.6467303e+02\n",
      "  4.2442816e+02 4.4027856e+02 0.0000000e+00 4.1162915e+02 0.0000000e+00\n",
      "  4.3683658e+02 4.3821378e+02 4.5471841e+02 4.4141302e+02 4.6381921e+02]]\n",
      "9\n",
      "<class 'numpy.int64'>\n",
      "getAction\n",
      "[[  0.          0.          2.9217086   0.          0.        522.412\n",
      "  508.315     508.5374    500.0913    538.4804    475.94052   505.65012\n",
      "    0.        535.9979      0.        524.2374    492.4349    511.75064\n",
      "  490.48508   486.3232   ]]\n",
      "9\n",
      "<class 'numpy.int64'>\n",
      "getAction\n",
      "[[  0.        0.        0.        0.        0.      548.0985  523.0967\n",
      "  503.6248  513.8692  550.26654 512.4793  542.59534   0.      500.63242\n",
      "    0.      506.62558 517.7153  540.8747  546.6932  509.16263]]\n",
      "9\n",
      "<class 'numpy.int64'>\n",
      "getAction\n",
      "[[  0.        0.        0.        0.        0.      609.17615 601.12103\n",
      "  586.1913  587.84454 612.4354  614.83966 582.5603    0.      585.8922\n",
      "    0.      578.5707  592.9424  595.9078  617.1793  580.80475]]\n",
      "18\n",
      "<class 'numpy.int64'>\n",
      "getAction\n",
      "[[  0.        0.        0.        0.        0.      527.73364 507.7946\n",
      "  502.2664  518.61115 559.0628  546.7646  557.4774    0.      520.7741\n",
      "    0.      497.92902 520.8705  525.7005  528.6654  541.05597]]\n",
      "9\n",
      "<class 'numpy.int64'>\n",
      "(0, 0, 1, 0, 0, 0, 0, 0, 0, 0, 0, 0, 0, 0, 0, 0, 1, 0, 0, 0, 0, 0, 0, 0, 0, 0, 0, 0, 0, 0, 0, 0, 1, 0, 0, 0)\n",
      "[20.0]\n",
      "20.0\n",
      "getAction\n",
      "[[  0.        0.        0.        0.        0.      610.4873  620.12537\n",
      "  624.4448  602.22687 564.57245 612.0499  586.8374    0.      623.42126\n",
      "    0.      681.202   611.3856  617.29083 590.1765  621.8446 ]]\n",
      "15\n",
      "<class 'numpy.int64'>\n",
      "getAction\n",
      "[[  0.        0.        0.        0.        0.      618.283   613.9764\n",
      "  628.5591  584.6041  610.76196 604.86993 583.1151    0.      608.9316\n",
      "    0.      645.27484 606.6989  608.5096  597.52155 603.3186 ]]\n",
      "15\n",
      "<class 'numpy.int64'>\n",
      "getAction\n",
      "[[  0.        0.        0.        0.        0.      620.80316 611.91437\n",
      "  613.89703 621.8885  641.3483  643.8127  647.6958    0.      594.828\n",
      "    0.      603.03735 598.3963  583.4944  599.8145  641.3032 ]]\n",
      "11\n",
      "<class 'numpy.int64'>\n",
      "getAction\n",
      "[[  0.        0.        0.        0.        0.      643.6557  595.34753\n",
      "  580.00793 612.9371  615.8989  617.6606  598.3812    0.      607.67255\n",
      "    0.      573.6619  596.28595 623.5614  605.43665 662.9246 ]]\n",
      "19\n",
      "<class 'numpy.int64'>\n",
      "getAction\n",
      "[[  0.        0.        0.        0.        0.      570.3179  569.96515\n",
      "  577.85077 587.0987  548.68854 604.98035 560.78937   0.      606.7239\n",
      "    0.      634.629   569.076   585.3803  561.3386  601.80865]]\n",
      "15\n",
      "<class 'numpy.int64'>\n",
      "getAction\n",
      "[[  0.        0.        0.        0.        0.      590.7701  574.4478\n",
      "  579.8481  572.03796 588.10754 556.6044  554.4328    0.      603.68445\n",
      "    0.      586.95447 574.254   598.47156 585.623   588.67316]]\n",
      "13\n",
      "<class 'numpy.int64'>\n",
      "getAction\n",
      "[[  0.        0.        0.        0.        0.      543.3597  575.4057\n",
      "  580.348   585.6797  616.4786  643.58966 630.7284    0.      571.0033\n",
      "    0.      572.4999  580.19086 574.72565 592.3122  595.5921 ]]\n",
      "10\n",
      "<class 'numpy.int64'>\n",
      "getAction\n",
      "[[  0.        0.        0.        0.        0.      953.19305 892.8501\n",
      "  919.54565 898.82513 918.1003  884.59625 910.7889    0.      849.25354\n",
      "    0.      878.9905  876.7564  880.7164  927.1545  943.0667 ]]\n",
      "5\n",
      "<class 'numpy.int64'>\n",
      "getAction\n",
      "[[  0.        0.        0.        0.        0.      966.52924 914.51855\n",
      "  927.0611  916.2991  903.56915 865.004   829.8696    0.      879.9042\n",
      "    0.      906.5577  896.0688  907.2331  924.8658  943.3625 ]]\n",
      "5\n",
      "<class 'numpy.int64'>\n",
      "getAction\n",
      "[[   0.         0.         0.         0.         0.      1083.8727\n",
      "  1058.4763  1040.148   1072.6862  1057.8844  1029.4415  1070.576\n",
      "     0.      1100.986      0.      1089.6641  1049.5447  1070.4993\n",
      "  1072.1046  1016.98895]]\n",
      "13\n",
      "<class 'numpy.int64'>\n",
      "(0, 0, 0, 1, 0, 0, 0, 0, 0, 0, 0, 0, 0, 0, 0, 1, 0, 0, 0, 0, 0, 0, 0, 0, 0, 0, 0, 0, 0, 0, 1, 0, 0, 0, 0, 0)\n",
      "[]\n",
      "-35.0\n",
      "getAction\n",
      "[[  0.        0.        0.        0.        0.      907.28894 899.5912\n",
      "  867.18317 881.70514 944.1137  891.559   926.01685   0.      839.88336\n",
      "    0.      864.0227  878.2614  880.01154 899.52673 891.1098 ]]\n",
      "9\n",
      "<class 'numpy.int64'>\n",
      "getAction\n",
      "[[  0.        0.        0.        0.        0.      905.2879  885.7734\n",
      "  905.7396  901.4022  874.24976 931.4589  826.60803   0.      877.59216\n",
      "    0.      885.53796 864.34863 892.2322  857.60394 907.72296]]\n",
      "10\n",
      "<class 'numpy.int64'>\n",
      "getAction\n",
      "[[  0.        0.        0.        0.        0.      906.1757  915.62463\n",
      "  882.83496 891.97546 953.782   929.1533  902.0875    0.      921.58685\n",
      "    0.      930.4544  883.1692  856.7022  916.2128  911.7846 ]]\n",
      "9\n",
      "<class 'numpy.int64'>\n",
      "getAction\n",
      "[[   0.        0.        0.        0.        0.     1105.9885 1122.5073\n",
      "  1109.2672 1120.3634 1099.9368 1111.1449 1093.1836    0.     1076.6035\n",
      "     0.     1109.3824 1093.0787 1097.3268 1114.102  1102.1476]]\n",
      "6\n",
      "<class 'numpy.int64'>\n",
      "(0, 1, 0, 0, 0, 0, 0, 0, 0, 0, 0, 0, 0, 0, 1, 0, 0, 0, 0, 0, 0, 0, 0, 0, 0, 0, 0, 0, 0, 1, 0, 0, 0, 0, 0, 0)\n",
      "[4.0]\n",
      "4.0\n",
      "getAction\n",
      "[[   0.         0.         0.         0.         0.       994.1291\n",
      "   988.67847  988.8196   983.9205  1004.3778  1034.5162   993.9032\n",
      "     0.       950.8077     0.       941.12885  969.5532   990.1029\n",
      "   996.9048  1001.6043 ]]\n",
      "10\n",
      "<class 'numpy.int64'>\n",
      "getAction\n",
      "[[   0.         0.         0.         0.         0.      1065.1932\n",
      "  1067.9567  1061.8815  1020.3878  1017.1012   973.587   1012.33734\n",
      "     0.       993.47955    0.      1084.7976  1025.3878  1036.3894\n",
      "  1022.4727  1069.5156 ]]\n",
      "15\n",
      "<class 'numpy.int64'>\n",
      "getAction\n",
      "[[   0.        0.        0.        0.        0.     1134.1497 1093.9807\n",
      "  1123.7468 1102.6741 1078.814  1072.983  1110.8756    0.     1073.7828\n",
      "     0.     1127.1145 1074.0756 1083.6958 1163.4054 1089.4075]]\n",
      "18\n",
      "<class 'numpy.int64'>\n",
      "getAction\n",
      "[[   0.         0.         0.         0.         0.      1039.2119\n",
      "  1010.26843 1003.1408  1029.4141  1040.078   1062.0658  1052.8984\n",
      "     0.      1011.6398     0.      1055.2853   999.97754 1044.3127\n",
      "   966.7102  1024.1519 ]]\n",
      "10\n",
      "<class 'numpy.int64'>\n",
      "getAction\n",
      "[[  0.        0.        0.        0.        0.      978.6081  967.0467\n",
      "  945.49396 931.3261  939.333   938.1939  950.09186   0.      964.8139\n",
      "    0.      990.9237  946.42664 943.15247 930.4908  968.26636]]\n",
      "15\n",
      "<class 'numpy.int64'>\n",
      "getAction\n",
      "[[   0.         0.         0.         0.         0.       996.12225\n",
      "   973.63684  918.1691   947.0683   964.67377  965.41724  955.6244\n",
      "     0.       990.77545    0.      1035.8092   926.7316   920.09326\n",
      "   933.9682   914.42236]]\n",
      "15\n",
      "<class 'numpy.int64'>\n",
      "getAction\n",
      "[[  0.        0.        0.        0.        0.      838.2792  825.0517\n",
      "  850.9703  838.7767  841.4569  868.9199  868.5045    0.      851.2544\n",
      "    0.      873.24084 816.3629  853.81    847.55835 819.11176]]\n",
      "15\n",
      "<class 'numpy.int64'>\n",
      "getAction\n",
      "[[  0.        0.        0.        0.        0.      657.3848  683.67804\n",
      "  609.8102  665.56757 689.27094 666.3582  632.8413    0.      654.43585\n",
      "    0.      695.0167  670.7946  685.17035 663.8574  687.8139 ]]\n",
      "15\n",
      "<class 'numpy.int64'>\n"
     ]
    },
    {
     "name": "stdout",
     "output_type": "stream",
     "text": [
      "getAction\n",
      "[[  0.        0.        0.        0.        0.      784.56305 766.28937\n",
      "  745.38184 723.37494 738.0706  744.80194 719.08435   0.      700.38745\n",
      "    0.      766.82166 731.4633  698.6371  752.7479  765.2102 ]]\n",
      "5\n",
      "<class 'numpy.int64'>\n",
      "getAction\n",
      "[[   0.          0.         22.279219    0.          0.        899.7741\n",
      "   905.67004   891.7556    888.3788   1012.66425   799.1896    575.3202\n",
      "     0.        814.44476     0.        490.6917    875.91394   949.67206\n",
      "   989.7986    946.40344 ]]\n",
      "9\n",
      "<class 'numpy.int64'>\n",
      "getAction\n",
      "[[  0.         0.        15.609042   0.         0.       720.35156\n",
      "  767.35535  788.18274  759.91516  685.88837  622.9398   446.80844\n",
      "    0.       760.9845     0.       715.7467   741.95026  720.50397\n",
      "  689.5989   754.8181  ]]\n",
      "7\n",
      "<class 'numpy.int64'>\n",
      "getAction\n",
      "[[   0.         0.         0.         0.         0.      1065.9602\n",
      "  1120.1912  1044.7799  1109.6237  1091.1235  1177.8539  1181.8711\n",
      "     0.       991.27435    0.      1038.7601  1103.2921  1086.3304\n",
      "  1099.9053  1114.7123 ]]\n",
      "11\n",
      "<class 'numpy.int64'>\n",
      "(0, 1, 0, 0, 0, 0, 0, 0, 0, 0, 0, 0, 0, 0, 1, 0, 0, 0, 0, 0, 0, 0, 0, 0, 0, 0, 0, 0, 0, 1, 0, 0, 0, 0, 0, 0)\n",
      "[4.0, 4.0]\n",
      "4.0\n",
      "episode 99, reward -388.0, memory_length 2000, epsilon 0.9950622311098061\n",
      "getAction\n",
      "[[  0.        0.        0.        0.        0.      905.41473 908.8014\n",
      "  925.3161  907.0957  938.5425  959.24817 925.8004    0.      906.06793\n",
      "    0.      930.31696 891.13983 912.497   900.41144 954.1695 ]]\n",
      "10\n",
      "<class 'numpy.int64'>\n",
      "getAction\n",
      "[[  0.        0.        0.        0.        0.      979.0813  929.0036\n",
      "  921.03577 922.34015 981.46643 884.41223 889.85834   0.      941.0583\n",
      "    0.      933.8426  924.126   919.23083 930.93915 956.9281 ]]\n",
      "9\n",
      "<class 'numpy.int64'>\n",
      "getAction\n",
      "[[  0.        0.        0.        0.        0.      930.94147 888.08777\n",
      "  894.8354  886.8509  895.4251  876.9909  895.50745   0.      903.68634\n",
      "    0.      933.0293  872.687   854.269   862.4147  906.79254]]\n",
      "15\n",
      "<class 'numpy.int64'>\n",
      "getAction\n",
      "[[  0.        0.        0.        0.        0.      793.12286 764.7363\n",
      "  747.8665  771.8092  794.1543  794.92114 751.8534    0.      767.7713\n",
      "    0.      744.3836  772.0145  787.7013  758.5619  791.6994 ]]\n",
      "10\n",
      "<class 'numpy.int64'>\n",
      "getAction\n",
      "[[  0.        0.        0.        0.        0.      833.57684 801.5368\n",
      "  803.50854 788.4611  810.4767  751.2701  775.43475   0.      824.0003\n",
      "    0.      793.3714  772.6111  769.956   787.602   817.3366 ]]\n",
      "5\n",
      "<class 'numpy.int64'>\n",
      "getAction\n",
      "[[  0.        0.        0.        0.        0.      642.34705 680.48724\n",
      "  656.3341  667.8725  687.38855 701.62286 682.13257   0.      604.42487\n",
      "    0.      627.9127  653.5977  674.41125 676.0118  663.70844]]\n",
      "10\n",
      "<class 'numpy.int64'>\n",
      "(0, 0, 1, 0, 0, 0, 0, 0, 0, 0, 0, 0, 0, 0, 0, 0, 1, 0, 0, 0, 0, 0, 0, 0, 0, 0, 0, 0, 0, 0, 0, 0, 1, 0, 0, 0)\n",
      "[20.0, 20.0]\n",
      "20.0\n",
      "getAction\n",
      "[[  0.        0.        0.        0.        0.      864.9077  869.2836\n",
      "  875.2788  860.3575  831.42456 837.5715  881.35175   0.      880.3951\n",
      "    0.      890.00964 835.36835 848.4023  877.05316 826.3584 ]]\n",
      "15\n",
      "<class 'numpy.int64'>\n",
      "getAction\n",
      "[[  0.        0.        0.        0.        0.      944.6683  877.1097\n",
      "  931.32806 866.249   875.10455 831.9552  830.0469    0.      863.31793\n",
      "    0.      831.2958  854.34454 864.93536 890.48737 850.8696 ]]\n",
      "5\n",
      "<class 'numpy.int64'>\n",
      "(0, 0, 0, 1, 0, 0, 0, 0, 0, 0, 0, 0, 0, 0, 0, 1, 0, 0, 0, 0, 0, 0, 0, 0, 0, 0, 0, 0, 0, 0, 1, 0, 0, 0, 0, 0)\n",
      "[-35.0]\n",
      "-35.0\n",
      "getAction\n",
      "[[  0.        0.        0.        0.        0.      727.47455 741.0393\n",
      "  640.81146 744.7365  766.0378  723.4353  750.3998    0.      814.8078\n",
      "    0.      813.9938  734.71155 737.79956 711.4158  662.89294]]\n",
      "13\n",
      "<class 'numpy.int64'>\n",
      "getAction\n",
      "[[  0.        0.        0.        0.        0.      837.72504 855.9271\n",
      "  822.8567  840.3585  869.5653  860.6637  851.8894    0.      883.1064\n",
      "    0.      874.86224 836.884   860.4234  846.6762  812.10895]]\n",
      "13\n",
      "<class 'numpy.int64'>\n",
      "getAction\n",
      "[[   0.         0.         0.         0.         0.      1008.8881\n",
      "  1002.43585 1020.9425  1018.1037  1038.2411  1071.4124   980.7772\n",
      "     0.       878.68994    0.       962.55426  991.28235 1054.6665\n",
      "  1035.9026  1023.8357 ]]\n",
      "10\n",
      "<class 'numpy.int64'>\n",
      "getAction\n",
      "[[  0.        0.        0.        0.        0.      917.2897  891.233\n",
      "  926.56244 845.9789  864.789   885.3047  851.404     0.      826.83154\n",
      "    0.      819.16754 874.5413  866.1726  882.7102  893.2331 ]]\n",
      "7\n",
      "<class 'numpy.int64'>\n",
      "getAction\n",
      "[[  0.        0.        0.        0.        0.      814.94586 848.4332\n",
      "  931.4619  829.8838  895.7235  847.2913  823.3312    0.      747.8871\n",
      "    0.      710.97565 819.1418  847.7797  870.56555 852.6916 ]]\n",
      "7\n",
      "<class 'numpy.int64'>\n",
      "getAction\n",
      "[[  0.        0.        0.        0.        0.      754.5297  735.41583\n",
      "  733.63666 775.0971  479.79672 728.1668  546.161     0.      863.7883\n",
      "    0.      952.536   744.79486 659.1057  484.30118 769.2701 ]]\n",
      "15\n",
      "<class 'numpy.int64'>\n",
      "getAction\n",
      "[[   0.         0.         0.         0.         0.       937.7235\n",
      "   968.6748   863.7867   959.39703  884.6294   945.65466  986.34766\n",
      "     0.       856.81683    0.       903.4945   953.4353   927.3758\n",
      "   949.8944  1012.6384 ]]\n",
      "19\n",
      "<class 'numpy.int64'>\n",
      "getAction\n",
      "[[   0.        0.        0.        0.        0.     1249.1255 1174.0585\n",
      "  1193.2762 1184.3771 1173.5432 1223.7969 1162.5187    0.     1215.8082\n",
      "     0.     1220.8989 1181.7904 1191.1101 1197.042  1230.3793]]\n",
      "5\n",
      "<class 'numpy.int64'>\n",
      "getAction\n",
      "[[   0.        0.        0.        0.        0.     1135.0422 1118.0533\n",
      "  1142.2947 1088.3951 1150.8146 1119.3634 1114.354     0.     1060.3105\n",
      "     0.     1118.0598 1108.637  1110.6869 1101.9366 1145.9224]]\n",
      "9\n",
      "<class 'numpy.int64'>\n",
      "getAction\n",
      "[[   0.         0.         0.         0.         0.      1033.5082\n",
      "  1007.22455  998.523    996.3332  1005.95483 1013.7575   999.59436\n",
      "     0.       986.37805    0.      1028.0519   978.30225  984.7517\n",
      "  1003.6453  1028.0262 ]]\n",
      "5\n",
      "<class 'numpy.int64'>\n",
      "getAction\n",
      "[[   0.         0.         0.         0.         0.       926.70856\n",
      "  1064.12     848.02356 1092.5433  1016.97473 1153.5449  1125.9154\n",
      "     0.      1095.9237     0.      1149.7861  1084.43    1075.8273\n",
      "   991.7453   949.2338 ]]\n",
      "10\n",
      "<class 'numpy.int64'>\n",
      "getAction\n",
      "[[  0.        0.        0.        0.        0.      932.8676  939.0259\n",
      "  911.5176  897.8814  948.04846 947.1871  937.60645   0.      912.2333\n",
      "    0.      926.205   912.3686  923.8662  926.3257  917.0565 ]]\n",
      "9\n",
      "<class 'numpy.int64'>\n",
      "getAction\n",
      "[[   0.        0.        0.        0.        0.     1088.9883 1106.848\n",
      "  1074.1028 1079.6173 1175.112  1162.3843 1104.477     0.     1108.0077\n",
      "     0.     1104.7863 1082.7538 1112.3765 1105.632  1070.9093]]\n",
      "9\n",
      "<class 'numpy.int64'>\n",
      "getAction\n",
      "[[   0.        0.        0.        0.        0.     1033.6584 1045.0277\n",
      "  1054.1322 1024.5911 1095.7047 1039.2383 1028.855     0.     1017.3914\n",
      "     0.     1056.6664  996.1164  996.7725 1063.2722 1050.5259]]\n",
      "9\n",
      "<class 'numpy.int64'>\n",
      "getAction\n",
      "[[   0.        0.        0.        0.        0.     1253.2211 1214.3732\n",
      "  1251.2181 1208.9374 1226.2328 1207.4797 1188.0769    0.     1214.8859\n",
      "     0.     1220.3484 1195.2549 1150.8091 1236.4255 1238.3544]]\n",
      "5\n",
      "<class 'numpy.int64'>\n",
      "getAction\n",
      "[[   0.         0.         0.         0.         0.       899.2352\n",
      "   947.0112   849.0488   958.5438   951.1833   966.61835  969.3511\n",
      "     0.       986.9488     0.      1012.4207   943.9608   907.54865\n",
      "   915.29504  830.32477]]\n",
      "15\n",
      "<class 'numpy.int64'>\n",
      "getAction\n",
      "[[  0.        0.        0.        0.        0.      951.78125 927.9186\n",
      "  914.7937  907.6007  925.7954  914.84705 938.0387    0.      900.8104\n",
      "    0.      896.74023 909.33673 918.3562  949.66626 961.0108 ]]\n",
      "19\n",
      "<class 'numpy.int64'>\n",
      "getAction\n",
      "[[   0.        0.        0.        0.        0.     1338.9706 1323.7078\n",
      "  1312.5074 1321.1587 1323.1113 1330.8254 1349.18      0.     1316.797\n",
      "     0.     1351.5656 1308.0189 1329.1835 1298.372  1295.9491]]\n",
      "15\n",
      "<class 'numpy.int64'>\n",
      "getAction\n",
      "[[   0.        0.        0.        0.        0.     1246.6117 1232.4436\n",
      "  1261.8853 1225.4736 1238.4028 1241.604  1177.1256    0.     1165.831\n",
      "     0.     1215.1261 1203.4827 1172.9432 1193.176  1262.7849]]\n",
      "19\n",
      "<class 'numpy.int64'>\n",
      "getAction\n",
      "[[   0.         0.         6.3911     0.         0.      1023.20856\n",
      "  1048.4814   984.1209  1049.5054   876.11945  869.6649   888.2997\n",
      "     0.      1084.3298     0.      1043.6533  1068.6172   995.02423\n",
      "   956.53687 1130.0634 ]]\n",
      "19\n",
      "<class 'numpy.int64'>\n"
     ]
    },
    {
     "name": "stdout",
     "output_type": "stream",
     "text": [
      "getAction\n",
      "[[   0.        0.        0.        0.        0.     1247.491  1189.0101\n",
      "  1193.6919 1188.3632 1244.3539 1239.4312 1195.7762    0.     1253.5974\n",
      "     0.     1275.568  1198.3312 1168.8269 1202.7253 1206.6433]]\n",
      "15\n",
      "<class 'numpy.int64'>\n",
      "getAction\n",
      "[[   0.        0.        0.        0.        0.     1249.131  1258.48\n",
      "  1303.5376 1242.5756 1258.3356 1321.5713 1259.4755    0.     1252.0486\n",
      "     0.     1329.749  1255.6864 1255.2081 1264.712  1315.3188]]\n",
      "15\n",
      "<class 'numpy.int64'>\n",
      "getAction\n",
      "[[   0.        0.        0.        0.        0.     1083.2743 1135.1857\n",
      "  1099.0082 1062.0381 1136.1707 1099.5496 1081.5201    0.     1097.6504\n",
      "     0.     1107.2983 1078.6764 1111.3473 1054.4391 1127.331 ]]\n",
      "9\n",
      "<class 'numpy.int64'>\n",
      "getAction\n",
      "[[  0.        0.        0.        0.        0.      979.79224 941.2683\n",
      "  896.25543 917.0973  932.30566 895.2221  956.38544   0.      969.3171\n",
      "    0.      962.4585  930.03143 922.9784  933.749   971.68195]]\n",
      "5\n",
      "<class 'numpy.int64'>\n",
      "getAction\n",
      "[[   0.         0.         0.         0.         0.      1035.4066\n",
      "   998.59045 1032.5254   996.6976  1011.16077 1008.9265   992.9308\n",
      "     0.       975.24664    0.      1020.33344  997.6248   962.8581\n",
      "  1005.22534 1055.348  ]]\n",
      "19\n",
      "<class 'numpy.int64'>\n",
      "getAction\n",
      "[[  0.        0.        0.        0.        0.      840.15247 886.1573\n",
      "  891.4005  867.04724 690.00336 836.504   831.6824    0.      765.47266\n",
      "    0.      906.60724 870.2566  722.56226 780.467   932.1568 ]]\n",
      "19\n",
      "<class 'numpy.int64'>\n",
      "getAction\n",
      "[[   0.        0.        0.        0.        0.     1368.5962 1414.6257\n",
      "  1375.0566 1436.0833 1514.3992 1561.8994 1465.7357    0.     1423.5839\n",
      "     0.     1467.927  1395.4072 1499.6913 1435.9397 1403.0431]]\n",
      "10\n",
      "<class 'numpy.int64'>\n",
      "getAction\n",
      "[[   0.         0.         0.         0.         0.      1037.4495\n",
      "  1112.9171  1072.2811  1085.6782  1113.8352  1080.4923  1137.8937\n",
      "     0.      1147.0228     0.      1165.0214  1103.727   1009.92834\n",
      "  1076.1959   934.7203 ]]\n",
      "15\n",
      "<class 'numpy.int64'>\n",
      "getAction\n",
      "[[  0.        0.        0.        0.        0.      900.2128  931.9336\n",
      "  859.39716 903.8014  965.7213  918.31903 941.22144   0.      888.4865\n",
      "    0.      921.2208  915.0988  914.8047  921.8962  914.52814]]\n",
      "9\n",
      "<class 'numpy.int64'>\n",
      "getAction\n",
      "[[   0.        0.        0.        0.        0.     1185.8693 1217.7838\n",
      "  1149.428  1134.1158 1173.1295 1209.7339 1169.7924    0.     1181.9039\n",
      "     0.     1160.9814 1154.6107 1127.455  1147.2738 1212.6635]]\n",
      "6\n",
      "<class 'numpy.int64'>\n",
      "getAction\n",
      "[[   0.        0.        0.        0.        0.     1364.6644 1309.1443\n",
      "  1335.5406 1295.9708 1348.0358 1359.5002 1317.1388    0.     1257.7249\n",
      "     0.     1343.1909 1296.3949 1289.5771 1304.2296 1329.0728]]\n",
      "5\n",
      "<class 'numpy.int64'>\n",
      "getAction\n",
      "[[   0.        0.        0.        0.        0.     1343.0404 1360.5151\n",
      "  1363.4402 1363.4957 1401.2883 1403.1475 1353.0734    0.     1377.8229\n",
      "     0.     1364.7966 1350.136  1337.9902 1367.8816 1414.7441]]\n",
      "19\n",
      "<class 'numpy.int64'>\n",
      "getAction\n",
      "[[   0.         0.         0.         0.         0.       930.16425\n",
      "   948.251    926.7745   910.6231   962.8711  1015.75934  931.2181\n",
      "     0.       944.28015    0.       938.86884  930.98553  968.60876\n",
      "   944.38043  962.5151 ]]\n",
      "10\n",
      "<class 'numpy.int64'>\n",
      "getAction\n",
      "[[   0.        0.        0.        0.        0.     1065.1442 1072.785\n",
      "  1058.4797 1030.4514 1106.7646 1094.1794 1069.7821    0.     1073.121\n",
      "     0.     1047.8647 1063.8711 1104.958  1078.4125 1109.9695]]\n",
      "19\n",
      "<class 'numpy.int64'>\n"
     ]
    },
    {
     "ename": "KeyboardInterrupt",
     "evalue": "",
     "output_type": "error",
     "traceback": [
      "\u001b[0;31m---------------------------------------------------------------------------\u001b[0m",
      "\u001b[0;31mKeyboardInterrupt\u001b[0m                         Traceback (most recent call last)",
      "\u001b[0;32m<ipython-input-222-6dde8927528a>\u001b[0m in \u001b[0;36m<module>\u001b[0;34m\u001b[0m\n\u001b[1;32m     25\u001b[0m             \u001b[0magent\u001b[0m\u001b[0;34m.\u001b[0m\u001b[0mappend_sample\u001b[0m\u001b[0;34m(\u001b[0m\u001b[0menv\u001b[0m\u001b[0;34m.\u001b[0m\u001b[0mstate_encod_arch1\u001b[0m\u001b[0;34m(\u001b[0m\u001b[0mstate\u001b[0m\u001b[0;34m)\u001b[0m\u001b[0;34m,\u001b[0m\u001b[0menv\u001b[0m\u001b[0;34m.\u001b[0m\u001b[0maction_space\u001b[0m\u001b[0;34m.\u001b[0m\u001b[0mindex\u001b[0m\u001b[0;34m(\u001b[0m\u001b[0maction\u001b[0m\u001b[0;34m)\u001b[0m\u001b[0;34m,\u001b[0m\u001b[0mreward\u001b[0m\u001b[0;34m,\u001b[0m\u001b[0menv\u001b[0m\u001b[0;34m.\u001b[0m\u001b[0mstate_encod_arch1\u001b[0m\u001b[0;34m(\u001b[0m\u001b[0mnext_state\u001b[0m\u001b[0;34m)\u001b[0m\u001b[0;34m,\u001b[0m\u001b[0mis_done\u001b[0m\u001b[0;34m)\u001b[0m\u001b[0;34m\u001b[0m\u001b[0m\n\u001b[1;32m     26\u001b[0m             \u001b[0;31m# 4. Train the model by calling function agent.train_model\u001b[0m\u001b[0;34m\u001b[0m\u001b[0;34m\u001b[0m\u001b[0m\n\u001b[0;32m---> 27\u001b[0;31m             \u001b[0magent\u001b[0m\u001b[0;34m.\u001b[0m\u001b[0mtrain_model\u001b[0m\u001b[0;34m(\u001b[0m\u001b[0;34m)\u001b[0m\u001b[0;34m\u001b[0m\u001b[0m\n\u001b[0m\u001b[1;32m     28\u001b[0m             \u001b[0;31m# 5. Keep a track of rewards, Q-values, loss\u001b[0m\u001b[0;34m\u001b[0m\u001b[0;34m\u001b[0m\u001b[0m\n\u001b[1;32m     29\u001b[0m             \u001b[0mscore\u001b[0m\u001b[0;34m+=\u001b[0m\u001b[0mreward\u001b[0m\u001b[0;34m\u001b[0m\u001b[0m\n",
      "\u001b[0;32m<ipython-input-220-1304253fc42b>\u001b[0m in \u001b[0;36mtrain_model\u001b[0;34m(self)\u001b[0m\n\u001b[1;32m     97\u001b[0m                     \u001b[0mtarget\u001b[0m\u001b[0;34m[\u001b[0m\u001b[0mi\u001b[0m\u001b[0;34m]\u001b[0m\u001b[0;34m[\u001b[0m\u001b[0mactions\u001b[0m\u001b[0;34m[\u001b[0m\u001b[0mi\u001b[0m\u001b[0;34m]\u001b[0m\u001b[0;34m]\u001b[0m \u001b[0;34m=\u001b[0m \u001b[0mrewards\u001b[0m\u001b[0;34m[\u001b[0m\u001b[0mi\u001b[0m\u001b[0;34m]\u001b[0m\u001b[0;34m\u001b[0m\u001b[0m\n\u001b[1;32m     98\u001b[0m                 \u001b[0;32melse\u001b[0m\u001b[0;34m:\u001b[0m \u001b[0;31m# non-terminal state\u001b[0m\u001b[0;34m\u001b[0m\u001b[0m\n\u001b[0;32m---> 99\u001b[0;31m                     \u001b[0mtarget\u001b[0m\u001b[0;34m[\u001b[0m\u001b[0mi\u001b[0m\u001b[0;34m]\u001b[0m\u001b[0;34m[\u001b[0m\u001b[0mactions\u001b[0m\u001b[0;34m[\u001b[0m\u001b[0mi\u001b[0m\u001b[0;34m]\u001b[0m\u001b[0;34m]\u001b[0m \u001b[0;34m=\u001b[0m \u001b[0mrewards\u001b[0m\u001b[0;34m[\u001b[0m\u001b[0mi\u001b[0m\u001b[0;34m]\u001b[0m \u001b[0;34m+\u001b[0m \u001b[0mself\u001b[0m\u001b[0;34m.\u001b[0m\u001b[0mdiscount_factor\u001b[0m \u001b[0;34m*\u001b[0m \u001b[0mnp\u001b[0m\u001b[0;34m.\u001b[0m\u001b[0mmax\u001b[0m\u001b[0;34m(\u001b[0m\u001b[0mtarget_qval\u001b[0m\u001b[0;34m[\u001b[0m\u001b[0mi\u001b[0m\u001b[0;34m]\u001b[0m\u001b[0;34m)\u001b[0m\u001b[0;34m\u001b[0m\u001b[0m\n\u001b[0m\u001b[1;32m    100\u001b[0m \u001b[0;34m\u001b[0m\u001b[0m\n\u001b[1;32m    101\u001b[0m             \u001b[0;31m# 4. Fit your model and track the loss values\u001b[0m\u001b[0;34m\u001b[0m\u001b[0;34m\u001b[0m\u001b[0m\n",
      "\u001b[0;32m/usr/local/lib/python3.6/site-packages/numpy/core/fromnumeric.py\u001b[0m in \u001b[0;36mamax\u001b[0;34m(a, axis, out, keepdims)\u001b[0m\n\u001b[1;32m   2318\u001b[0m \u001b[0;34m\u001b[0m\u001b[0m\n\u001b[1;32m   2319\u001b[0m     return _methods._amax(a, axis=axis,\n\u001b[0;32m-> 2320\u001b[0;31m                           out=out, **kwargs)\n\u001b[0m\u001b[1;32m   2321\u001b[0m \u001b[0;34m\u001b[0m\u001b[0m\n\u001b[1;32m   2322\u001b[0m \u001b[0;34m\u001b[0m\u001b[0m\n",
      "\u001b[0;31mKeyboardInterrupt\u001b[0m: "
     ]
    }
   ],
   "source": [
    "for episode in range(Episodes):\n",
    "\n",
    "    # Write code here\n",
    "    # Call the environment\n",
    "    # Call all the initialised variables of the environment\n",
    "   \n",
    "    terminal_state=False\n",
    "    score=0  \n",
    "    env_initalized=env.reset()\n",
    "    state=env_initalized[2]\n",
    "    # episode_lenght=-1\n",
    "    while not terminal_state:\n",
    "        # episode_lenght+=1\n",
    "        # Write your code here\n",
    "        # 1. Pick epsilon-greedy action from possible actions for the current state\n",
    "        request_actions=env.requests(state)[1]\n",
    "        print (\"start\")\n",
    "        next_action=agent.get_action(env.state_encod_arch1(state),request_actions)\n",
    "        print (\"end\")\n",
    "        # 2. Evaluate your reward and next state\n",
    "        next_state,action,reward,is_done=env.next_state_func(state,next_action,Time_matrix)\n",
    "        key_state = tuple(env.state_encod_arch1(state))\n",
    "        save_tracking_states(key_state,action,reward)\n",
    "        if action[0]!=0:\n",
    "            # 3. Append the experience to the memory\n",
    "            agent.append_sample(env.state_encod_arch1(state),env.action_space.index(action),reward,env.state_encod_arch1(next_state),is_done)\n",
    "            # 4. Train the model by calling function agent.train_model\n",
    "            agent.train_model()\n",
    "            # 5. Keep a track of rewards, Q-values, loss\n",
    "            score+=reward\n",
    "        # swapping state with next_state\n",
    "        state=next_state\n",
    "        terminal_state=is_done\n",
    "    rewards_per_episode.append(score)\n",
    "    episodes.append(episode)\n",
    "    # print(episode_lenght)\n",
    "\n",
    "    \n",
    "    if agent.epsilon_max > agent.epsilon_min:\n",
    "        agent.epsilon_max=agent.epsilon_min+(agent.epsilon_max-agent.epsilon_min)*np.exp(-0.000001*episode)\n",
    "    \n",
    "    \n",
    "    if (episode+1) % 100 == 0:                \n",
    "        save_obj(agent.get_model_weights(), 'weights_per_100_epiosde')\n",
    "        print(\"episode {0}, reward {1}, memory_length {2}, epsilon {3}\".format(episode,\n",
    "                                                                         score,\n",
    "                                                                         len(agent.memory),\n",
    "                                                                         agent.epsilon_max))\n",
    "    \n",
    "        "
   ]
  },
  {
   "cell_type": "code",
   "execution_count": null,
   "metadata": {
    "colab": {},
    "colab_type": "code",
    "id": "x2DAQeqRoYKm"
   },
   "outputs": [],
   "source": [
    "save_obj(rewards_per_episode,\"rewards_\"+str(Episodes))"
   ]
  },
  {
   "cell_type": "code",
   "execution_count": null,
   "metadata": {
    "colab": {},
    "colab_type": "code",
    "id": "8JAOYrQsoYKp"
   },
   "outputs": [],
   "source": [
    "a = (0,0,1,0,0,0,0,0,0,0,0,0,0,0,0,0,1,0,0,0,0,0,0,0,0,0,0,0,0,0,0,0,1,0,0,0)\n",
    "plt.plot(States_track[a][(2,3)])\n",
    "plt.show()"
   ]
  },
  {
   "cell_type": "code",
   "execution_count": 24,
   "metadata": {
    "scrolled": false
   },
   "outputs": [
    {
     "name": "stdout",
     "output_type": "stream",
     "text": [
      "19\n",
      "16\n",
      "12\n",
      "8\n"
     ]
    }
   ],
   "source": [
    "for i in States_track.keys():\n",
    "    for j in States_track[i].keys():\n",
    "        print(len(States_track[i][j]))"
   ]
  },
  {
   "cell_type": "markdown",
   "metadata": {
    "colab_type": "text",
    "id": "Ua4RlIrxoYKs"
   },
   "source": [
    "### Tracking Convergence"
   ]
  },
  {
   "cell_type": "code",
   "execution_count": 18,
   "metadata": {
    "colab": {},
    "colab_type": "code",
    "id": "YguOUhnUoYKt"
   },
   "outputs": [],
   "source": [
    "#=============TODO:"
   ]
  },
  {
   "cell_type": "code",
   "execution_count": 19,
   "metadata": {
    "colab": {
     "base_uri": "https://localhost:8080/",
     "height": 361
    },
    "colab_type": "code",
    "executionInfo": {
     "elapsed": 1178,
     "status": "ok",
     "timestamp": 1550468646827,
     "user": {
      "displayName": "Saurabh Jain",
      "photoUrl": "",
      "userId": "11697964432067469210"
     },
     "user_tz": -330
    },
    "id": "XWMQHIOKoYKv",
    "outputId": "66187729-96d2-454a-d118-926fff07cdfc"
   },
   "outputs": [
    {
     "data": {
      "image/png": "[encoded data removed]",
      "text/plain": [
       "<matplotlib.figure.Figure at 0x119556ef0>"
      ]
     },
     "metadata": {
      "needs_background": "light"
     },
     "output_type": "display_data"
    }
   ],
   "source": [
    "with open('rewards_'+str(Episodes)+'.pkl', 'rb') as f:\n",
    "    rewards_per_episode = pickle.load(f)\n",
    "\n",
    "plt.plot(list(range(len(rewards_per_episode))), rewards_per_episode)\n",
    "plt.xlabel(\"episode number\")\n",
    "plt.ylabel(\"reward per episode\")\n",
    "plt.yscale('log')\n",
    "plt.show()"
   ]
  },
  {
   "cell_type": "code",
   "execution_count": 20,
   "metadata": {
    "colab": {
     "base_uri": "https://localhost:8080/",
     "height": 372
    },
    "colab_type": "code",
    "executionInfo": {
     "elapsed": 1089,
     "status": "ok",
     "timestamp": 1550469327169,
     "user": {
      "displayName": "Saurabh Jain",
      "photoUrl": "",
      "userId": "11697964432067469210"
     },
     "user_tz": -330
    },
    "id": "h8fU1rbWK1wL",
    "outputId": "765c9b6a-bd8a-403c-9d6f-d78b408f4ded"
   },
   "outputs": [
    {
     "data": {
      "image/png": "[encoded data removed]",
      "text/plain": [
       "<matplotlib.figure.Figure at 0x117dbfda0>"
      ]
     },
     "metadata": {
      "needs_background": "light"
     },
     "output_type": "display_data"
    }
   ],
   "source": [
    "# Tracking loss\n",
    "\n",
    "plt.plot(list(range(len(agent.track_loss))), agent.track_loss)\n",
    "plt.xlabel(\"episode number\")\n",
    "plt.ylabel(\"loss per episode\")\n",
    "plt.yscale('log')\n",
    "plt.show()"
   ]
  },
  {
   "cell_type": "code",
   "execution_count": null,
   "metadata": {
    "colab": {},
    "colab_type": "code",
    "id": "xmjA7Ab3oYKz"
   },
   "outputs": [],
   "source": []
  },
  {
   "cell_type": "markdown",
   "metadata": {
    "colab_type": "text",
    "id": "bWJqEnYOoYK1"
   },
   "source": [
    "#### Epsilon-decay sample function"
   ]
  },
  {
   "cell_type": "markdown",
   "metadata": {
    "colab_type": "text",
    "id": "QE3POwAqoYK3"
   },
   "source": [
    "<div class=\"alert alert-block alert-info\">\n",
    "Try building a similar epsilon-decay function for your model.\n",
    "</div>"
   ]
  },
  {
   "cell_type": "code",
   "execution_count": 26,
   "metadata": {
    "colab": {},
    "colab_type": "code",
    "id": "O80hUSsooYK4"
   },
   "outputs": [],
   "source": [
    "time = np.arange(0,10000)\n",
    "epsilon = []\n",
    "for i in range(0,10000):\n",
    "    epsilon.append(0 + (1 - 0) * np.exp(-0.0009*i))"
   ]
  },
  {
   "cell_type": "code",
   "execution_count": 27,
   "metadata": {
    "colab": {},
    "colab_type": "code",
    "id": "WD57QG83oYK8",
    "outputId": "a934b857-5c52-43c4-f83e-748a5173ace3"
   },
   "outputs": [
    {
     "data": {
      "image/png": "[encoded data removed]",
      "text/plain": [
       "<matplotlib.figure.Figure at 0x11c5f1588>"
      ]
     },
     "metadata": {
      "needs_background": "light"
     },
     "output_type": "display_data"
    }
   ],
   "source": [
    "plt.plot(time, epsilon)\n",
    "plt.show()"
   ]
  },
  {
   "cell_type": "code",
   "execution_count": 28,
   "metadata": {
    "colab": {},
    "colab_type": "code",
    "id": "eMp1MtQZoYLA"
   },
   "outputs": [
    {
     "data": {
      "image/png": "[encoded data removed]",
      "text/plain": [
       "<matplotlib.figure.Figure at 0x11a318278>"
      ]
     },
     "metadata": {
      "needs_background": "light"
     },
     "output_type": "display_data"
    }
   ],
   "source": [
    "time = np.arange(0,10000)\n",
    "epsilon_max = 1.0\n",
    "epsilon_decay = 0.0003\n",
    "epsilon_min = 0.00000001\n",
    "epsilon = []\n",
    "for i in range(0,10000):\n",
    "    epsilon_max=epsilon_min+(epsilon_max-epsilon_min)*np.exp(-0.000001*i)\n",
    "    epsilon.append(epsilon_max)  \n",
    "plt.plot(time, epsilon)\n",
    "plt.show() "
   ]
  },
  {
   "cell_type": "code",
   "execution_count": null,
   "metadata": {},
   "outputs": [],
   "source": []
  }
 ],
 "metadata": {
  "accelerator": "GPU",
  "colab": {
   "collapsed_sections": [],
   "name": "DQN_Agent_Arch1_sj.ipynb",
   "provenance": [],
   "toc_visible": true,
   "version": "0.3.2"
  },
  "kernelspec": {
   "display_name": "Python 3",
   "language": "python",
   "name": "python3"
  },
  "language_info": {
   "codemirror_mode": {
    "name": "ipython",
    "version": 3
   },
   "file_extension": ".py",
   "mimetype": "text/x-python",
   "name": "python",
   "nbconvert_exporter": "python",
   "pygments_lexer": "ipython3",
   "version": "3.6.5"
  }
 },
 "nbformat": 4,
 "nbformat_minor": 1
}
