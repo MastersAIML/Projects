{
 "cells": [
  {
   "cell_type": "markdown",
   "metadata": {
    "colab_type": "text",
    "id": "SwLA5vxioYJ9"
   },
   "source": [
    "### Cab-Driver Agent"
   ]
  },
  {
   "cell_type": "code",
   "execution_count": 3,
   "metadata": {
    "colab": {},
    "colab_type": "code",
    "id": "UOxSc45yoYJ-"
   },
   "outputs": [
    {
     "name": "stderr",
     "output_type": "stream",
     "text": [
      "/usr/local/lib/python3.6/site-packages/h5py/__init__.py:36: FutureWarning: Conversion of the second argument of issubdtype from `float` to `np.floating` is deprecated. In future, it will be treated as `np.float64 == np.dtype(float).type`.\n",
      "  from ._conv import register_converters as _register_converters\n",
      "Using TensorFlow backend.\n"
     ]
    }
   ],
   "source": [
    "# Importing libraries\n",
    "import numpy as np\n",
    "import random\n",
    "import math\n",
    "from collections import deque\n",
    "import collections\n",
    "import pickle\n",
    "import numpy as np\n",
    "# for building DQN model\n",
    "from keras import layers\n",
    "from keras import Sequential\n",
    "from keras.layers import Dense, Activation, Flatten\n",
    "from keras.optimizers import Adam\n",
    "\n",
    "# for plotting graphs\n",
    "import matplotlib.pyplot as plt\n",
    "\n",
    "# Import the environment\n",
    "from Env import CabDriver"
   ]
  },
  {
   "cell_type": "markdown",
   "metadata": {
    "colab_type": "text",
    "id": "MBuHcVj6oYKE"
   },
   "source": [
    "#### Defining Time Matrix"
   ]
  },
  {
   "cell_type": "code",
   "execution_count": 4,
   "metadata": {
    "colab": {},
    "colab_type": "code",
    "id": "05hySmTaoYKF"
   },
   "outputs": [],
   "source": [
    "# Loading the time matrix provided\n",
    "Time_matrix = np.load(\"TM.npy\")"
   ]
  },
  {
   "cell_type": "markdown",
   "metadata": {
    "colab_type": "text",
    "id": "KIB9u08AoYKN"
   },
   "source": [
    "#### Tracking the state-action pairs for checking convergence\n"
   ]
  },
  {
   "cell_type": "code",
   "execution_count": 5,
   "metadata": {
    "colab": {},
    "colab_type": "code",
    "id": "QNzxeyFJoYKN"
   },
   "outputs": [],
   "source": [
    "States_track = collections.defaultdict(dict)"
   ]
  },
  {
   "cell_type": "code",
   "execution_count": 6,
   "metadata": {
    "colab": {},
    "colab_type": "code",
    "id": "t2TLYRO9oYKR"
   },
   "outputs": [],
   "source": [
    "# Initialise states to be tracked\n",
    "def initialise_tracking_states():\n",
    "    sample_q_values = [\n",
    "                   ((0,1,0,0,0,0,0,0,0,0,0,0,0,0,1,0,0,0,0,0,0,0,0,0,0,0,0,0,0,1,0,0,0,0,0,0),(1,3)),\n",
    "                   ((0,0,0,1,0,0,0,0,0,0,0,0,0,0,0,1,0,0,0,0,0,0,0,0,0,0,0,0,0,0,1,0,0,0,0,0),(4,1)),\n",
    "                   ((0,0,1,0,0,0,0,0,0,0,0,0,0,0,0,0,1,0,0,0,0,0,0,0,0,0,0,0,0,0,0,0,1,0,0,0),(2,3)),\n",
    "                   ((1,0,0,0,0,0,0,0,0,0,0,0,0,0,0,0,0,1,0,0,0,0,0,0,0,0,0,0,0,0,0,0,0,0,0,1),(1,4))]    \n",
    "    for q_values in sample_q_values:\n",
    "        state = q_values[0] \n",
    "        action = q_values[1]      \n",
    "        States_track[state][action] = []  "
   ]
  },
  {
   "cell_type": "code",
   "execution_count": 7,
   "metadata": {
    "colab": {},
    "colab_type": "code",
    "id": "BZrW_ilpoYKU"
   },
   "outputs": [],
   "source": [
    "initialise_tracking_states()"
   ]
  },
  {
   "cell_type": "code",
   "execution_count": 8,
   "metadata": {},
   "outputs": [],
   "source": [
    "def save_tracking_states(state,action,rewards):\n",
    "    if state in States_track.keys():\n",
    "        if action in States_track[state].keys():\n",
    "            States_track[state][action].append(rewards)"
   ]
  },
  {
   "cell_type": "code",
   "execution_count": 9,
   "metadata": {
    "colab": {},
    "colab_type": "code",
    "id": "AGiwBxAvoYKW"
   },
   "outputs": [],
   "source": [
    "#Defining a function to save the Q-dictionary as a pickle file\n",
    "def save_obj(obj, name ):\n",
    "    with open(name + '.pkl', 'wb') as f:\n",
    "        pickle.dump(obj, f, pickle.HIGHEST_PROTOCOL)"
   ]
  },
  {
   "cell_type": "markdown",
   "metadata": {
    "colab_type": "text",
    "id": "22n5X2oNoYKY"
   },
   "source": [
    "### Agent Class\n",
    "\n",
    "If you are using this framework, you need to fill the following to complete the following code block:\n",
    "1. State and Action Size\n",
    "2. Hyperparameters\n",
    "3. Create a neural-network model in function 'build_model()'\n",
    "4. Define epsilon-greedy strategy in function 'get_action()'\n",
    "5. Complete the function 'append_sample()'. This function appends the recent experience tuple <state, action, reward, new-state> to the memory\n",
    "6. Complete the 'train_model()' function with following logic:\n",
    "   - If the memory size is greater than mini-batch size, you randomly sample experiences from memory as per the mini-batch size and do the following:\n",
    "      - Initialise your input and output batch for training the model\n",
    "      - Calculate the target Q value for each sample: reward + gamma*max(Q(s'a,))\n",
    "      - Get Q(s', a) values from the last trained model\n",
    "      - Update the input batch as your encoded state and output batch as your Q-values\n",
    "      - Then fit your DQN model using the updated input and output batch."
   ]
  },
  {
   "cell_type": "code",
   "execution_count": 10,
   "metadata": {
    "colab": {},
    "colab_type": "code",
    "id": "JsDXdezeoYKc"
   },
   "outputs": [],
   "source": [
    "class DQNAgent:\n",
    "    def __init__(self, state_size, action_size):\n",
    "        # Define size of state and action\n",
    "        self.state_size = state_size\n",
    "        self.action_size = action_size\n",
    "        \n",
    "        # Tracking the loss\n",
    "        self.track_loss=[]\n",
    "\n",
    "        # Write here: Specify you hyper parameters for the DQN\n",
    "        self.discount_factor = 0.95\n",
    "        self.learning_rate = 0.001 \n",
    "        self.epsilon_max = 1.0\n",
    "        self.epsilon_decay = 0.0003\n",
    "        self.epsilon_min = 0.00000001\n",
    "\n",
    "        self.batch_size = 32 \n",
    "\n",
    "        # create replay memory using deque\n",
    "        self.memory = deque(maxlen=2000)\n",
    "\n",
    "        # create main model and target model\n",
    "        self.model = self.build_model()\n",
    "        \n",
    "        \n",
    "    # approximate Q function using Neural Network\n",
    "    def build_model(self):\n",
    "        model = Sequential()\n",
    "        # Write your code here: Add layers to your neural nets       \n",
    "        # hidden layers\n",
    "        model.add(Dense(256, input_dim=self.state_size, activation='relu', kernel_initializer='he_uniform'))\n",
    "        model.add(Dense(150, activation='relu', kernel_initializer='he_uniform'))\n",
    "        model.add(Dense(100, activation='relu', kernel_initializer='he_uniform'))\n",
    "        # the output layer: output is of size num_actions\n",
    "        model.add(Dense(self.action_size, activation='relu', kernel_initializer='he_uniform'))\n",
    "        model.compile(loss='mse',optimizer=Adam(lr=self.learning_rate))\n",
    "        model.summary\n",
    "        return model\n",
    "\n",
    "\n",
    "\n",
    "    def get_action(self, state,request_actions):\n",
    "    # Write your code here:\n",
    "    # get action from model using epsilon-greedy policy\n",
    "    # Decay in ε after we generate each sample from the environment       \n",
    "        if np.random.rand() <= self.epsilon_max:\n",
    "            # explore: choose a random action from all possible actions\n",
    "            # in case of cartpole this will randomly choose an action between 0 and 1\n",
    "            return request_actions[random.randrange(len(request_actions))]\n",
    "        else:\n",
    "            # choose the action with the highest q(s, a)\n",
    "            # the first index corresponds to the batch size, so\n",
    "            # reshape state to (1, state_size) so that the first index corresponds to the batch size\n",
    "            state = state.reshape(1, self.state_size)\n",
    "            q_value = self.model.predict(state)\n",
    "            return np.argmax(q_value[0])    \n",
    "\n",
    "    def append_sample(self, state, action, reward, next_state,done):\n",
    "    # Write your code here:\n",
    "    # save sample <s,a,r,s',done> to the replay memory\n",
    "        self.memory.append((state, action, reward, next_state,done))\n",
    "    \n",
    "    \n",
    "    # pick samples randomly from replay memory (with batch_size) and train the network\n",
    "    def train_model(self):\n",
    "        \n",
    "        if len(self.memory) > self.batch_size:\n",
    "            # Sample batch from the memory\n",
    "            mini_batch = random.sample(self.memory, self.batch_size)\n",
    "            update_output = np.zeros((self.batch_size, self.state_size))# write here\n",
    "            update_input = np.zeros((self.batch_size, self.state_size))# write here\n",
    "            \n",
    "            actions, rewards, done = [], [],[]\n",
    "            \n",
    "            for i in range(self.batch_size):\n",
    "                state, action, reward, next_state,done_boolean = mini_batch[i]\n",
    "                update_input[i] = state\n",
    "                actions.append(action)\n",
    "                rewards.append(reward)\n",
    "                update_output[i] = next_state\n",
    "                done.append(done_boolean)\n",
    "                \n",
    "            # Write your code from here\n",
    "            # 1. Predict the target from earlier model\n",
    "            target = self.model.predict(update_input)\n",
    "            \n",
    "            # 2. Get the target for the Q-network\n",
    "            target_qval = self.model.predict(update_output)\n",
    "            #3. Update your 'update_output' and 'update_input' batch\n",
    "            for i in range(self.batch_size):\n",
    "                if done[i]:\n",
    "                    target[i][actions[i]] = rewards[i]\n",
    "                else: # non-terminal state\n",
    "                    target[i][actions[i]] = rewards[i] + self.discount_factor * np.max(target_qval[i])\n",
    "\n",
    "            # 4. Fit your model and track the loss values\n",
    "            history=self.model.fit(update_input, target, batch_size=self.batch_size, epochs=1, verbose=0)\n",
    "            self.track_loss.append(history.history['loss'])\n",
    "\n",
    "\n",
    "    def get_model_weights(self):\n",
    "        return self.model.get_weights()\n"
   ]
  },
  {
   "cell_type": "code",
   "execution_count": 12,
   "metadata": {
    "colab": {},
    "colab_type": "code",
    "id": "7fjr8TRgoYKf"
   },
   "outputs": [],
   "source": [
    "Episodes=1000\n",
    "env=CabDriver()\n",
    "action_size=env.action_size\n",
    "state_size=env.state_size\n",
    "#Call the DQN agent\n",
    "agent=DQNAgent(state_size=state_size,action_size=action_size)\n",
    "rewards_per_episode, episodes = [], []"
   ]
  },
  {
   "cell_type": "markdown",
   "metadata": {
    "colab_type": "text",
    "id": "NxxXu2rXoYKh"
   },
   "source": [
    "### DQN block"
   ]
  },
  {
   "cell_type": "code",
   "execution_count": 13,
   "metadata": {
    "colab": {
     "base_uri": "https://localhost:8080/",
     "height": 85017
    },
    "colab_type": "code",
    "executionInfo": {
     "elapsed": 33670,
     "status": "ok",
     "timestamp": 1550468626608,
     "user": {
      "displayName": "Saurabh Jain",
      "photoUrl": "",
      "userId": "11697964432067469210"
     },
     "user_tz": -330
    },
    "id": "BhTw47ZKoYKj",
    "outputId": "fff3f6f9-be63-4459-f9ea-a56a051d03e5",
    "scrolled": false
   },
   "outputs": [
    {
     "name": "stdout",
     "output_type": "stream",
     "text": [
      "episode 99, reward 3.0, memory_length 2000, epsilon 0.9950622311098061\n",
      "episode 199, reward -657.0, memory_length 2000, epsilon 0.9802966982722767\n",
      "episode 299, reward -577.0, memory_length 2000, epsilon 0.956140892649477\n",
      "episode 399, reward -242.0, memory_length 2000, epsilon 0.9233009888864626\n",
      "episode 499, reward -104.0, memory_length 2000, epsilon 0.8827175555633945\n",
      "episode 599, reward 162.0, memory_length 2000, epsilon 0.8355208317104077\n",
      "episode 699, reward 669.0, memory_length 2000, epsilon 0.7829785349467155\n",
      "episode 799, reward 469.0, memory_length 2000, epsilon 0.7264395575237954\n",
      "episode 899, reward 915.0, memory_length 2000, epsilon 0.6672770212921247\n",
      "episode 999, reward 1306.0, memory_length 2000, epsilon 0.606834004803121\n"
     ]
    }
   ],
   "source": [
    "for episode in range(Episodes):\n",
    "\n",
    "    # Write code here\n",
    "    # Call the environment\n",
    "    # Call all the initialised variables of the environment\n",
    "   \n",
    "    terminal_state=False\n",
    "    score=0  \n",
    "    env_initalized=env.reset()\n",
    "    state=env_initalized[2]\n",
    "    # episode_lenght=-1\n",
    "    while not terminal_state:\n",
    "        # episode_lenght+=1\n",
    "        # Write your code here\n",
    "        # 1. Pick epsilon-greedy action from possible actions for the current state\n",
    "        request_actions=env.requests(state)[1]\n",
    "        next_action=agent.get_action(env.state_encod_arch1(state),request_actions)  \n",
    "        # 2. Evaluate your reward and next state\n",
    "        next_state,action,reward,is_done=env.next_state_func(state,next_action,Time_matrix)\n",
    "        key_state = tuple(env.state_encod_arch1(state))\n",
    "        save_tracking_states(key_state,action,reward)\n",
    "        if action[0]!=0:\n",
    "            # 3. Append the experience to the memory\n",
    "            agent.append_sample(env.state_encod_arch1(state),env.action_space.index(action),reward,env.state_encod_arch1(next_state),is_done)\n",
    "            # 4. Train the model by calling function agent.train_model\n",
    "            agent.train_model()\n",
    "            # 5. Keep a track of rewards, Q-values, loss\n",
    "            score+=reward\n",
    "        # swapping state with next_state\n",
    "        state=next_state\n",
    "        terminal_state=is_done\n",
    "    rewards_per_episode.append(score)\n",
    "    episodes.append(episode)\n",
    "    # print(episode_lenght)\n",
    "\n",
    "    \n",
    "    if agent.epsilon_max > agent.epsilon_min:\n",
    "        agent.epsilon_max=agent.epsilon_min+(agent.epsilon_max-agent.epsilon_min)*np.exp(-0.000001*episode)\n",
    "    \n",
    "    \n",
    "    if (episode+1) % 100 == 0:                \n",
    "        save_obj(agent.get_model_weights(), 'weights_per_100_epiosde')\n",
    "        print(\"episode {0}, reward {1}, memory_length {2}, epsilon {3}\".format(episode,\n",
    "                                                                         score,\n",
    "                                                                         len(agent.memory),\n",
    "                                                                         agent.epsilon_max))\n",
    "    \n",
    "        "
   ]
  },
  {
   "cell_type": "code",
   "execution_count": 15,
   "metadata": {
    "colab": {},
    "colab_type": "code",
    "id": "x2DAQeqRoYKm"
   },
   "outputs": [],
   "source": [
    "save_obj(rewards_per_episode,\"rewards_\"+str(Episodes))"
   ]
  },
  {
   "cell_type": "code",
   "execution_count": 16,
   "metadata": {
    "colab": {},
    "colab_type": "code",
    "id": "8JAOYrQsoYKp"
   },
   "outputs": [
    {
     "data": {
      "image/png": "[encoded data removed]",
      "text/plain": [
       "<matplotlib.figure.Figure at 0x117df84a8>"
      ]
     },
     "metadata": {
      "needs_background": "light"
     },
     "output_type": "display_data"
    }
   ],
   "source": [
    "a = (0,0,1,0,0,0,0,0,0,0,0,0,0,0,0,0,1,0,0,0,0,0,0,0,0,0,0,0,0,0,0,0,1,0,0,0)\n",
    "plt.plot(States_track[a][(2,3)])\n",
    "plt.show()"
   ]
  },
  {
   "cell_type": "code",
   "execution_count": 17,
   "metadata": {
    "scrolled": false
   },
   "outputs": [
    {
     "name": "stdout",
     "output_type": "stream",
     "text": [
      "11\n",
      "7\n",
      "18\n",
      "0\n"
     ]
    }
   ],
   "source": [
    "for i in States_track.keys():\n",
    "    for j in States_track[i].keys():\n",
    "        print(len(States_track[i][j]))"
   ]
  },
  {
   "cell_type": "markdown",
   "metadata": {
    "colab_type": "text",
    "id": "Ua4RlIrxoYKs"
   },
   "source": [
    "### Tracking Convergence"
   ]
  },
  {
   "cell_type": "code",
   "execution_count": 18,
   "metadata": {
    "colab": {},
    "colab_type": "code",
    "id": "YguOUhnUoYKt"
   },
   "outputs": [],
   "source": [
    "#=============TODO:"
   ]
  },
  {
   "cell_type": "code",
   "execution_count": 19,
   "metadata": {
    "colab": {
     "base_uri": "https://localhost:8080/",
     "height": 361
    },
    "colab_type": "code",
    "executionInfo": {
     "elapsed": 1178,
     "status": "ok",
     "timestamp": 1550468646827,
     "user": {
      "displayName": "Saurabh Jain",
      "photoUrl": "",
      "userId": "11697964432067469210"
     },
     "user_tz": -330
    },
    "id": "XWMQHIOKoYKv",
    "outputId": "66187729-96d2-454a-d118-926fff07cdfc"
   },
   "outputs": [
    {
     "data": {
      "image/png": "[encoded data removed]",
      "text/plain": [
       "<matplotlib.figure.Figure at 0x119556ef0>"
      ]
     },
     "metadata": {
      "needs_background": "light"
     },
     "output_type": "display_data"
    }
   ],
   "source": [
    "with open('rewards_'+str(Episodes)+'.pkl', 'rb') as f:\n",
    "    rewards_per_episode = pickle.load(f)\n",
    "\n",
    "plt.plot(list(range(len(rewards_per_episode))), rewards_per_episode)\n",
    "plt.xlabel(\"episode number\")\n",
    "plt.ylabel(\"reward per episode\")\n",
    "plt.yscale('log')\n",
    "plt.show()"
   ]
  },
  {
   "cell_type": "code",
   "execution_count": 20,
   "metadata": {
    "colab": {
     "base_uri": "https://localhost:8080/",
     "height": 372
    },
    "colab_type": "code",
    "executionInfo": {
     "elapsed": 1089,
     "status": "ok",
     "timestamp": 1550469327169,
     "user": {
      "displayName": "Saurabh Jain",
      "photoUrl": "",
      "userId": "11697964432067469210"
     },
     "user_tz": -330
    },
    "id": "h8fU1rbWK1wL",
    "outputId": "765c9b6a-bd8a-403c-9d6f-d78b408f4ded"
   },
   "outputs": [
    {
     "data": {
      "image/png": "[encoded data removed]",
      "text/plain": [
       "<matplotlib.figure.Figure at 0x117dbfda0>"
      ]
     },
     "metadata": {
      "needs_background": "light"
     },
     "output_type": "display_data"
    }
   ],
   "source": [
    "# Tracking loss\n",
    "\n",
    "plt.plot(list(range(len(agent.track_loss))), agent.track_loss)\n",
    "plt.xlabel(\"episode number\")\n",
    "plt.ylabel(\"loss per episode\")\n",
    "plt.yscale('log')\n",
    "plt.show()"
   ]
  },
  {
   "cell_type": "code",
   "execution_count": null,
   "metadata": {
    "colab": {},
    "colab_type": "code",
    "id": "xmjA7Ab3oYKz"
   },
   "outputs": [],
   "source": []
  },
  {
   "cell_type": "markdown",
   "metadata": {
    "colab_type": "text",
    "id": "bWJqEnYOoYK1"
   },
   "source": [
    "#### Epsilon-decay sample function"
   ]
  },
  {
   "cell_type": "markdown",
   "metadata": {
    "colab_type": "text",
    "id": "QE3POwAqoYK3"
   },
   "source": [
    "<div class=\"alert alert-block alert-info\">\n",
    "Try building a similar epsilon-decay function for your model.\n",
    "</div>"
   ]
  },
  {
   "cell_type": "code",
   "execution_count": 26,
   "metadata": {
    "colab": {},
    "colab_type": "code",
    "id": "O80hUSsooYK4"
   },
   "outputs": [],
   "source": [
    "time = np.arange(0,10000)\n",
    "epsilon = []\n",
    "for i in range(0,10000):\n",
    "    epsilon.append(0 + (1 - 0) * np.exp(-0.0009*i))"
   ]
  },
  {
   "cell_type": "code",
   "execution_count": 27,
   "metadata": {
    "colab": {},
    "colab_type": "code",
    "id": "WD57QG83oYK8",
    "outputId": "a934b857-5c52-43c4-f83e-748a5173ace3"
   },
   "outputs": [
    {
     "data": {
      "image/png": "[encoded data removed]",
      "text/plain": [
       "<matplotlib.figure.Figure at 0x11c5f1588>"
      ]
     },
     "metadata": {
      "needs_background": "light"
     },
     "output_type": "display_data"
    }
   ],
   "source": [
    "plt.plot(time, epsilon)\n",
    "plt.show()"
   ]
  },
  {
   "cell_type": "code",
   "execution_count": 28,
   "metadata": {
    "colab": {},
    "colab_type": "code",
    "id": "eMp1MtQZoYLA"
   },
   "outputs": [
    {
     "data": {
      "image/png": "[encoded data removed]",
      "text/plain": [
       "<matplotlib.figure.Figure at 0x11a318278>"
      ]
     },
     "metadata": {
      "needs_background": "light"
     },
     "output_type": "display_data"
    }
   ],
   "source": [
    "time = np.arange(0,10000)\n",
    "epsilon_max = 1.0\n",
    "epsilon_decay = 0.0003\n",
    "epsilon_min = 0.00000001\n",
    "epsilon = []\n",
    "for i in range(0,10000):\n",
    "    epsilon_max=epsilon_min+(epsilon_max-epsilon_min)*np.exp(-0.000001*i)\n",
    "    epsilon.append(epsilon_max)  \n",
    "plt.plot(time, epsilon)\n",
    "plt.show() "
   ]
  },
  {
   "cell_type": "code",
   "execution_count": null,
   "metadata": {},
   "outputs": [],
   "source": []
  }
 ],
 "metadata": {
  "accelerator": "GPU",
  "colab": {
   "collapsed_sections": [],
   "name": "DQN_Agent_Arch1_sj.ipynb",
   "provenance": [],
   "toc_visible": true,
   "version": "0.3.2"
  },
  "kernelspec": {
   "display_name": "Python 3",
   "language": "python",
   "name": "python3"
  },
  "language_info": {
   "codemirror_mode": {
    "name": "ipython",
    "version": 3
   },
   "file_extension": ".py",
   "mimetype": "text/x-python",
   "name": "python",
   "nbconvert_exporter": "python",
   "pygments_lexer": "ipython3",
   "version": "3.6.5"
  }
 },
 "nbformat": 4,
 "nbformat_minor": 1
}
